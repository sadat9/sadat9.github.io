{
 "cells": [
  {
   "cell_type": "code",
   "execution_count": null,
   "metadata": {
    "colab": {
     "base_uri": "https://localhost:8080/"
    },
    "executionInfo": {
     "elapsed": 33176,
     "status": "ok",
     "timestamp": 1752567999989,
     "user": {
      "displayName": "sadat rahman",
      "userId": "00315844507455805433"
     },
     "user_tz": -360
    },
    "id": "cd1Xzm1_dq3U",
    "outputId": "fdfa33e5-1a9f-48cf-9008-ca364ecef19b"
   },
   "outputs": [
    {
     "name": "stdout",
     "output_type": "stream",
     "text": [
      "Mounted at /content/drive\n"
     ]
    }
   ],
   "source": [
    "from google.colab import drive\n",
    "drive.mount('/content/drive')"
   ]
  },
  {
   "cell_type": "code",
   "execution_count": null,
   "metadata": {
    "id": "EGEnPZH8d6jB"
   },
   "outputs": [],
   "source": [
    "from zipfile import ZipFile\n",
    "zipFilePath='/content/drive/MyDrive/DIP/datasetmain.zip' # place the zip file link here\n",
    "zipFileObj=ZipFile(file=zipFilePath)\n",
    "zipFileObj.extractall('/tmp')"
   ]
  },
  {
   "cell_type": "code",
   "execution_count": null,
   "metadata": {
    "colab": {
     "base_uri": "https://localhost:8080/",
     "height": 315
    },
    "executionInfo": {
     "elapsed": 123,
     "status": "error",
     "timestamp": 1752568014519,
     "user": {
      "displayName": "sadat rahman",
      "userId": "00315844507455805433"
     },
     "user_tz": -360
    },
    "id": "5ZdPWmDsspdP",
    "outputId": "5c9fcd49-e94c-4d68-844b-5dd0881d6fd9"
   },
   "outputs": [
    {
     "ename": "FileNotFoundError",
     "evalue": "[Errno 2] No such file or directory: '/tmp/normal-pylorus'",
     "output_type": "error",
     "traceback": [
      "\u001b[0;31m---------------------------------------------------------------------------\u001b[0m",
      "\u001b[0;31mFileNotFoundError\u001b[0m                         Traceback (most recent call last)",
      "\u001b[0;32m/tmp/ipython-input-3-1490597902.py\u001b[0m in \u001b[0;36m<cell line: 0>\u001b[0;34m()\u001b[0m\n\u001b[1;32m     55\u001b[0m \u001b[0mtest_folder\u001b[0m \u001b[0;34m=\u001b[0m \u001b[0;34m'/tmp/test'\u001b[0m\u001b[0;34m\u001b[0m\u001b[0;34m\u001b[0m\u001b[0m\n\u001b[1;32m     56\u001b[0m \u001b[0;34m\u001b[0m\u001b[0m\n\u001b[0;32m---> 57\u001b[0;31m \u001b[0msplit_data\u001b[0m\u001b[0;34m(\u001b[0m\u001b[0msource_folder1\u001b[0m\u001b[0;34m,\u001b[0m \u001b[0msource_folder2\u001b[0m\u001b[0;34m,\u001b[0m \u001b[0mtrain_folder\u001b[0m\u001b[0;34m,\u001b[0m \u001b[0mtest_folder\u001b[0m\u001b[0;34m,\u001b[0m \u001b[0msplit_ratio\u001b[0m\u001b[0;34m=\u001b[0m\u001b[0;36m0.8\u001b[0m\u001b[0;34m)\u001b[0m\u001b[0;34m\u001b[0m\u001b[0;34m\u001b[0m\u001b[0m\n\u001b[0m",
      "\u001b[0;32m/tmp/ipython-input-3-1490597902.py\u001b[0m in \u001b[0;36msplit_data\u001b[0;34m(source_folder1, source_folder2, train_folder, test_folder, split_ratio)\u001b[0m\n\u001b[1;32m     14\u001b[0m \u001b[0;34m\u001b[0m\u001b[0m\n\u001b[1;32m     15\u001b[0m     \u001b[0;31m# List files from both source folders\u001b[0m\u001b[0;34m\u001b[0m\u001b[0;34m\u001b[0m\u001b[0m\n\u001b[0;32m---> 16\u001b[0;31m     \u001b[0mfiles_folder1\u001b[0m \u001b[0;34m=\u001b[0m \u001b[0mos\u001b[0m\u001b[0;34m.\u001b[0m\u001b[0mlistdir\u001b[0m\u001b[0;34m(\u001b[0m\u001b[0msource_folder1\u001b[0m\u001b[0;34m)\u001b[0m\u001b[0;34m\u001b[0m\u001b[0;34m\u001b[0m\u001b[0m\n\u001b[0m\u001b[1;32m     17\u001b[0m     \u001b[0mfiles_folder2\u001b[0m \u001b[0;34m=\u001b[0m \u001b[0mos\u001b[0m\u001b[0;34m.\u001b[0m\u001b[0mlistdir\u001b[0m\u001b[0;34m(\u001b[0m\u001b[0msource_folder2\u001b[0m\u001b[0;34m)\u001b[0m\u001b[0;34m\u001b[0m\u001b[0;34m\u001b[0m\u001b[0m\n\u001b[1;32m     18\u001b[0m \u001b[0;34m\u001b[0m\u001b[0m\n",
      "\u001b[0;31mFileNotFoundError\u001b[0m: [Errno 2] No such file or directory: '/tmp/normal-pylorus'"
     ]
    }
   ],
   "source": [
    "import os\n",
    "import random\n",
    "import shutil\n",
    "\n",
    "def split_data(source_folder1, source_folder2, train_folder, test_folder, split_ratio=0.8):\n",
    "    # Create train and test folders if they don't exist\n",
    "    for folder in [train_folder, test_folder]:\n",
    "        if not os.path.exists(folder):\n",
    "            os.makedirs(folder)\n",
    "        if not os.path.exists(folder+'/normal-pylorus'):\n",
    "            os.makedirs(folder+'/normal-pylorus')\n",
    "        if not os.path.exists(folder+'/polyps'):\n",
    "            os.makedirs(folder+'/polyps')\n",
    "\n",
    "    # List files from both source folders\n",
    "    files_folder1 = os.listdir(source_folder1)\n",
    "    files_folder2 = os.listdir(source_folder2)\n",
    "\n",
    "    # Calculate the number of files to move to the train folder\n",
    "    num_train_folder1 = int(split_ratio * len(files_folder1))\n",
    "    num_train_folder2 = int(split_ratio * len(files_folder2))\n",
    "\n",
    "    # Randomly select files for the train folder\n",
    "    train_files_folder1 = random.sample(files_folder1, num_train_folder1)\n",
    "    train_files_folder2 = random.sample(files_folder2, num_train_folder2)\n",
    "\n",
    "    # Move files to the train folder\n",
    "    for filename in train_files_folder1:\n",
    "        source_path = os.path.join(source_folder1, filename)\n",
    "        destination_path = os.path.join(f'{train_folder}/normal-pylorus', filename)\n",
    "        shutil.copy2(source_path, destination_path)\n",
    "\n",
    "    for filename in train_files_folder2:\n",
    "        source_path = os.path.join(source_folder2, filename)\n",
    "        destination_path = os.path.join(f'{train_folder}/polyps', filename)\n",
    "        shutil.copy2(source_path, destination_path)\n",
    "\n",
    "    # Move the remaining files to the test folder\n",
    "    for filename in files_folder1:\n",
    "        if filename not in train_files_folder1:\n",
    "            source_path = os.path.join(source_folder1, filename)\n",
    "            destination_path = os.path.join(f'{test_folder}/normal-pylorus', filename)\n",
    "            shutil.copy2(source_path, destination_path)\n",
    "\n",
    "    for filename in files_folder2:\n",
    "        if filename not in train_files_folder2:\n",
    "            source_path = os.path.join(source_folder2, filename)\n",
    "            destination_path = os.path.join(f'{test_folder}/polyps', filename)\n",
    "            shutil.copy2(source_path, destination_path)\n",
    "\n",
    "# Example usage\n",
    "source_folder1 = '/tmp/normal-pylorus'\n",
    "source_folder2 = '/tmp/polyps'\n",
    "train_folder = '/tmp/train'\n",
    "test_folder = '/tmp/test'\n",
    "\n",
    "split_data(source_folder1, source_folder2, train_folder, test_folder, split_ratio=0.8)"
   ]
  },
  {
   "cell_type": "code",
   "execution_count": null,
   "metadata": {
    "id": "X4TZhDmqdP8k"
   },
   "outputs": [],
   "source": [
    "import numpy as np # linear algebra\n",
    "import pandas as pd # data processing, CSV file I/O (e.g. pd.read_csv)\n",
    "import cv2\n",
    "import random\n",
    "from tqdm import tqdm\n",
    "from sklearn.metrics import roc_curve, auc\n",
    "import matplotlib.pyplot as plt\n",
    "from tensorflow.keras.preprocessing.image import ImageDataGenerator\n",
    "import numpy as np\n",
    "import matplotlib.pyplot as plt\n",
    "from itertools import cycle\n",
    "from sklearn import svm, datasets\n",
    "from sklearn.metrics import roc_curve, auc\n",
    "from sklearn.model_selection import train_test_split\n",
    "from sklearn.preprocessing import label_binarize\n",
    "from sklearn.multiclass import OneVsRestClassifier\n",
    "from scipy import interp\n",
    "from sklearn.metrics import roc_auc_score\n",
    "import os\n",
    "for dirname, _, filenames in os.walk('/kaggle/input'):\n",
    "    for filename in filenames:\n",
    "        os.path.join(dirname, filename)\n",
    "df = pd.read_csv(\"/kaggle/input/ocular-disease-recognition-odir5k/full_df.csv\")\n",
    "df.head()\n"
   ]
  },
  {
   "cell_type": "code",
   "execution_count": null,
   "metadata": {
    "colab": {
     "base_uri": "https://localhost:8080/"
    },
    "executionInfo": {
     "elapsed": 19,
     "status": "ok",
     "timestamp": 1752568154676,
     "user": {
      "displayName": "sadat rahman",
      "userId": "00315844507455805433"
     },
     "user_tz": -360
    },
    "id": "d052d937",
    "outputId": "ce01bfa1-562b-4827-aac7-41735db27ea0"
   },
   "outputs": [
    {
     "name": "stdout",
     "output_type": "stream",
     "text": [
      "['python-languageserver-cancellation', 'initgoogle_syslog_dir.0', 'language_service.99274c7d601f.root.log.INFO.20250715-082606.303', 'pyright-1010-S2b9s7hb1pyI', 'drive.99274c7d601f.root.log.ERROR.20250715-082637.544', 'pyright-1010-DHMq0VhkaOdR', 'directoryprefetcher_binary.99274c7d601f.root.log.INFO.20250715-082639.625', 'debugger_6h08351gy', 'drive.ERROR', 'drive.99274c7d601f.root.log.INFO.20250715-082631.443', 'drive.99274c7d601f.root.log.WARNING.20250715-082632.443', 'drive.99274c7d601f.root.log.INFO.20250715-082631.432', 'language_service.INFO', 'datasetmain', 'test', 'colab_runtime.sock', 'drive.99274c7d601f.root.log.INFO.20250715-082637.432', 'pyright-313-4o9DV35IKgFq', 'drive.99274c7d601f.root.log.WARNING.20250715-082637.544', 'language_service.99274c7d601f.root.log.INFO.20250715-082749.1003', 'drive.WARNING', 'drivefs_ipc.0', 'drivefs_ipc.0_shell', 'dap_multiplexer.INFO', 'train', 'drive.99274c7d601f.root.log.ERROR.20250715-082632.443', 'dap_multiplexer.99274c7d601f.root.log.INFO.20250715-082526.88', 'drive.99274c7d601f.root.log.INFO.20250715-082637.544', 'pyright-313-uAQWOVORdYlK', 'drive.INFO', 'directoryprefetcher_binary.INFO']\n"
     ]
    }
   ],
   "source": [
    "import os\n",
    "print(os.listdir('/tmp'))"
   ]
  },
  {
   "cell_type": "code",
   "execution_count": null,
   "metadata": {
    "colab": {
     "base_uri": "https://localhost:8080/"
    },
    "executionInfo": {
     "elapsed": 92,
     "status": "ok",
     "timestamp": 1752568160132,
     "user": {
      "displayName": "sadat rahman",
      "userId": "00315844507455805433"
     },
     "user_tz": -360
    },
    "id": "88040fc7",
    "outputId": "7516a725-fdaa-4953-dce1-3f134a298c7e"
   },
   "outputs": [
    {
     "name": "stdout",
     "output_type": "stream",
     "text": [
      "['test', 'train']\n"
     ]
    }
   ],
   "source": [
    "import os\n",
    "print(os.listdir('/tmp/datasetmain'))"
   ]
  },
  {
   "cell_type": "code",
   "execution_count": null,
   "metadata": {
    "colab": {
     "base_uri": "https://localhost:8080/"
    },
    "executionInfo": {
     "elapsed": 8,
     "status": "ok",
     "timestamp": 1752568174687,
     "user": {
      "displayName": "sadat rahman",
      "userId": "00315844507455805433"
     },
     "user_tz": -360
    },
    "id": "a51f6688",
    "outputId": "0e4b08e9-d255-4a7f-9f42-a6a56b3c0889"
   },
   "outputs": [
    {
     "name": "stdout",
     "output_type": "stream",
     "text": [
      "['normal', 'adnormal']\n"
     ]
    }
   ],
   "source": [
    "import os\n",
    "print(os.listdir('/tmp/datasetmain/train'))"
   ]
  },
  {
   "cell_type": "code",
   "execution_count": null,
   "metadata": {
    "id": "c5b17de0"
   },
   "outputs": [],
   "source": [
    "import os\n",
    "import random\n",
    "import shutil\n",
    "\n",
    "def split_data(source_folder1, source_folder2, train_folder, test_folder, split_ratio=0.8):\n",
    "    # Create train and test folders if they don't exist\n",
    "    for folder in [train_folder, test_folder]:\n",
    "        if not os.path.exists(folder):\n",
    "            os.makedirs(folder)\n",
    "        if not os.path.exists(folder+'/normal-pylorus'):\n",
    "            os.makedirs(folder+'/normal-pylorus')\n",
    "        if not os.path.exists(folder+'/polyps'):\n",
    "            os.makedirs(folder+'/polyps')\n",
    "\n",
    "    # List files from both source folders\n",
    "    files_folder1 = os.listdir(source_folder1)\n",
    "    files_folder2 = os.listdir(source_folder2)\n",
    "\n",
    "    # Calculate the number of files to move to the train folder\n",
    "    num_train_folder1 = int(split_ratio * len(files_folder1))\n",
    "    num_train_folder2 = int(split_ratio * len(files_folder2))\n",
    "\n",
    "    # Randomly select files for the train folder\n",
    "    train_files_folder1 = random.sample(files_folder1, num_train_folder1)\n",
    "    train_files_folder2 = random.sample(files_folder2, num_train_folder2)\n",
    "\n",
    "    # Move files to the train folder\n",
    "    for filename in train_files_folder1:\n",
    "        source_path = os.path.join(source_folder1, filename)\n",
    "        destination_path = os.path.join(f'{train_folder}/normal-pylorus', filename)\n",
    "        shutil.copy2(source_path, destination_path)\n",
    "\n",
    "    for filename in train_files_folder2:\n",
    "        source_path = os.path.join(source_folder2, filename)\n",
    "        destination_path = os.path.join(f'{train_folder}/polyps', filename)\n",
    "        shutil.copy2(source_path, destination_path)\n",
    "\n",
    "    # Move the remaining files to the test folder\n",
    "    for filename in files_folder1:\n",
    "        if filename not in train_files_folder1:\n",
    "            source_path = os.path.join(source_folder1, filename)\n",
    "            destination_path = os.path.join(f'{test_folder}/normal-pylorus', filename)\n",
    "            shutil.copy2(source_path, destination_path)\n",
    "\n",
    "    for filename in files_folder2:\n",
    "        if filename not in train_files_folder2:\n",
    "            source_path = os.path.join(source_folder2, filename)\n",
    "            destination_path = os.path.join(f'{test_folder}/polyps', filename)\n",
    "            shutil.copy2(source_path, destination_path)\n",
    "\n",
    "# Example usage\n",
    "source_folder1 = '/tmp/datasetmain/train/normal'\n",
    "source_folder2 = '/tmp/datasetmain/train/adnormal'\n",
    "train_folder = '/tmp/train'\n",
    "test_folder = '/tmp/test'\n",
    "\n",
    "split_data(source_folder1, source_folder2, train_folder, test_folder, split_ratio=0.8)"
   ]
  },
  {
   "cell_type": "code",
   "execution_count": null,
   "metadata": {
    "colab": {
     "base_uri": "https://localhost:8080/"
    },
    "executionInfo": {
     "elapsed": 10,
     "status": "ok",
     "timestamp": 1752568190706,
     "user": {
      "displayName": "sadat rahman",
      "userId": "00315844507455805433"
     },
     "user_tz": -360
    },
    "id": "7cff2065",
    "outputId": "bf44e8d4-04d0-4345-bd99-4a123300e54a"
   },
   "outputs": [
    {
     "name": "stdout",
     "output_type": "stream",
     "text": [
      "Contents of /tmp/train:\n",
      "['normal-pylorus', 'polyps']\n",
      "\n",
      "Contents of /tmp/test:\n",
      "['normal-pylorus', 'polyps']\n"
     ]
    }
   ],
   "source": [
    "import os\n",
    "print(\"Contents of /tmp/train:\")\n",
    "print(os.listdir('/tmp/train'))\n",
    "print(\"\\nContents of /tmp/test:\")\n",
    "print(os.listdir('/tmp/test'))"
   ]
  },
  {
   "cell_type": "code",
   "execution_count": null,
   "metadata": {
    "id": "b35d65e7"
   },
   "outputs": [],
   "source": [
    "from tensorflow.keras.applications.inception_v3 import InceptionV3\n",
    "\n",
    "base_model = InceptionV3(weights='imagenet', include_top=False)"
   ]
  },
  {
   "cell_type": "code",
   "execution_count": null,
   "metadata": {
    "colab": {
     "base_uri": "https://localhost:8080/",
     "height": 391
    },
    "executionInfo": {
     "elapsed": 6255,
     "status": "error",
     "timestamp": 1752568235381,
     "user": {
      "displayName": "sadat rahman",
      "userId": "00315844507455805433"
     },
     "user_tz": -360
    },
    "id": "38e0380f",
    "outputId": "f68fd585-46d2-47ab-d574-1e1a385e66d6"
   },
   "outputs": [
    {
     "ename": "FileNotFoundError",
     "evalue": "[Errno 2] No such file or directory: '/tmp/train'",
     "output_type": "error",
     "traceback": [
      "\u001b[0;31m---------------------------------------------------------------------------\u001b[0m",
      "\u001b[0;31mFileNotFoundError\u001b[0m                         Traceback (most recent call last)",
      "\u001b[0;32m/tmp/ipython-input-1-2436017127.py\u001b[0m in \u001b[0;36m<cell line: 0>\u001b[0;34m()\u001b[0m\n\u001b[1;32m     13\u001b[0m \u001b[0;34m\u001b[0m\u001b[0m\n\u001b[1;32m     14\u001b[0m \u001b[0;31m# Create training data generator\u001b[0m\u001b[0;34m\u001b[0m\u001b[0;34m\u001b[0m\u001b[0m\n\u001b[0;32m---> 15\u001b[0;31m train_generator = train_datagen.flow_from_directory(\n\u001b[0m\u001b[1;32m     16\u001b[0m     \u001b[0;34m'/tmp/train'\u001b[0m\u001b[0;34m,\u001b[0m\u001b[0;34m\u001b[0m\u001b[0;34m\u001b[0m\u001b[0m\n\u001b[1;32m     17\u001b[0m     \u001b[0mtarget_size\u001b[0m\u001b[0;34m=\u001b[0m\u001b[0;34m(\u001b[0m\u001b[0;36m224\u001b[0m\u001b[0;34m,\u001b[0m \u001b[0;36m224\u001b[0m\u001b[0;34m)\u001b[0m\u001b[0;34m,\u001b[0m \u001b[0;31m# GoogleNet input size\u001b[0m\u001b[0;34m\u001b[0m\u001b[0;34m\u001b[0m\u001b[0m\n",
      "\u001b[0;32m/usr/local/lib/python3.11/dist-packages/keras/src/legacy/preprocessing/image.py\u001b[0m in \u001b[0;36mflow_from_directory\u001b[0;34m(self, directory, target_size, color_mode, classes, class_mode, batch_size, shuffle, seed, save_to_dir, save_prefix, save_format, follow_links, subset, interpolation, keep_aspect_ratio)\u001b[0m\n\u001b[1;32m   1136\u001b[0m         \u001b[0mkeep_aspect_ratio\u001b[0m\u001b[0;34m=\u001b[0m\u001b[0;32mFalse\u001b[0m\u001b[0;34m,\u001b[0m\u001b[0;34m\u001b[0m\u001b[0;34m\u001b[0m\u001b[0m\n\u001b[1;32m   1137\u001b[0m     ):\n\u001b[0;32m-> 1138\u001b[0;31m         return DirectoryIterator(\n\u001b[0m\u001b[1;32m   1139\u001b[0m             \u001b[0mdirectory\u001b[0m\u001b[0;34m,\u001b[0m\u001b[0;34m\u001b[0m\u001b[0;34m\u001b[0m\u001b[0m\n\u001b[1;32m   1140\u001b[0m             \u001b[0mself\u001b[0m\u001b[0;34m,\u001b[0m\u001b[0;34m\u001b[0m\u001b[0;34m\u001b[0m\u001b[0m\n",
      "\u001b[0;32m/usr/local/lib/python3.11/dist-packages/keras/src/legacy/preprocessing/image.py\u001b[0m in \u001b[0;36m__init__\u001b[0;34m(self, directory, image_data_generator, target_size, color_mode, classes, class_mode, batch_size, shuffle, seed, data_format, save_to_dir, save_prefix, save_format, follow_links, subset, interpolation, keep_aspect_ratio, dtype)\u001b[0m\n\u001b[1;32m    451\u001b[0m         \u001b[0;32mif\u001b[0m \u001b[0;32mnot\u001b[0m \u001b[0mclasses\u001b[0m\u001b[0;34m:\u001b[0m\u001b[0;34m\u001b[0m\u001b[0;34m\u001b[0m\u001b[0m\n\u001b[1;32m    452\u001b[0m             \u001b[0mclasses\u001b[0m \u001b[0;34m=\u001b[0m \u001b[0;34m[\u001b[0m\u001b[0;34m]\u001b[0m\u001b[0;34m\u001b[0m\u001b[0;34m\u001b[0m\u001b[0m\n\u001b[0;32m--> 453\u001b[0;31m             \u001b[0;32mfor\u001b[0m \u001b[0msubdir\u001b[0m \u001b[0;32min\u001b[0m \u001b[0msorted\u001b[0m\u001b[0;34m(\u001b[0m\u001b[0mos\u001b[0m\u001b[0;34m.\u001b[0m\u001b[0mlistdir\u001b[0m\u001b[0;34m(\u001b[0m\u001b[0mdirectory\u001b[0m\u001b[0;34m)\u001b[0m\u001b[0;34m)\u001b[0m\u001b[0;34m:\u001b[0m\u001b[0;34m\u001b[0m\u001b[0;34m\u001b[0m\u001b[0m\n\u001b[0m\u001b[1;32m    454\u001b[0m                 \u001b[0;32mif\u001b[0m \u001b[0mos\u001b[0m\u001b[0;34m.\u001b[0m\u001b[0mpath\u001b[0m\u001b[0;34m.\u001b[0m\u001b[0misdir\u001b[0m\u001b[0;34m(\u001b[0m\u001b[0mos\u001b[0m\u001b[0;34m.\u001b[0m\u001b[0mpath\u001b[0m\u001b[0;34m.\u001b[0m\u001b[0mjoin\u001b[0m\u001b[0;34m(\u001b[0m\u001b[0mdirectory\u001b[0m\u001b[0;34m,\u001b[0m \u001b[0msubdir\u001b[0m\u001b[0;34m)\u001b[0m\u001b[0;34m)\u001b[0m\u001b[0;34m:\u001b[0m\u001b[0;34m\u001b[0m\u001b[0;34m\u001b[0m\u001b[0m\n\u001b[1;32m    455\u001b[0m                     \u001b[0mclasses\u001b[0m\u001b[0;34m.\u001b[0m\u001b[0mappend\u001b[0m\u001b[0;34m(\u001b[0m\u001b[0msubdir\u001b[0m\u001b[0;34m)\u001b[0m\u001b[0;34m\u001b[0m\u001b[0;34m\u001b[0m\u001b[0m\n",
      "\u001b[0;31mFileNotFoundError\u001b[0m: [Errno 2] No such file or directory: '/tmp/train'"
     ]
    }
   ],
   "source": [
    "from tensorflow.keras.preprocessing.image import ImageDataGenerator\n",
    "\n",
    "# Instantiate ImageDataGenerator for training data with augmentations\n",
    "train_datagen = ImageDataGenerator(\n",
    "    rescale=1./255,\n",
    "    shear_range=0.2,\n",
    "    zoom_range=0.2,\n",
    "    horizontal_flip=True\n",
    ")\n",
    "\n",
    "# Instantiate ImageDataGenerator for testing data with only rescaling\n",
    "test_datagen = ImageDataGenerator(rescale=1./255)\n",
    "\n",
    "# Create training data generator\n",
    "train_generator = train_datagen.flow_from_directory(\n",
    "    '/tmp/train',\n",
    "    target_size=(224, 224), # GoogleNet input size\n",
    "    batch_size=32,\n",
    "    class_mode='binary' # Two classes: normal-pylorus and polyps\n",
    ")\n",
    "\n",
    "# Create testing data generator\n",
    "test_generator = test_datagen.flow_from_directory(\n",
    "    '/tmp/test',\n",
    "    target_size=(224, 224),\n",
    "    batch_size=32,\n",
    "    class_mode='binary'\n",
    ")"
   ]
  },
  {
   "cell_type": "code",
   "execution_count": null,
   "metadata": {
    "colab": {
     "base_uri": "https://localhost:8080/",
     "height": 315
    },
    "executionInfo": {
     "elapsed": 97,
     "status": "error",
     "timestamp": 1752568244692,
     "user": {
      "displayName": "sadat rahman",
      "userId": "00315844507455805433"
     },
     "user_tz": -360
    },
    "id": "J4COOiXnNSd1",
    "outputId": "6352ffb8-e9d0-423c-faee-1a21d3842bf7"
   },
   "outputs": [
    {
     "ename": "FileNotFoundError",
     "evalue": "[Errno 2] No such file or directory: '/tmp/datasetmain/train/normal'",
     "output_type": "error",
     "traceback": [
      "\u001b[0;31m---------------------------------------------------------------------------\u001b[0m",
      "\u001b[0;31mFileNotFoundError\u001b[0m                         Traceback (most recent call last)",
      "\u001b[0;32m/tmp/ipython-input-2-3699505782.py\u001b[0m in \u001b[0;36m<cell line: 0>\u001b[0;34m()\u001b[0m\n\u001b[1;32m     54\u001b[0m \u001b[0mtest_folder\u001b[0m \u001b[0;34m=\u001b[0m \u001b[0;34m'/tmp/test'\u001b[0m\u001b[0;34m\u001b[0m\u001b[0;34m\u001b[0m\u001b[0m\n\u001b[1;32m     55\u001b[0m \u001b[0;34m\u001b[0m\u001b[0m\n\u001b[0;32m---> 56\u001b[0;31m \u001b[0msplit_data\u001b[0m\u001b[0;34m(\u001b[0m\u001b[0msource_folder1\u001b[0m\u001b[0;34m,\u001b[0m \u001b[0msource_folder2\u001b[0m\u001b[0;34m,\u001b[0m \u001b[0mtrain_folder\u001b[0m\u001b[0;34m,\u001b[0m \u001b[0mtest_folder\u001b[0m\u001b[0;34m,\u001b[0m \u001b[0msplit_ratio\u001b[0m\u001b[0;34m=\u001b[0m\u001b[0;36m0.8\u001b[0m\u001b[0;34m)\u001b[0m\u001b[0;34m\u001b[0m\u001b[0;34m\u001b[0m\u001b[0m\n\u001b[0m",
      "\u001b[0;32m/tmp/ipython-input-2-3699505782.py\u001b[0m in \u001b[0;36msplit_data\u001b[0;34m(source_folder1, source_folder2, train_folder, test_folder, split_ratio)\u001b[0m\n\u001b[1;32m     13\u001b[0m \u001b[0;34m\u001b[0m\u001b[0m\n\u001b[1;32m     14\u001b[0m     \u001b[0;31m# List files from both source folders\u001b[0m\u001b[0;34m\u001b[0m\u001b[0;34m\u001b[0m\u001b[0m\n\u001b[0;32m---> 15\u001b[0;31m     \u001b[0mfiles_folder1\u001b[0m \u001b[0;34m=\u001b[0m \u001b[0mos\u001b[0m\u001b[0;34m.\u001b[0m\u001b[0mlistdir\u001b[0m\u001b[0;34m(\u001b[0m\u001b[0msource_folder1\u001b[0m\u001b[0;34m)\u001b[0m\u001b[0;34m\u001b[0m\u001b[0;34m\u001b[0m\u001b[0m\n\u001b[0m\u001b[1;32m     16\u001b[0m     \u001b[0mfiles_folder2\u001b[0m \u001b[0;34m=\u001b[0m \u001b[0mos\u001b[0m\u001b[0;34m.\u001b[0m\u001b[0mlistdir\u001b[0m\u001b[0;34m(\u001b[0m\u001b[0msource_folder2\u001b[0m\u001b[0;34m)\u001b[0m\u001b[0;34m\u001b[0m\u001b[0;34m\u001b[0m\u001b[0m\n\u001b[1;32m     17\u001b[0m \u001b[0;34m\u001b[0m\u001b[0m\n",
      "\u001b[0;31mFileNotFoundError\u001b[0m: [Errno 2] No such file or directory: '/tmp/datasetmain/train/normal'"
     ]
    }
   ],
   "source": [
    "import os\n",
    "import random\n",
    "import shutil\n",
    "\n",
    "def split_data(source_folder1, source_folder2, train_folder, test_folder, split_ratio=0.8):\n",
    "    # Create train and test folders if they don't exist\n",
    "    for folder in [train_folder, test_folder]:\n",
    "        if os.path.exists(folder):\n",
    "            shutil.rmtree(folder) # Remove existing folders to ensure a clean split\n",
    "        os.makedirs(folder)\n",
    "        os.makedirs(folder+'/normal-pylorus')\n",
    "        os.makedirs(folder+'/polyps')\n",
    "\n",
    "    # List files from both source folders\n",
    "    files_folder1 = os.listdir(source_folder1)\n",
    "    files_folder2 = os.listdir(source_folder2)\n",
    "\n",
    "    # Calculate the number of files to move to the train folder\n",
    "    num_train_folder1 = int(split_ratio * len(files_folder1))\n",
    "    num_train_folder2 = int(split_ratio * len(files_folder2))\n",
    "\n",
    "    # Randomly select files for the train folder\n",
    "    train_files_folder1 = random.sample(files_folder1, num_train_folder1)\n",
    "    train_files_folder2 = random.sample(files_folder2, num_train_folder2)\n",
    "\n",
    "    # Move files to the train folder\n",
    "    for filename in train_files_folder1:\n",
    "        source_path = os.path.join(source_folder1, filename)\n",
    "        destination_path = os.path.join(f'{train_folder}/normal-pylorus', filename)\n",
    "        shutil.copy2(source_path, destination_path)\n",
    "\n",
    "    for filename in train_files_folder2:\n",
    "        source_path = os.path.join(source_folder2, filename)\n",
    "        destination_path = os.path.join(f'{train_folder}/polyps', filename)\n",
    "        shutil.copy2(source_path, destination_path)\n",
    "\n",
    "    # Move the remaining files to the test folder\n",
    "    for filename in files_folder1:\n",
    "        if filename not in train_files_folder1:\n",
    "            source_path = os.path.join(source_folder1, filename)\n",
    "            destination_path = os.path.join(f'{test_folder}/normal-pylorus', filename)\n",
    "            shutil.copy2(source_path, destination_path)\n",
    "\n",
    "    for filename in files_folder2:\n",
    "        if filename not in train_files_folder2:\n",
    "            source_path = os.path.join(source_folder2, filename)\n",
    "            destination_path = os.path.join(f'{test_folder}/polyps', filename)\n",
    "            shutil.copy2(source_path, destination_path)\n",
    "\n",
    "# Example usage\n",
    "source_folder1 = '/tmp/datasetmain/train/normal'\n",
    "source_folder2 = '/tmp/datasetmain/train/adnormal'\n",
    "train_folder = '/tmp/train'\n",
    "test_folder = '/tmp/test'\n",
    "\n",
    "split_data(source_folder1, source_folder2, train_folder, test_folder, split_ratio=0.8)"
   ]
  },
  {
   "cell_type": "code",
   "execution_count": null,
   "metadata": {
    "colab": {
     "base_uri": "https://localhost:8080/",
     "height": 332
    },
    "executionInfo": {
     "elapsed": 52,
     "status": "error",
     "timestamp": 1752568252375,
     "user": {
      "displayName": "sadat rahman",
      "userId": "00315844507455805433"
     },
     "user_tz": -360
    },
    "id": "ZorNDiziNUWh",
    "outputId": "088bdaf2-3cab-4a19-dee5-7ad6d507f38c"
   },
   "outputs": [
    {
     "ename": "FileNotFoundError",
     "evalue": "[Errno 2] No such file or directory: '/content/drive/MyDrive/DIP/datasetmain.zip'",
     "output_type": "error",
     "traceback": [
      "\u001b[0;31m---------------------------------------------------------------------------\u001b[0m",
      "\u001b[0;31mFileNotFoundError\u001b[0m                         Traceback (most recent call last)",
      "\u001b[0;32m/tmp/ipython-input-3-1056677806.py\u001b[0m in \u001b[0;36m<cell line: 0>\u001b[0;34m()\u001b[0m\n\u001b[1;32m      1\u001b[0m \u001b[0;32mfrom\u001b[0m \u001b[0mzipfile\u001b[0m \u001b[0;32mimport\u001b[0m \u001b[0mZipFile\u001b[0m\u001b[0;34m\u001b[0m\u001b[0;34m\u001b[0m\u001b[0m\n\u001b[1;32m      2\u001b[0m \u001b[0mzipFilePath\u001b[0m\u001b[0;34m=\u001b[0m\u001b[0;34m'/content/drive/MyDrive/DIP/datasetmain.zip'\u001b[0m \u001b[0;31m# place the zip file link here\u001b[0m\u001b[0;34m\u001b[0m\u001b[0;34m\u001b[0m\u001b[0m\n\u001b[0;32m----> 3\u001b[0;31m \u001b[0mzipFileObj\u001b[0m\u001b[0;34m=\u001b[0m\u001b[0mZipFile\u001b[0m\u001b[0;34m(\u001b[0m\u001b[0mfile\u001b[0m\u001b[0;34m=\u001b[0m\u001b[0mzipFilePath\u001b[0m\u001b[0;34m)\u001b[0m\u001b[0;34m\u001b[0m\u001b[0;34m\u001b[0m\u001b[0m\n\u001b[0m\u001b[1;32m      4\u001b[0m \u001b[0mzipFileObj\u001b[0m\u001b[0;34m.\u001b[0m\u001b[0mextractall\u001b[0m\u001b[0;34m(\u001b[0m\u001b[0;34m'/tmp'\u001b[0m\u001b[0;34m)\u001b[0m\u001b[0;34m\u001b[0m\u001b[0;34m\u001b[0m\u001b[0m\n",
      "\u001b[0;32m/usr/lib/python3.11/zipfile.py\u001b[0m in \u001b[0;36m__init__\u001b[0;34m(self, file, mode, compression, allowZip64, compresslevel, strict_timestamps, metadata_encoding)\u001b[0m\n\u001b[1;32m   1293\u001b[0m             \u001b[0;32mwhile\u001b[0m \u001b[0;32mTrue\u001b[0m\u001b[0;34m:\u001b[0m\u001b[0;34m\u001b[0m\u001b[0;34m\u001b[0m\u001b[0m\n\u001b[1;32m   1294\u001b[0m                 \u001b[0;32mtry\u001b[0m\u001b[0;34m:\u001b[0m\u001b[0;34m\u001b[0m\u001b[0;34m\u001b[0m\u001b[0m\n\u001b[0;32m-> 1295\u001b[0;31m                     \u001b[0mself\u001b[0m\u001b[0;34m.\u001b[0m\u001b[0mfp\u001b[0m \u001b[0;34m=\u001b[0m \u001b[0mio\u001b[0m\u001b[0;34m.\u001b[0m\u001b[0mopen\u001b[0m\u001b[0;34m(\u001b[0m\u001b[0mfile\u001b[0m\u001b[0;34m,\u001b[0m \u001b[0mfilemode\u001b[0m\u001b[0;34m)\u001b[0m\u001b[0;34m\u001b[0m\u001b[0;34m\u001b[0m\u001b[0m\n\u001b[0m\u001b[1;32m   1296\u001b[0m                 \u001b[0;32mexcept\u001b[0m \u001b[0mOSError\u001b[0m\u001b[0;34m:\u001b[0m\u001b[0;34m\u001b[0m\u001b[0;34m\u001b[0m\u001b[0m\n\u001b[1;32m   1297\u001b[0m                     \u001b[0;32mif\u001b[0m \u001b[0mfilemode\u001b[0m \u001b[0;32min\u001b[0m \u001b[0mmodeDict\u001b[0m\u001b[0;34m:\u001b[0m\u001b[0;34m\u001b[0m\u001b[0;34m\u001b[0m\u001b[0m\n",
      "\u001b[0;31mFileNotFoundError\u001b[0m: [Errno 2] No such file or directory: '/content/drive/MyDrive/DIP/datasetmain.zip'"
     ]
    }
   ],
   "source": [
    "from zipfile import ZipFile\n",
    "zipFilePath='/content/drive/MyDrive/DIP/datasetmain.zip' # place the zip file link here\n",
    "zipFileObj=ZipFile(file=zipFilePath)\n",
    "zipFileObj.extractall('/tmp')"
   ]
  },
  {
   "cell_type": "code",
   "execution_count": null,
   "metadata": {
    "colab": {
     "base_uri": "https://localhost:8080/"
    },
    "executionInfo": {
     "elapsed": 5695,
     "status": "ok",
     "timestamp": 1752568385626,
     "user": {
      "displayName": "sadat rahman",
      "userId": "00315844507455805433"
     },
     "user_tz": -360
    },
    "id": "sruOMDw1NV2U",
    "outputId": "27506b4c-9517-4059-d42e-7758f66673c3"
   },
   "outputs": [
    {
     "name": "stdout",
     "output_type": "stream",
     "text": [
      "Mounted at /content/drive\n"
     ]
    }
   ],
   "source": [
    "from google.colab import drive\n",
    "drive.mount('/content/drive')"
   ]
  },
  {
   "cell_type": "code",
   "execution_count": null,
   "metadata": {
    "id": "eb5dad3a"
   },
   "outputs": [],
   "source": [
    "from zipfile import ZipFile\n",
    "zipFilePath='/content/drive/MyDrive/DIP/datasetmain.zip' # place the zip file link here\n",
    "zipFileObj=ZipFile(file=zipFilePath)\n",
    "zipFileObj.extractall('/tmp')"
   ]
  },
  {
   "cell_type": "code",
   "execution_count": null,
   "metadata": {
    "colab": {
     "base_uri": "https://localhost:8080/",
     "height": 315
    },
    "executionInfo": {
     "elapsed": 123,
     "status": "error",
     "timestamp": 1752570737379,
     "user": {
      "displayName": "sadat rahman",
      "userId": "00315844507455805433"
     },
     "user_tz": -360
    },
    "id": "a042c9bc",
    "outputId": "b49fcc49-5bf2-4ca0-ee56-0e04c4c9163d"
   },
   "outputs": [
    {
     "ename": "FileNotFoundError",
     "evalue": "[Errno 2] No such file or directory: '/tmp/datasetmain/train/normal'",
     "output_type": "error",
     "traceback": [
      "\u001b[0;31m---------------------------------------------------------------------------\u001b[0m",
      "\u001b[0;31mFileNotFoundError\u001b[0m                         Traceback (most recent call last)",
      "\u001b[0;32m/tmp/ipython-input-5-3699505782.py\u001b[0m in \u001b[0;36m<cell line: 0>\u001b[0;34m()\u001b[0m\n\u001b[1;32m     54\u001b[0m \u001b[0mtest_folder\u001b[0m \u001b[0;34m=\u001b[0m \u001b[0;34m'/tmp/test'\u001b[0m\u001b[0;34m\u001b[0m\u001b[0;34m\u001b[0m\u001b[0m\n\u001b[1;32m     55\u001b[0m \u001b[0;34m\u001b[0m\u001b[0m\n\u001b[0;32m---> 56\u001b[0;31m \u001b[0msplit_data\u001b[0m\u001b[0;34m(\u001b[0m\u001b[0msource_folder1\u001b[0m\u001b[0;34m,\u001b[0m \u001b[0msource_folder2\u001b[0m\u001b[0;34m,\u001b[0m \u001b[0mtrain_folder\u001b[0m\u001b[0;34m,\u001b[0m \u001b[0mtest_folder\u001b[0m\u001b[0;34m,\u001b[0m \u001b[0msplit_ratio\u001b[0m\u001b[0;34m=\u001b[0m\u001b[0;36m0.8\u001b[0m\u001b[0;34m)\u001b[0m\u001b[0;34m\u001b[0m\u001b[0;34m\u001b[0m\u001b[0m\n\u001b[0m",
      "\u001b[0;32m/tmp/ipython-input-5-3699505782.py\u001b[0m in \u001b[0;36msplit_data\u001b[0;34m(source_folder1, source_folder2, train_folder, test_folder, split_ratio)\u001b[0m\n\u001b[1;32m     13\u001b[0m \u001b[0;34m\u001b[0m\u001b[0m\n\u001b[1;32m     14\u001b[0m     \u001b[0;31m# List files from both source folders\u001b[0m\u001b[0;34m\u001b[0m\u001b[0;34m\u001b[0m\u001b[0m\n\u001b[0;32m---> 15\u001b[0;31m     \u001b[0mfiles_folder1\u001b[0m \u001b[0;34m=\u001b[0m \u001b[0mos\u001b[0m\u001b[0;34m.\u001b[0m\u001b[0mlistdir\u001b[0m\u001b[0;34m(\u001b[0m\u001b[0msource_folder1\u001b[0m\u001b[0;34m)\u001b[0m\u001b[0;34m\u001b[0m\u001b[0;34m\u001b[0m\u001b[0m\n\u001b[0m\u001b[1;32m     16\u001b[0m     \u001b[0mfiles_folder2\u001b[0m \u001b[0;34m=\u001b[0m \u001b[0mos\u001b[0m\u001b[0;34m.\u001b[0m\u001b[0mlistdir\u001b[0m\u001b[0;34m(\u001b[0m\u001b[0msource_folder2\u001b[0m\u001b[0;34m)\u001b[0m\u001b[0;34m\u001b[0m\u001b[0;34m\u001b[0m\u001b[0m\n\u001b[1;32m     17\u001b[0m \u001b[0;34m\u001b[0m\u001b[0m\n",
      "\u001b[0;31mFileNotFoundError\u001b[0m: [Errno 2] No such file or directory: '/tmp/datasetmain/train/normal'"
     ]
    }
   ],
   "source": [
    "import os\n",
    "import random\n",
    "import shutil\n",
    "\n",
    "def split_data(source_folder1, source_folder2, train_folder, test_folder, split_ratio=0.8):\n",
    "    # Create train and test folders if they don't exist\n",
    "    for folder in [train_folder, test_folder]:\n",
    "        if os.path.exists(folder):\n",
    "            shutil.rmtree(folder) # Remove existing folders to ensure a clean split\n",
    "        os.makedirs(folder)\n",
    "        os.makedirs(folder+'/normal-pylorus')\n",
    "        os.makedirs(folder+'/polyps')\n",
    "\n",
    "    # List files from both source folders\n",
    "    files_folder1 = os.listdir(source_folder1)\n",
    "    files_folder2 = os.listdir(source_folder2)\n",
    "\n",
    "    # Calculate the number of files to move to the train folder\n",
    "    num_train_folder1 = int(split_ratio * len(files_folder1))\n",
    "    num_train_folder2 = int(split_ratio * len(files_folder2))\n",
    "\n",
    "    # Randomly select files for the train folder\n",
    "    train_files_folder1 = random.sample(files_folder1, num_train_folder1)\n",
    "    train_files_folder2 = random.sample(files_folder2, num_train_folder2)\n",
    "\n",
    "    # Move files to the train folder\n",
    "    for filename in train_files_folder1:\n",
    "        source_path = os.path.join(source_folder1, filename)\n",
    "        destination_path = os.path.join(f'{train_folder}/normal-pylorus', filename)\n",
    "        shutil.copy2(source_path, destination_path)\n",
    "\n",
    "    for filename in train_files_folder2:\n",
    "        source_path = os.path.join(source_folder2, filename)\n",
    "        destination_path = os.path.join(f'{train_folder}/polyps', filename)\n",
    "        shutil.copy2(source_path, destination_path)\n",
    "\n",
    "    # Move the remaining files to the test folder\n",
    "    for filename in files_folder1:\n",
    "        if filename not in train_files_folder1:\n",
    "            source_path = os.path.join(source_folder1, filename)\n",
    "            destination_path = os.path.join(f'{test_folder}/normal-pylorus', filename)\n",
    "            shutil.copy2(source_path, destination_path)\n",
    "\n",
    "    for filename in files_folder2:\n",
    "        if filename not in train_files_folder2:\n",
    "            source_path = os.path.join(source_folder2, filename)\n",
    "            destination_path = os.path.join(f'{test_folder}/polyps', filename)\n",
    "            shutil.copy2(source_path, destination_path)\n",
    "\n",
    "# Example usage\n",
    "source_folder1 = '/tmp/datasetmain/train/normal'\n",
    "source_folder2 = '/tmp/datasetmain/train/adnormal'\n",
    "train_folder = '/tmp/train'\n",
    "test_folder = '/tmp/test'\n",
    "\n",
    "split_data(source_folder1, source_folder2, train_folder, test_folder, split_ratio=0.8)"
   ]
  },
  {
   "cell_type": "code",
   "execution_count": null,
   "metadata": {
    "colab": {
     "base_uri": "https://localhost:8080/"
    },
    "executionInfo": {
     "elapsed": 25,
     "status": "ok",
     "timestamp": 1752568386199,
     "user": {
      "displayName": "sadat rahman",
      "userId": "00315844507455805433"
     },
     "user_tz": -360
    },
    "id": "596c9bef",
    "outputId": "a2a2548e-c2c8-4977-cf08-5e0d4a94020a"
   },
   "outputs": [
    {
     "name": "stdout",
     "output_type": "stream",
     "text": [
      "Found 0 images belonging to 2 classes.\n",
      "Found 0 images belonging to 2 classes.\n"
     ]
    }
   ],
   "source": [
    "from tensorflow.keras.preprocessing.image import ImageDataGenerator\n",
    "\n",
    "# Instantiate ImageDataGenerator for training data with augmentations\n",
    "train_datagen = ImageDataGenerator(\n",
    "    rescale=1./255,\n",
    "    shear_range=0.2,\n",
    "    zoom_range=0.2,\n",
    "    horizontal_flip=True\n",
    ")\n",
    "\n",
    "# Instantiate ImageDataGenerator for testing data with only rescaling\n",
    "test_datagen = ImageDataGenerator(rescale=1./255)\n",
    "\n",
    "# Create training data generator\n",
    "train_generator = train_datagen.flow_from_directory(\n",
    "    '/tmp/train',\n",
    "    target_size=(224, 224), # GoogleNet input size\n",
    "    batch_size=32,\n",
    "    class_mode='binary' # Two classes: normal-pylorus and polyps\n",
    ")\n",
    "\n",
    "# Create testing data generator\n",
    "test_generator = test_datagen.flow_from_directory(\n",
    "    '/tmp/test',\n",
    "    target_size=(224, 224),\n",
    "    batch_size=32,\n",
    "    class_mode='binary'\n",
    ")"
   ]
  },
  {
   "cell_type": "code",
   "execution_count": null,
   "metadata": {
    "colab": {
     "base_uri": "https://localhost:8080/"
    },
    "executionInfo": {
     "elapsed": 21,
     "status": "ok",
     "timestamp": 1752568393776,
     "user": {
      "displayName": "sadat rahman",
      "userId": "00315844507455805433"
     },
     "user_tz": -360
    },
    "id": "d73f9224",
    "outputId": "1723b3fa-150a-4a49-b1dc-466d115e2c26"
   },
   "outputs": [
    {
     "name": "stdout",
     "output_type": "stream",
     "text": [
      "Contents of /tmp/train:\n",
      "train/\n",
      "    polyps/\n",
      "    normal-pylorus/\n",
      "\n",
      "Contents of /tmp/test:\n",
      "test/\n",
      "    polyps/\n",
      "    normal-pylorus/\n"
     ]
    }
   ],
   "source": [
    "import os\n",
    "\n",
    "print(\"Contents of /tmp/train:\")\n",
    "for root, dirs, files in os.walk('/tmp/train'):\n",
    "    level = root.replace('/tmp/train', '').count(os.sep)\n",
    "    indent = ' ' * 4 * (level)\n",
    "    print(f'{indent}{os.path.basename(root)}/')\n",
    "    subindent = ' ' * 4 * (level + 1)\n",
    "    for f in files:\n",
    "        print(f'{subindent}{f}')\n",
    "\n",
    "print(\"\\nContents of /tmp/test:\")\n",
    "for root, dirs, files in os.walk('/tmp/test'):\n",
    "    level = root.replace('/tmp/test', '').count(os.sep)\n",
    "    indent = ' ' * 4 * (level)\n",
    "    print(f'{indent}{os.path.basename(root)}/')\n",
    "    subindent = ' ' * 4 * (level + 1)\n",
    "    for f in files:\n",
    "        print(f'{subindent}{f}')"
   ]
  },
  {
   "cell_type": "code",
   "execution_count": null,
   "metadata": {
    "colab": {
     "base_uri": "https://localhost:8080/",
     "height": 211
    },
    "executionInfo": {
     "elapsed": 61,
     "status": "error",
     "timestamp": 1752568405142,
     "user": {
      "displayName": "sadat rahman",
      "userId": "00315844507455805433"
     },
     "user_tz": -360
    },
    "id": "2433e26d",
    "outputId": "63c51cea-43f9-49a9-bd3e-ce8912e10f6c"
   },
   "outputs": [
    {
     "ename": "NameError",
     "evalue": "name 'base_model' is not defined",
     "output_type": "error",
     "traceback": [
      "\u001b[0;31m---------------------------------------------------------------------------\u001b[0m",
      "\u001b[0;31mNameError\u001b[0m                                 Traceback (most recent call last)",
      "\u001b[0;32m/tmp/ipython-input-8-4082650471.py\u001b[0m in \u001b[0;36m<cell line: 0>\u001b[0;34m()\u001b[0m\n\u001b[1;32m      4\u001b[0m \u001b[0;34m\u001b[0m\u001b[0m\n\u001b[1;32m      5\u001b[0m \u001b[0;31m# Add a global average pooling layer\u001b[0m\u001b[0;34m\u001b[0m\u001b[0;34m\u001b[0m\u001b[0m\n\u001b[0;32m----> 6\u001b[0;31m \u001b[0mx\u001b[0m \u001b[0;34m=\u001b[0m \u001b[0mGlobalAveragePooling2D\u001b[0m\u001b[0;34m(\u001b[0m\u001b[0;34m)\u001b[0m\u001b[0;34m(\u001b[0m\u001b[0mbase_model\u001b[0m\u001b[0;34m.\u001b[0m\u001b[0moutput\u001b[0m\u001b[0;34m)\u001b[0m\u001b[0;34m\u001b[0m\u001b[0;34m\u001b[0m\u001b[0m\n\u001b[0m\u001b[1;32m      7\u001b[0m \u001b[0;34m\u001b[0m\u001b[0m\n\u001b[1;32m      8\u001b[0m \u001b[0;31m# Add a dense layer with a sigmoid activation for binary classification\u001b[0m\u001b[0;34m\u001b[0m\u001b[0;34m\u001b[0m\u001b[0m\n",
      "\u001b[0;31mNameError\u001b[0m: name 'base_model' is not defined"
     ]
    }
   ],
   "source": [
    "from tensorflow.keras.layers import Dense, GlobalAveragePooling2D\n",
    "from tensorflow.keras.models import Model\n",
    "from tensorflow.keras.optimizers import Adam\n",
    "\n",
    "# Add a global average pooling layer\n",
    "x = GlobalAveragePooling2D()(base_model.output)\n",
    "\n",
    "# Add a dense layer with a sigmoid activation for binary classification\n",
    "predictions = Dense(1, activation='sigmoid')(x)\n",
    "\n",
    "# Create the new model\n",
    "model = Model(inputs=base_model.input, outputs=predictions)\n",
    "\n",
    "# Compile the model\n",
    "model.compile(optimizer=Adam(learning_rate=0.001), loss='binary_crossentropy', metrics=['accuracy'])"
   ]
  },
  {
   "cell_type": "code",
   "execution_count": null,
   "metadata": {
    "colab": {
     "base_uri": "https://localhost:8080/"
    },
    "executionInfo": {
     "elapsed": 4926,
     "status": "ok",
     "timestamp": 1752568416215,
     "user": {
      "displayName": "sadat rahman",
      "userId": "00315844507455805433"
     },
     "user_tz": -360
    },
    "id": "KFjRreXZN7KO",
    "outputId": "fbded33f-8bb9-4f99-bd44-e5b49e25848b"
   },
   "outputs": [
    {
     "name": "stdout",
     "output_type": "stream",
     "text": [
      "Downloading data from https://storage.googleapis.com/tensorflow/keras-applications/inception_v3/inception_v3_weights_tf_dim_ordering_tf_kernels_notop.h5\n",
      "\u001b[1m87910968/87910968\u001b[0m \u001b[32m━━━━━━━━━━━━━━━━━━━━\u001b[0m\u001b[37m\u001b[0m \u001b[1m1s\u001b[0m 0us/step\n"
     ]
    }
   ],
   "source": [
    "from tensorflow.keras.applications.inception_v3 import InceptionV3\n",
    "from tensorflow.keras.layers import Dense, GlobalAveragePooling2D\n",
    "from tensorflow.keras.models import Model\n",
    "from tensorflow.keras.optimizers import Adam\n",
    "\n",
    "base_model = InceptionV3(weights='imagenet', include_top=False)\n",
    "\n",
    "# Add a global average pooling layer\n",
    "x = GlobalAveragePooling2D()(base_model.output)\n",
    "\n",
    "# Add a dense layer with a sigmoid activation for binary classification\n",
    "predictions = Dense(1, activation='sigmoid')(x)\n",
    "\n",
    "# Create the new model\n",
    "model = Model(inputs=base_model.input, outputs=predictions)\n",
    "\n",
    "# Compile the model\n",
    "model.compile(optimizer=Adam(learning_rate=0.001), loss='binary_crossentropy', metrics=['accuracy'])"
   ]
  },
  {
   "cell_type": "markdown",
   "metadata": {},
   "source": []
  },
  {
   "cell_type": "code",
   "execution_count": null,
   "metadata": {
    "colab": {
     "base_uri": "https://localhost:8080/",
     "height": 428
    },
    "executionInfo": {
     "elapsed": 67,
     "status": "error",
     "timestamp": 1752568421877,
     "user": {
      "displayName": "sadat rahman",
      "userId": "00315844507455805433"
     },
     "user_tz": -360
    },
    "id": "f45cd0fc",
    "outputId": "5d24515b-c8fb-41e1-b382-bad3d02bc10a"
   },
   "outputs": [
    {
     "name": "stderr",
     "output_type": "stream",
     "text": [
      "/usr/local/lib/python3.11/dist-packages/keras/src/trainers/data_adapters/py_dataset_adapter.py:121: UserWarning: Your `PyDataset` class should call `super().__init__(**kwargs)` in its constructor. `**kwargs` can include `workers`, `use_multiprocessing`, `max_queue_size`. Do not pass these arguments to `fit()`, as they will be ignored.\n",
      "  self._warn_if_super_not_called()\n"
     ]
    },
    {
     "ename": "ValueError",
     "evalue": "The PyDataset has length 0",
     "output_type": "error",
     "traceback": [
      "\u001b[0;31m---------------------------------------------------------------------------\u001b[0m",
      "\u001b[0;31mValueError\u001b[0m                                Traceback (most recent call last)",
      "\u001b[0;32m/tmp/ipython-input-10-1075524276.py\u001b[0m in \u001b[0;36m<cell line: 0>\u001b[0;34m()\u001b[0m\n\u001b[1;32m      1\u001b[0m \u001b[0;31m# Train the model\u001b[0m\u001b[0;34m\u001b[0m\u001b[0;34m\u001b[0m\u001b[0m\n\u001b[0;32m----> 2\u001b[0;31m history = model.fit(\n\u001b[0m\u001b[1;32m      3\u001b[0m     \u001b[0mtrain_generator\u001b[0m\u001b[0;34m,\u001b[0m\u001b[0;34m\u001b[0m\u001b[0;34m\u001b[0m\u001b[0m\n\u001b[1;32m      4\u001b[0m     \u001b[0mepochs\u001b[0m\u001b[0;34m=\u001b[0m\u001b[0;36m5\u001b[0m \u001b[0;31m# You can adjust the number of epochs\u001b[0m\u001b[0;34m\u001b[0m\u001b[0;34m\u001b[0m\u001b[0m\n\u001b[1;32m      5\u001b[0m )\n",
      "\u001b[0;32m/usr/local/lib/python3.11/dist-packages/keras/src/utils/traceback_utils.py\u001b[0m in \u001b[0;36merror_handler\u001b[0;34m(*args, **kwargs)\u001b[0m\n\u001b[1;32m    120\u001b[0m             \u001b[0;31m# To get the full stack trace, call:\u001b[0m\u001b[0;34m\u001b[0m\u001b[0;34m\u001b[0m\u001b[0m\n\u001b[1;32m    121\u001b[0m             \u001b[0;31m# `keras.config.disable_traceback_filtering()`\u001b[0m\u001b[0;34m\u001b[0m\u001b[0;34m\u001b[0m\u001b[0m\n\u001b[0;32m--> 122\u001b[0;31m             \u001b[0;32mraise\u001b[0m \u001b[0me\u001b[0m\u001b[0;34m.\u001b[0m\u001b[0mwith_traceback\u001b[0m\u001b[0;34m(\u001b[0m\u001b[0mfiltered_tb\u001b[0m\u001b[0;34m)\u001b[0m \u001b[0;32mfrom\u001b[0m \u001b[0;32mNone\u001b[0m\u001b[0;34m\u001b[0m\u001b[0;34m\u001b[0m\u001b[0m\n\u001b[0m\u001b[1;32m    123\u001b[0m         \u001b[0;32mfinally\u001b[0m\u001b[0;34m:\u001b[0m\u001b[0;34m\u001b[0m\u001b[0;34m\u001b[0m\u001b[0m\n\u001b[1;32m    124\u001b[0m             \u001b[0;32mdel\u001b[0m \u001b[0mfiltered_tb\u001b[0m\u001b[0;34m\u001b[0m\u001b[0;34m\u001b[0m\u001b[0m\n",
      "\u001b[0;32m/usr/local/lib/python3.11/dist-packages/keras/src/trainers/data_adapters/py_dataset_adapter.py\u001b[0m in \u001b[0;36mget_tf_dataset\u001b[0;34m(self)\u001b[0m\n\u001b[1;32m    293\u001b[0m             ]\n\u001b[1;32m    294\u001b[0m             \u001b[0;32mif\u001b[0m \u001b[0mlen\u001b[0m\u001b[0;34m(\u001b[0m\u001b[0mbatches\u001b[0m\u001b[0;34m)\u001b[0m \u001b[0;34m==\u001b[0m \u001b[0;36m0\u001b[0m\u001b[0;34m:\u001b[0m\u001b[0;34m\u001b[0m\u001b[0;34m\u001b[0m\u001b[0m\n\u001b[0;32m--> 295\u001b[0;31m                 \u001b[0;32mraise\u001b[0m \u001b[0mValueError\u001b[0m\u001b[0;34m(\u001b[0m\u001b[0;34m\"The PyDataset has length 0\"\u001b[0m\u001b[0;34m)\u001b[0m\u001b[0;34m\u001b[0m\u001b[0;34m\u001b[0m\u001b[0m\n\u001b[0m\u001b[1;32m    296\u001b[0m             \u001b[0mself\u001b[0m\u001b[0;34m.\u001b[0m\u001b[0m_output_signature\u001b[0m \u001b[0;34m=\u001b[0m \u001b[0mdata_adapter_utils\u001b[0m\u001b[0;34m.\u001b[0m\u001b[0mget_tensor_spec\u001b[0m\u001b[0;34m(\u001b[0m\u001b[0mbatches\u001b[0m\u001b[0;34m)\u001b[0m\u001b[0;34m\u001b[0m\u001b[0;34m\u001b[0m\u001b[0m\n\u001b[1;32m    297\u001b[0m \u001b[0;34m\u001b[0m\u001b[0m\n",
      "\u001b[0;31mValueError\u001b[0m: The PyDataset has length 0"
     ]
    }
   ],
   "source": [
    "# Train the model\n",
    "history = model.fit(\n",
    "    train_generator,\n",
    "    epochs=5 # You can adjust the number of epochs\n",
    ")"
   ]
  },
  {
   "cell_type": "code",
   "execution_count": null,
   "metadata": {
    "colab": {
     "base_uri": "https://localhost:8080/",
     "height": 315
    },
    "executionInfo": {
     "elapsed": 130,
     "status": "error",
     "timestamp": 1752568430257,
     "user": {
      "displayName": "sadat rahman",
      "userId": "00315844507455805433"
     },
     "user_tz": -360
    },
    "id": "V4bYAt_1N_vu",
    "outputId": "455fd1b9-dd0a-4874-e481-2edec217cb2f"
   },
   "outputs": [
    {
     "ename": "FileNotFoundError",
     "evalue": "[Errno 2] No such file or directory: '/tmp/datasetmain/train/normal'",
     "output_type": "error",
     "traceback": [
      "\u001b[0;31m---------------------------------------------------------------------------\u001b[0m",
      "\u001b[0;31mFileNotFoundError\u001b[0m                         Traceback (most recent call last)",
      "\u001b[0;32m/tmp/ipython-input-11-3139118738.py\u001b[0m in \u001b[0;36m<cell line: 0>\u001b[0;34m()\u001b[0m\n\u001b[1;32m     55\u001b[0m \u001b[0mtest_folder\u001b[0m \u001b[0;34m=\u001b[0m \u001b[0;34m'/tmp/test'\u001b[0m\u001b[0;34m\u001b[0m\u001b[0;34m\u001b[0m\u001b[0m\n\u001b[1;32m     56\u001b[0m \u001b[0;34m\u001b[0m\u001b[0m\n\u001b[0;32m---> 57\u001b[0;31m \u001b[0msplit_data\u001b[0m\u001b[0;34m(\u001b[0m\u001b[0msource_folder1\u001b[0m\u001b[0;34m,\u001b[0m \u001b[0msource_folder2\u001b[0m\u001b[0;34m,\u001b[0m \u001b[0mtrain_folder\u001b[0m\u001b[0;34m,\u001b[0m \u001b[0mtest_folder\u001b[0m\u001b[0;34m,\u001b[0m \u001b[0msplit_ratio\u001b[0m\u001b[0;34m=\u001b[0m\u001b[0;36m0.8\u001b[0m\u001b[0;34m)\u001b[0m\u001b[0;34m\u001b[0m\u001b[0;34m\u001b[0m\u001b[0m\n\u001b[0m",
      "\u001b[0;32m/tmp/ipython-input-11-3139118738.py\u001b[0m in \u001b[0;36msplit_data\u001b[0;34m(source_folder1, source_folder2, train_folder, test_folder, split_ratio)\u001b[0m\n\u001b[1;32m     14\u001b[0m \u001b[0;34m\u001b[0m\u001b[0m\n\u001b[1;32m     15\u001b[0m     \u001b[0;31m# List files from both source folders\u001b[0m\u001b[0;34m\u001b[0m\u001b[0;34m\u001b[0m\u001b[0m\n\u001b[0;32m---> 16\u001b[0;31m     \u001b[0mfiles_folder1\u001b[0m \u001b[0;34m=\u001b[0m \u001b[0mos\u001b[0m\u001b[0;34m.\u001b[0m\u001b[0mlistdir\u001b[0m\u001b[0;34m(\u001b[0m\u001b[0msource_folder1\u001b[0m\u001b[0;34m)\u001b[0m\u001b[0;34m\u001b[0m\u001b[0;34m\u001b[0m\u001b[0m\n\u001b[0m\u001b[1;32m     17\u001b[0m     \u001b[0mfiles_folder2\u001b[0m \u001b[0;34m=\u001b[0m \u001b[0mos\u001b[0m\u001b[0;34m.\u001b[0m\u001b[0mlistdir\u001b[0m\u001b[0;34m(\u001b[0m\u001b[0msource_folder2\u001b[0m\u001b[0;34m)\u001b[0m\u001b[0;34m\u001b[0m\u001b[0;34m\u001b[0m\u001b[0m\n\u001b[1;32m     18\u001b[0m \u001b[0;34m\u001b[0m\u001b[0m\n",
      "\u001b[0;31mFileNotFoundError\u001b[0m: [Errno 2] No such file or directory: '/tmp/datasetmain/train/normal'"
     ]
    }
   ],
   "source": [
    "import os\n",
    "import random\n",
    "import shutil\n",
    "\n",
    "def split_data(source_folder1, source_folder2, train_folder, test_folder, split_ratio=0.8):\n",
    "    # Create train and test folders if they don't exist, and remove existing contents\n",
    "    for folder in [train_folder, test_folder]:\n",
    "        if os.path.exists(folder):\n",
    "            shutil.rmtree(folder) # Remove existing folders to ensure a clean split\n",
    "        os.makedirs(folder)\n",
    "        os.makedirs(os.path.join(folder, 'normal-pylorus'))\n",
    "        os.makedirs(os.path.join(folder, 'polyps'))\n",
    "\n",
    "\n",
    "    # List files from both source folders\n",
    "    files_folder1 = os.listdir(source_folder1)\n",
    "    files_folder2 = os.listdir(source_folder2)\n",
    "\n",
    "    # Calculate the number of files to move to the train folder\n",
    "    num_train_folder1 = int(split_ratio * len(files_folder1))\n",
    "    num_train_folder2 = int(split_ratio * len(files_folder2))\n",
    "\n",
    "    # Randomly select files for the train folder\n",
    "    train_files_folder1 = random.sample(files_folder1, num_train_folder1)\n",
    "    train_files_folder2 = random.sample(files_folder2, num_train_folder2)\n",
    "\n",
    "    # Move files to the train folder\n",
    "    for filename in train_files_folder1:\n",
    "        source_path = os.path.join(source_folder1, filename)\n",
    "        destination_path = os.path.join(f'{train_folder}/normal-pylorus', filename)\n",
    "        shutil.copy2(source_path, destination_path)\n",
    "\n",
    "    for filename in train_files_folder2:\n",
    "        source_path = os.path.join(source_folder2, filename)\n",
    "        destination_path = os.path.join(f'{train_folder}/polyps', filename)\n",
    "        shutil.copy2(source_path, destination_path)\n",
    "\n",
    "    # Move the remaining files to the test folder\n",
    "    for filename in files_folder1:\n",
    "        if filename not in train_files_folder1:\n",
    "            source_path = os.path.join(source_folder1, filename)\n",
    "            destination_path = os.path.join(f'{test_folder}/normal-pylorus', filename)\n",
    "            shutil.copy2(source_path, destination_path)\n",
    "\n",
    "    for filename in files_folder2:\n",
    "        if filename not in train_files_folder2:\n",
    "            source_path = os.path.join(source_folder2, filename)\n",
    "            destination_path = os.path.join(f'{test_folder}/polyps', filename)\n",
    "            shutil.copy2(source_path, destination_path)\n",
    "\n",
    "\n",
    "source_folder1 = '/tmp/datasetmain/train/normal'\n",
    "source_folder2 = '/tmp/datasetmain/train/adnormal'\n",
    "train_folder = '/tmp/train'\n",
    "test_folder = '/tmp/test'\n",
    "\n",
    "split_data(source_folder1, source_folder2, train_folder, test_folder, split_ratio=0.8)"
   ]
  },
  {
   "cell_type": "code",
   "execution_count": null,
   "metadata": {
    "colab": {
     "base_uri": "https://localhost:8080/",
     "height": 480
    },
    "executionInfo": {
     "elapsed": 19120,
     "status": "error",
     "timestamp": 1752568462491,
     "user": {
      "displayName": "sadat rahman",
      "userId": "00315844507455805433"
     },
     "user_tz": -360
    },
    "id": "oqedUldKOC_d",
    "outputId": "5b4bd7c0-f3dd-4797-9aa7-a133d99c2f4b"
   },
   "outputs": [
    {
     "name": "stdout",
     "output_type": "stream",
     "text": [
      "Drive already mounted at /content/drive; to attempt to forcibly remount, call drive.mount(\"/content/drive\", force_remount=True).\n",
      "Found 1280 images belonging to 2 classes.\n",
      "Found 320 images belonging to 2 classes.\n"
     ]
    },
    {
     "ename": "ValueError",
     "evalue": "Argument(s) not recognized: {'learning_n_epochs': 0.001}",
     "output_type": "error",
     "traceback": [
      "\u001b[0;31m---------------------------------------------------------------------------\u001b[0m",
      "\u001b[0;31mValueError\u001b[0m                                Traceback (most recent call last)",
      "\u001b[0;32m/tmp/ipython-input-12-313419660.py\u001b[0m in \u001b[0;36m<cell line: 0>\u001b[0;34m()\u001b[0m\n\u001b[1;32m    111\u001b[0m \u001b[0;34m\u001b[0m\u001b[0m\n\u001b[1;32m    112\u001b[0m \u001b[0;31m# Compile the model\u001b[0m\u001b[0;34m\u001b[0m\u001b[0;34m\u001b[0m\u001b[0m\n\u001b[0;32m--> 113\u001b[0;31m \u001b[0mmodel\u001b[0m\u001b[0;34m.\u001b[0m\u001b[0mcompile\u001b[0m\u001b[0;34m(\u001b[0m\u001b[0moptimizer\u001b[0m\u001b[0;34m=\u001b[0m\u001b[0mAdam\u001b[0m\u001b[0;34m(\u001b[0m\u001b[0mlearning_n_epochs\u001b[0m\u001b[0;34m=\u001b[0m\u001b[0;36m0.001\u001b[0m\u001b[0;34m)\u001b[0m\u001b[0;34m,\u001b[0m \u001b[0mloss\u001b[0m\u001b[0;34m=\u001b[0m\u001b[0;34m'binary_crossentropy'\u001b[0m\u001b[0;34m,\u001b[0m \u001b[0mmetrics\u001b[0m\u001b[0;34m=\u001b[0m\u001b[0;34m[\u001b[0m\u001b[0;34m'accuracy'\u001b[0m\u001b[0;34m]\u001b[0m\u001b[0;34m)\u001b[0m\u001b[0;34m\u001b[0m\u001b[0;34m\u001b[0m\u001b[0m\n\u001b[0m\u001b[1;32m    114\u001b[0m \u001b[0;34m\u001b[0m\u001b[0m\n\u001b[1;32m    115\u001b[0m \u001b[0;31m# Train the model\u001b[0m\u001b[0;34m\u001b[0m\u001b[0;34m\u001b[0m\u001b[0m\n",
      "\u001b[0;32m/usr/local/lib/python3.11/dist-packages/keras/src/optimizers/adam.py\u001b[0m in \u001b[0;36m__init__\u001b[0;34m(self, learning_rate, beta_1, beta_2, epsilon, amsgrad, weight_decay, clipnorm, clipvalue, global_clipnorm, use_ema, ema_momentum, ema_overwrite_frequency, loss_scale_factor, gradient_accumulation_steps, name, **kwargs)\u001b[0m\n\u001b[1;32m     60\u001b[0m         \u001b[0;34m**\u001b[0m\u001b[0mkwargs\u001b[0m\u001b[0;34m,\u001b[0m\u001b[0;34m\u001b[0m\u001b[0;34m\u001b[0m\u001b[0m\n\u001b[1;32m     61\u001b[0m     ):\n\u001b[0;32m---> 62\u001b[0;31m         super().__init__(\n\u001b[0m\u001b[1;32m     63\u001b[0m             \u001b[0mlearning_rate\u001b[0m\u001b[0;34m=\u001b[0m\u001b[0mlearning_rate\u001b[0m\u001b[0;34m,\u001b[0m\u001b[0;34m\u001b[0m\u001b[0;34m\u001b[0m\u001b[0m\n\u001b[1;32m     64\u001b[0m             \u001b[0mname\u001b[0m\u001b[0;34m=\u001b[0m\u001b[0mname\u001b[0m\u001b[0;34m,\u001b[0m\u001b[0;34m\u001b[0m\u001b[0;34m\u001b[0m\u001b[0m\n",
      "\u001b[0;32m/usr/local/lib/python3.11/dist-packages/keras/src/backend/tensorflow/optimizer.py\u001b[0m in \u001b[0;36m__init__\u001b[0;34m(self, *args, **kwargs)\u001b[0m\n\u001b[1;32m     19\u001b[0m \u001b[0;32mclass\u001b[0m \u001b[0mTFOptimizer\u001b[0m\u001b[0;34m(\u001b[0m\u001b[0mKerasAutoTrackable\u001b[0m\u001b[0;34m,\u001b[0m \u001b[0mbase_optimizer\u001b[0m\u001b[0;34m.\u001b[0m\u001b[0mBaseOptimizer\u001b[0m\u001b[0;34m)\u001b[0m\u001b[0;34m:\u001b[0m\u001b[0;34m\u001b[0m\u001b[0;34m\u001b[0m\u001b[0m\n\u001b[1;32m     20\u001b[0m     \u001b[0;32mdef\u001b[0m \u001b[0m__init__\u001b[0m\u001b[0;34m(\u001b[0m\u001b[0mself\u001b[0m\u001b[0;34m,\u001b[0m \u001b[0;34m*\u001b[0m\u001b[0margs\u001b[0m\u001b[0;34m,\u001b[0m \u001b[0;34m**\u001b[0m\u001b[0mkwargs\u001b[0m\u001b[0;34m)\u001b[0m\u001b[0;34m:\u001b[0m\u001b[0;34m\u001b[0m\u001b[0;34m\u001b[0m\u001b[0m\n\u001b[0;32m---> 21\u001b[0;31m         \u001b[0msuper\u001b[0m\u001b[0;34m(\u001b[0m\u001b[0;34m)\u001b[0m\u001b[0;34m.\u001b[0m\u001b[0m__init__\u001b[0m\u001b[0;34m(\u001b[0m\u001b[0;34m*\u001b[0m\u001b[0margs\u001b[0m\u001b[0;34m,\u001b[0m \u001b[0;34m**\u001b[0m\u001b[0mkwargs\u001b[0m\u001b[0;34m)\u001b[0m\u001b[0;34m\u001b[0m\u001b[0;34m\u001b[0m\u001b[0m\n\u001b[0m\u001b[1;32m     22\u001b[0m         \u001b[0mself\u001b[0m\u001b[0;34m.\u001b[0m\u001b[0m_distribution_strategy\u001b[0m \u001b[0;34m=\u001b[0m \u001b[0mtf\u001b[0m\u001b[0;34m.\u001b[0m\u001b[0mdistribute\u001b[0m\u001b[0;34m.\u001b[0m\u001b[0mget_strategy\u001b[0m\u001b[0;34m(\u001b[0m\u001b[0;34m)\u001b[0m\u001b[0;34m\u001b[0m\u001b[0;34m\u001b[0m\u001b[0m\n\u001b[1;32m     23\u001b[0m \u001b[0;34m\u001b[0m\u001b[0m\n",
      "\u001b[0;32m/usr/local/lib/python3.11/dist-packages/keras/src/optimizers/base_optimizer.py\u001b[0m in \u001b[0;36m__init__\u001b[0;34m(self, learning_rate, weight_decay, clipnorm, clipvalue, global_clipnorm, use_ema, ema_momentum, ema_overwrite_frequency, loss_scale_factor, gradient_accumulation_steps, name, **kwargs)\u001b[0m\n\u001b[1;32m     88\u001b[0m             )\n\u001b[1;32m     89\u001b[0m         \u001b[0;32mif\u001b[0m \u001b[0mkwargs\u001b[0m\u001b[0;34m:\u001b[0m\u001b[0;34m\u001b[0m\u001b[0;34m\u001b[0m\u001b[0m\n\u001b[0;32m---> 90\u001b[0;31m             \u001b[0;32mraise\u001b[0m \u001b[0mValueError\u001b[0m\u001b[0;34m(\u001b[0m\u001b[0;34mf\"Argument(s) not recognized: {kwargs}\"\u001b[0m\u001b[0;34m)\u001b[0m\u001b[0;34m\u001b[0m\u001b[0;34m\u001b[0m\u001b[0m\n\u001b[0m\u001b[1;32m     91\u001b[0m \u001b[0;34m\u001b[0m\u001b[0m\n\u001b[1;32m     92\u001b[0m         \u001b[0;32mif\u001b[0m \u001b[0mname\u001b[0m \u001b[0;32mis\u001b[0m \u001b[0;32mNone\u001b[0m\u001b[0;34m:\u001b[0m\u001b[0;34m\u001b[0m\u001b[0;34m\u001b[0m\u001b[0m\n",
      "\u001b[0;31mValueError\u001b[0m: Argument(s) not recognized: {'learning_n_epochs': 0.001}"
     ]
    }
   ],
   "source": [
    "from google.colab import drive\n",
    "drive.mount('/content/drive')\n",
    "\n",
    "from zipfile import ZipFile\n",
    "zipFilePath='/content/drive/MyDrive/DIP/datasetmain.zip' # place the zip file link here\n",
    "zipFileObj=ZipFile(file=zipFilePath)\n",
    "zipFileObj.extractall('/tmp')\n",
    "\n",
    "import os\n",
    "import random\n",
    "import shutil\n",
    "\n",
    "def split_data(source_folder1, source_folder2, train_folder, test_folder, split_ratio=0.8):\n",
    "    # Create train and test folders if they don't exist, and remove existing contents\n",
    "    for folder in [train_folder, test_folder]:\n",
    "        if os.path.exists(folder):\n",
    "            shutil.rmtree(folder) # Remove existing folders to ensure a clean split\n",
    "        os.makedirs(folder)\n",
    "        os.makedirs(os.path.join(folder, 'normal-pylorus'))\n",
    "        os.makedirs(os.path.join(folder, 'polyps'))\n",
    "\n",
    "\n",
    "    # List files from both source folders\n",
    "    files_folder1 = os.listdir(source_folder1)\n",
    "    files_folder2 = os.listdir(source_folder2)\n",
    "\n",
    "    # Calculate the number of files to move to the train folder\n",
    "    num_train_folder1 = int(split_ratio * len(files_folder1))\n",
    "    num_train_folder2 = int(split_ratio * len(files_folder2))\n",
    "\n",
    "    # Randomly select files for the train folder\n",
    "    train_files_folder1 = random.sample(files_folder1, num_train_folder1)\n",
    "    train_files_folder2 = random.sample(files_folder2, num_train_folder2)\n",
    "\n",
    "    # Move files to the train folder\n",
    "    for filename in train_files_folder1:\n",
    "        source_path = os.path.join(source_folder1, filename)\n",
    "        destination_path = os.path.join(f'{train_folder}/normal-pylorus', filename)\n",
    "        shutil.copy2(source_path, destination_path)\n",
    "\n",
    "    for filename in train_files_folder2:\n",
    "        source_path = os.path.join(source_folder2, filename)\n",
    "        destination_path = os.path.join(f'{train_folder}/polyps', filename)\n",
    "        shutil.copy2(source_path, destination_path)\n",
    "\n",
    "    # Move the remaining files to the test folder\n",
    "    for filename in files_folder1:\n",
    "        if filename not in train_files_folder1:\n",
    "            source_path = os.path.join(source_folder1, filename)\n",
    "            destination_path = os.path.join(f'{test_folder}/normal-pylorus', filename)\n",
    "            shutil.copy2(source_path, destination_path)\n",
    "\n",
    "    for filename in files_folder2:\n",
    "        if filename not in train_files_folder2:\n",
    "            source_path = os.path.join(source_folder2, filename)\n",
    "            destination_path = os.path.join(f'{test_folder}/polyps', filename)\n",
    "            shutil.copy2(source_path, destination_path)\n",
    "\n",
    "\n",
    "source_folder1 = '/tmp/datasetmain/train/normal'\n",
    "source_folder2 = '/tmp/datasetmain/train/adnormal'\n",
    "train_folder = '/tmp/train'\n",
    "test_folder = '/tmp/test'\n",
    "\n",
    "split_data(source_folder1, source_folder2, train_folder, test_folder, split_ratio=0.8)\n",
    "\n",
    "from tensorflow.keras.preprocessing.image import ImageDataGenerator\n",
    "\n",
    "# Instantiate ImageDataGenerator for training data with augmentations\n",
    "train_datagen = ImageDataGenerator(\n",
    "    rescale=1./255,\n",
    "    shear_range=0.2,\n",
    "    zoom_range=0.2,\n",
    "    horizontal_flip=True\n",
    ")\n",
    "\n",
    "# Instantiate ImageDataGenerator for testing data with only rescaling\n",
    "test_datagen = ImageDataGenerator(rescale=1./255)\n",
    "\n",
    "# Create training data generator\n",
    "train_generator = train_datagen.flow_from_directory(\n",
    "    '/tmp/train',\n",
    "    target_size=(224, 224), # GoogleNet input size\n",
    "    batch_size=32,\n",
    "    class_mode='binary' # Two classes: normal-pylorus and polyps\n",
    ")\n",
    "\n",
    "# Create testing data generator\n",
    "test_generator = test_datagen.flow_from_directory(\n",
    "    '/tmp/test',\n",
    "    target_size=(224, 224),\n",
    "    batch_size=32,\n",
    "    class_mode='binary'\n",
    ")\n",
    "\n",
    "from tensorflow.keras.applications.inception_v3 import InceptionV3\n",
    "from tensorflow.keras.layers import Dense, GlobalAveragePooling2D\n",
    "from tensorflow.keras.models import Model\n",
    "from tensorflow.keras.optimizers import Adam\n",
    "\n",
    "base_model = InceptionV3(weights='imagenet', include_top=False)\n",
    "\n",
    "# Add a global average pooling layer\n",
    "x = GlobalAveragePooling2D()(base_model.output)\n",
    "\n",
    "# Add a dense layer with a sigmoid activation for binary classification\n",
    "predictions = Dense(1, activation='sigmoid')(x)\n",
    "\n",
    "# Create the new model\n",
    "model = Model(inputs=base_model.input, outputs=predictions)\n",
    "\n",
    "# Compile the model\n",
    "model.compile(optimizer=Adam(learning_n_epochs=0.001), loss='binary_crossentropy', metrics=['accuracy'])\n",
    "\n",
    "# Train the model\n",
    "history = model.fit(\n",
    "    train_generator,\n",
    "    epochs=5 # You can adjust the number of epochs\n",
    ")"
   ]
  },
  {
   "cell_type": "code",
   "execution_count": null,
   "metadata": {
    "colab": {
     "base_uri": "https://localhost:8080/"
    },
    "executionInfo": {
     "elapsed": 251787,
     "status": "ok",
     "timestamp": 1752568722304,
     "user": {
      "displayName": "sadat rahman",
      "userId": "00315844507455805433"
     },
     "user_tz": -360
    },
    "id": "Pn3yjsVhOJn8",
    "outputId": "5d2fc34e-5d54-42f7-a64c-2da97fb25e5f"
   },
   "outputs": [
    {
     "name": "stderr",
     "output_type": "stream",
     "text": [
      "/usr/local/lib/python3.11/dist-packages/keras/src/trainers/data_adapters/py_dataset_adapter.py:121: UserWarning: Your `PyDataset` class should call `super().__init__(**kwargs)` in its constructor. `**kwargs` can include `workers`, `use_multiprocessing`, `max_queue_size`. Do not pass these arguments to `fit()`, as they will be ignored.\n",
      "  self._warn_if_super_not_called()\n"
     ]
    },
    {
     "name": "stdout",
     "output_type": "stream",
     "text": [
      "Epoch 1/5\n",
      "\u001b[1m40/40\u001b[0m \u001b[32m━━━━━━━━━━━━━━━━━━━━\u001b[0m\u001b[37m\u001b[0m \u001b[1m102s\u001b[0m 557ms/step - accuracy: 0.9275 - loss: 0.1767\n",
      "Epoch 2/5\n",
      "\u001b[1m40/40\u001b[0m \u001b[32m━━━━━━━━━━━━━━━━━━━━\u001b[0m\u001b[37m\u001b[0m \u001b[1m43s\u001b[0m 599ms/step - accuracy: 0.9622 - loss: 0.0847\n",
      "Epoch 3/5\n",
      "\u001b[1m40/40\u001b[0m \u001b[32m━━━━━━━━━━━━━━━━━━━━\u001b[0m\u001b[37m\u001b[0m \u001b[1m24s\u001b[0m 586ms/step - accuracy: 0.9880 - loss: 0.0420\n",
      "Epoch 4/5\n",
      "\u001b[1m40/40\u001b[0m \u001b[32m━━━━━━━━━━━━━━━━━━━━\u001b[0m\u001b[37m\u001b[0m \u001b[1m41s\u001b[0m 586ms/step - accuracy: 0.9818 - loss: 0.0543\n",
      "Epoch 5/5\n",
      "\u001b[1m40/40\u001b[0m \u001b[32m━━━━━━━━━━━━━━━━━━━━\u001b[0m\u001b[37m\u001b[0m \u001b[1m22s\u001b[0m 554ms/step - accuracy: 0.9880 - loss: 0.0300\n"
     ]
    }
   ],
   "source": [
    "from tensorflow.keras.optimizers import Adam\n",
    "\n",
    "# Compile the model with the corrected argument name\n",
    "model.compile(optimizer=Adam(learning_rate=0.001), loss='binary_crossentropy', metrics=['accuracy'])\n",
    "\n",
    "# Train the model\n",
    "history = model.fit(\n",
    "    train_generator,\n",
    "    epochs=5 # You can adjust the number of epochs\n",
    ")"
   ]
  },
  {
   "cell_type": "code",
   "execution_count": null,
   "metadata": {
    "colab": {
     "base_uri": "https://localhost:8080/"
    },
    "executionInfo": {
     "elapsed": 9355,
     "status": "ok",
     "timestamp": 1752568744781,
     "user": {
      "displayName": "sadat rahman",
      "userId": "00315844507455805433"
     },
     "user_tz": -360
    },
    "id": "7941d8d8",
    "outputId": "7e4708d7-6e36-42f5-f69d-fc10a40c2c1a"
   },
   "outputs": [
    {
     "name": "stderr",
     "output_type": "stream",
     "text": [
      "/usr/local/lib/python3.11/dist-packages/keras/src/trainers/data_adapters/py_dataset_adapter.py:121: UserWarning: Your `PyDataset` class should call `super().__init__(**kwargs)` in its constructor. `**kwargs` can include `workers`, `use_multiprocessing`, `max_queue_size`. Do not pass these arguments to `fit()`, as they will be ignored.\n",
      "  self._warn_if_super_not_called()\n"
     ]
    },
    {
     "name": "stdout",
     "output_type": "stream",
     "text": [
      "\u001b[1m10/10\u001b[0m \u001b[32m━━━━━━━━━━━━━━━━━━━━\u001b[0m\u001b[37m\u001b[0m \u001b[1m9s\u001b[0m 169ms/step - accuracy: 0.9158 - loss: 0.1648\n",
      "Test Loss: 0.2539460062980652\n",
      "Test Accuracy: 0.90625\n"
     ]
    }
   ],
   "source": [
    "test_results = model.evaluate(test_generator)\n",
    "print(f\"Test Loss: {test_results[0]}\")\n",
    "print(f\"Test Accuracy: {test_results[1]}\")"
   ]
  },
  {
   "cell_type": "code",
   "execution_count": null,
   "metadata": {
    "colab": {
     "base_uri": "https://localhost:8080/"
    },
    "executionInfo": {
     "elapsed": 21,
     "status": "ok",
     "timestamp": 1752568754003,
     "user": {
      "displayName": "sadat rahman",
      "userId": "00315844507455805433"
     },
     "user_tz": -360
    },
    "id": "3ee6c40e",
    "outputId": "79568c3d-286c-4bf7-ad9a-37d0bf10ca9c"
   },
   "outputs": [
    {
     "name": "stdout",
     "output_type": "stream",
     "text": [
      "Test Loss: 0.2539460062980652\n",
      "Test Accuracy: 0.90625\n"
     ]
    }
   ],
   "source": [
    "print(f\"Test Loss: {test_results[0]}\")\n",
    "print(f\"Test Accuracy: {test_results[1]}\")"
   ]
  },
  {
   "cell_type": "code",
   "execution_count": null,
   "metadata": {
    "colab": {
     "base_uri": "https://localhost:8080/",
     "height": 141
    },
    "executionInfo": {
     "elapsed": 96,
     "status": "error",
     "timestamp": 1752590233171,
     "user": {
      "displayName": "sadat rahman",
      "userId": "00315844507455805433"
     },
     "user_tz": -360
    },
    "id": "955b814a",
    "outputId": "21892e3a-fd55-48bc-e43f-91a4d6cf576d"
   },
   "outputs": [
    {
     "ename": "NameError",
     "evalue": "name 'model' is not defined",
     "output_type": "error",
     "traceback": [
      "\u001b[0;31m---------------------------------------------------------------------------\u001b[0m",
      "\u001b[0;31mNameError\u001b[0m                                 Traceback (most recent call last)",
      "\u001b[0;32m/tmp/ipython-input-1-1915993060.py\u001b[0m in \u001b[0;36m<cell line: 0>\u001b[0;34m()\u001b[0m\n\u001b[0;32m----> 1\u001b[0;31m \u001b[0mtrain_predictions\u001b[0m \u001b[0;34m=\u001b[0m \u001b[0mmodel\u001b[0m\u001b[0;34m.\u001b[0m\u001b[0mpredict\u001b[0m\u001b[0;34m(\u001b[0m\u001b[0mtrain_generator\u001b[0m\u001b[0;34m)\u001b[0m\u001b[0;34m\u001b[0m\u001b[0;34m\u001b[0m\u001b[0m\n\u001b[0m",
      "\u001b[0;31mNameError\u001b[0m: name 'model' is not defined"
     ]
    }
   ],
   "source": [
    "train_predictions = model.predict(train_generator)"
   ]
  },
  {
   "cell_type": "markdown",
   "metadata": {
    "id": "699eb404"
   },
   "source": [
    "**Reasoning**:\n",
    "The previous attempt to predict on the training set failed because the `model` was not defined. I need to re-execute the cell that defines and compiles the model to make the `model` object available and then predict on the training generator.\n",
    "\n"
   ]
  },
  {
   "cell_type": "code",
   "execution_count": null,
   "metadata": {
    "colab": {
     "base_uri": "https://localhost:8080/",
     "height": 231
    },
    "executionInfo": {
     "elapsed": 9739,
     "status": "error",
     "timestamp": 1752590249348,
     "user": {
      "displayName": "sadat rahman",
      "userId": "00315844507455805433"
     },
     "user_tz": -360
    },
    "id": "cx6c0jCvhMV5",
    "outputId": "816646f8-f3e7-427f-d39b-6ce6ab4ff6f0"
   },
   "outputs": [
    {
     "name": "stdout",
     "output_type": "stream",
     "text": [
      "Downloading data from https://storage.googleapis.com/tensorflow/keras-applications/inception_v3/inception_v3_weights_tf_dim_ordering_tf_kernels_notop.h5\n",
      "\u001b[1m87910968/87910968\u001b[0m \u001b[32m━━━━━━━━━━━━━━━━━━━━\u001b[0m\u001b[37m\u001b[0m \u001b[1m0s\u001b[0m 0us/step\n"
     ]
    },
    {
     "ename": "NameError",
     "evalue": "name 'train_generator' is not defined",
     "output_type": "error",
     "traceback": [
      "\u001b[0;31m---------------------------------------------------------------------------\u001b[0m",
      "\u001b[0;31mNameError\u001b[0m                                 Traceback (most recent call last)",
      "\u001b[0;32m/tmp/ipython-input-2-4095927017.py\u001b[0m in \u001b[0;36m<cell line: 0>\u001b[0;34m()\u001b[0m\n\u001b[1;32m     18\u001b[0m \u001b[0mmodel\u001b[0m\u001b[0;34m.\u001b[0m\u001b[0mcompile\u001b[0m\u001b[0;34m(\u001b[0m\u001b[0moptimizer\u001b[0m\u001b[0;34m=\u001b[0m\u001b[0mAdam\u001b[0m\u001b[0;34m(\u001b[0m\u001b[0mlearning_rate\u001b[0m\u001b[0;34m=\u001b[0m\u001b[0;36m0.001\u001b[0m\u001b[0;34m)\u001b[0m\u001b[0;34m,\u001b[0m \u001b[0mloss\u001b[0m\u001b[0;34m=\u001b[0m\u001b[0;34m'binary_crossentropy'\u001b[0m\u001b[0;34m,\u001b[0m \u001b[0mmetrics\u001b[0m\u001b[0;34m=\u001b[0m\u001b[0;34m[\u001b[0m\u001b[0;34m'accuracy'\u001b[0m\u001b[0;34m]\u001b[0m\u001b[0;34m)\u001b[0m\u001b[0;34m\u001b[0m\u001b[0;34m\u001b[0m\u001b[0m\n\u001b[1;32m     19\u001b[0m \u001b[0;34m\u001b[0m\u001b[0m\n\u001b[0;32m---> 20\u001b[0;31m \u001b[0mtrain_predictions\u001b[0m \u001b[0;34m=\u001b[0m \u001b[0mmodel\u001b[0m\u001b[0;34m.\u001b[0m\u001b[0mpredict\u001b[0m\u001b[0;34m(\u001b[0m\u001b[0mtrain_generator\u001b[0m\u001b[0;34m)\u001b[0m\u001b[0;34m\u001b[0m\u001b[0;34m\u001b[0m\u001b[0m\n\u001b[0m",
      "\u001b[0;31mNameError\u001b[0m: name 'train_generator' is not defined"
     ]
    }
   ],
   "source": [
    "from tensorflow.keras.applications.inception_v3 import InceptionV3\n",
    "from tensorflow.keras.layers import Dense, GlobalAveragePooling2D\n",
    "from tensorflow.keras.models import Model\n",
    "from tensorflow.keras.optimizers import Adam\n",
    "\n",
    "base_model = InceptionV3(weights='imagenet', include_top=False)\n",
    "\n",
    "# Add a global average pooling layer\n",
    "x = GlobalAveragePooling2D()(base_model.output)\n",
    "\n",
    "# Add a dense layer with a sigmoid activation for binary classification\n",
    "predictions = Dense(1, activation='sigmoid')(x)\n",
    "\n",
    "# Create the new model\n",
    "model = Model(inputs=base_model.input, outputs=predictions)\n",
    "\n",
    "# Compile the model\n",
    "model.compile(optimizer=Adam(learning_rate=0.001), loss='binary_crossentropy', metrics=['accuracy'])\n",
    "\n",
    "train_predictions = model.predict(train_generator)"
   ]
  },
  {
   "cell_type": "code",
   "execution_count": null,
   "metadata": {
    "colab": {
     "base_uri": "https://localhost:8080/",
     "height": 391
    },
    "executionInfo": {
     "elapsed": 132,
     "status": "error",
     "timestamp": 1752590255759,
     "user": {
      "displayName": "sadat rahman",
      "userId": "00315844507455805433"
     },
     "user_tz": -360
    },
    "id": "HdK_iroNhQQG",
    "outputId": "3586b399-9e01-4455-e56a-6357202418a6"
   },
   "outputs": [
    {
     "ename": "FileNotFoundError",
     "evalue": "[Errno 2] No such file or directory: '/tmp/train'",
     "output_type": "error",
     "traceback": [
      "\u001b[0;31m---------------------------------------------------------------------------\u001b[0m",
      "\u001b[0;31mFileNotFoundError\u001b[0m                         Traceback (most recent call last)",
      "\u001b[0;32m/tmp/ipython-input-3-2658490323.py\u001b[0m in \u001b[0;36m<cell line: 0>\u001b[0;34m()\u001b[0m\n\u001b[1;32m     17\u001b[0m \u001b[0;34m\u001b[0m\u001b[0m\n\u001b[1;32m     18\u001b[0m \u001b[0;31m# Create training data generator\u001b[0m\u001b[0;34m\u001b[0m\u001b[0;34m\u001b[0m\u001b[0m\n\u001b[0;32m---> 19\u001b[0;31m train_generator = train_datagen.flow_from_directory(\n\u001b[0m\u001b[1;32m     20\u001b[0m     \u001b[0;34m'/tmp/train'\u001b[0m\u001b[0;34m,\u001b[0m\u001b[0;34m\u001b[0m\u001b[0;34m\u001b[0m\u001b[0m\n\u001b[1;32m     21\u001b[0m     \u001b[0mtarget_size\u001b[0m\u001b[0;34m=\u001b[0m\u001b[0;34m(\u001b[0m\u001b[0;36m224\u001b[0m\u001b[0;34m,\u001b[0m \u001b[0;36m224\u001b[0m\u001b[0;34m)\u001b[0m\u001b[0;34m,\u001b[0m \u001b[0;31m# GoogleNet input size\u001b[0m\u001b[0;34m\u001b[0m\u001b[0;34m\u001b[0m\u001b[0m\n",
      "\u001b[0;32m/usr/local/lib/python3.11/dist-packages/keras/src/legacy/preprocessing/image.py\u001b[0m in \u001b[0;36mflow_from_directory\u001b[0;34m(self, directory, target_size, color_mode, classes, class_mode, batch_size, shuffle, seed, save_to_dir, save_prefix, save_format, follow_links, subset, interpolation, keep_aspect_ratio)\u001b[0m\n\u001b[1;32m   1136\u001b[0m         \u001b[0mkeep_aspect_ratio\u001b[0m\u001b[0;34m=\u001b[0m\u001b[0;32mFalse\u001b[0m\u001b[0;34m,\u001b[0m\u001b[0;34m\u001b[0m\u001b[0;34m\u001b[0m\u001b[0m\n\u001b[1;32m   1137\u001b[0m     ):\n\u001b[0;32m-> 1138\u001b[0;31m         return DirectoryIterator(\n\u001b[0m\u001b[1;32m   1139\u001b[0m             \u001b[0mdirectory\u001b[0m\u001b[0;34m,\u001b[0m\u001b[0;34m\u001b[0m\u001b[0;34m\u001b[0m\u001b[0m\n\u001b[1;32m   1140\u001b[0m             \u001b[0mself\u001b[0m\u001b[0;34m,\u001b[0m\u001b[0;34m\u001b[0m\u001b[0;34m\u001b[0m\u001b[0m\n",
      "\u001b[0;32m/usr/local/lib/python3.11/dist-packages/keras/src/legacy/preprocessing/image.py\u001b[0m in \u001b[0;36m__init__\u001b[0;34m(self, directory, image_data_generator, target_size, color_mode, classes, class_mode, batch_size, shuffle, seed, data_format, save_to_dir, save_prefix, save_format, follow_links, subset, interpolation, keep_aspect_ratio, dtype)\u001b[0m\n\u001b[1;32m    451\u001b[0m         \u001b[0;32mif\u001b[0m \u001b[0;32mnot\u001b[0m \u001b[0mclasses\u001b[0m\u001b[0;34m:\u001b[0m\u001b[0;34m\u001b[0m\u001b[0;34m\u001b[0m\u001b[0m\n\u001b[1;32m    452\u001b[0m             \u001b[0mclasses\u001b[0m \u001b[0;34m=\u001b[0m \u001b[0;34m[\u001b[0m\u001b[0;34m]\u001b[0m\u001b[0;34m\u001b[0m\u001b[0;34m\u001b[0m\u001b[0m\n\u001b[0;32m--> 453\u001b[0;31m             \u001b[0;32mfor\u001b[0m \u001b[0msubdir\u001b[0m \u001b[0;32min\u001b[0m \u001b[0msorted\u001b[0m\u001b[0;34m(\u001b[0m\u001b[0mos\u001b[0m\u001b[0;34m.\u001b[0m\u001b[0mlistdir\u001b[0m\u001b[0;34m(\u001b[0m\u001b[0mdirectory\u001b[0m\u001b[0;34m)\u001b[0m\u001b[0;34m)\u001b[0m\u001b[0;34m:\u001b[0m\u001b[0;34m\u001b[0m\u001b[0;34m\u001b[0m\u001b[0m\n\u001b[0m\u001b[1;32m    454\u001b[0m                 \u001b[0;32mif\u001b[0m \u001b[0mos\u001b[0m\u001b[0;34m.\u001b[0m\u001b[0mpath\u001b[0m\u001b[0;34m.\u001b[0m\u001b[0misdir\u001b[0m\u001b[0;34m(\u001b[0m\u001b[0mos\u001b[0m\u001b[0;34m.\u001b[0m\u001b[0mpath\u001b[0m\u001b[0;34m.\u001b[0m\u001b[0mjoin\u001b[0m\u001b[0;34m(\u001b[0m\u001b[0mdirectory\u001b[0m\u001b[0;34m,\u001b[0m \u001b[0msubdir\u001b[0m\u001b[0;34m)\u001b[0m\u001b[0;34m)\u001b[0m\u001b[0;34m:\u001b[0m\u001b[0;34m\u001b[0m\u001b[0;34m\u001b[0m\u001b[0m\n\u001b[1;32m    455\u001b[0m                     \u001b[0mclasses\u001b[0m\u001b[0;34m.\u001b[0m\u001b[0mappend\u001b[0m\u001b[0;34m(\u001b[0m\u001b[0msubdir\u001b[0m\u001b[0;34m)\u001b[0m\u001b[0;34m\u001b[0m\u001b[0;34m\u001b[0m\u001b[0m\n",
      "\u001b[0;31mFileNotFoundError\u001b[0m: [Errno 2] No such file or directory: '/tmp/train'"
     ]
    }
   ],
   "source": [
    "from tensorflow.keras.preprocessing.image import ImageDataGenerator\n",
    "from tensorflow.keras.applications.inception_v3 import InceptionV3\n",
    "from tensorflow.keras.layers import Dense, GlobalAveragePooling2D\n",
    "from tensorflow.keras.models import Model\n",
    "from tensorflow.keras.optimizers import Adam\n",
    "\n",
    "# Instantiate ImageDataGenerator for training data with augmentations\n",
    "train_datagen = ImageDataGenerator(\n",
    "    rescale=1./255,\n",
    "    shear_range=0.2,\n",
    "    zoom_range=0.2,\n",
    "    horizontal_flip=True\n",
    ")\n",
    "\n",
    "# Instantiate ImageDataGenerator for testing data with only rescaling\n",
    "test_datagen = ImageDataGenerator(rescale=1./255)\n",
    "\n",
    "# Create training data generator\n",
    "train_generator = train_datagen.flow_from_directory(\n",
    "    '/tmp/train',\n",
    "    target_size=(224, 224), # GoogleNet input size\n",
    "    batch_size=32,\n",
    "    class_mode='binary' # Two classes: normal-pylorus and polyps\n",
    ")\n",
    "\n",
    "# Create testing data generator\n",
    "test_generator = test_datagen.flow_from_directory(\n",
    "    '/tmp/test',\n",
    "    target_size=(224, 224),\n",
    "    batch_size=32,\n",
    "    class_mode='binary'\n",
    ")\n",
    "\n",
    "base_model = InceptionV3(weights='imagenet', include_top=False)\n",
    "\n",
    "# Add a global average pooling layer\n",
    "x = GlobalAveragePooling2D()(base_model.output)\n",
    "\n",
    "# Add a dense layer with a sigmoid activation for binary classification\n",
    "predictions = Dense(1, activation='sigmoid')(x)\n",
    "\n",
    "# Create the new model\n",
    "model = Model(inputs=base_model.input, outputs=predictions)\n",
    "\n",
    "# Compile the model\n",
    "model.compile(optimizer=Adam(learning_rate=0.001), loss='binary_crossentropy', metrics=['accuracy'])\n",
    "\n",
    "train_predictions = model.predict(train_generator)"
   ]
  },
  {
   "cell_type": "code",
   "execution_count": null,
   "metadata": {
    "colab": {
     "base_uri": "https://localhost:8080/"
    },
    "executionInfo": {
     "elapsed": 84385,
     "status": "ok",
     "timestamp": 1752590351775,
     "user": {
      "displayName": "sadat rahman",
      "userId": "00315844507455805433"
     },
     "user_tz": -360
    },
    "id": "3jnr6T2ohTH9",
    "outputId": "232c117f-a5c7-4719-f80c-51a287403b17"
   },
   "outputs": [
    {
     "name": "stdout",
     "output_type": "stream",
     "text": [
      "Mounted at /content/drive\n",
      "Found 1280 images belonging to 2 classes.\n",
      "Found 320 images belonging to 2 classes.\n"
     ]
    },
    {
     "name": "stderr",
     "output_type": "stream",
     "text": [
      "/usr/local/lib/python3.11/dist-packages/keras/src/trainers/data_adapters/py_dataset_adapter.py:121: UserWarning: Your `PyDataset` class should call `super().__init__(**kwargs)` in its constructor. `**kwargs` can include `workers`, `use_multiprocessing`, `max_queue_size`. Do not pass these arguments to `fit()`, as they will be ignored.\n",
      "  self._warn_if_super_not_called()\n"
     ]
    },
    {
     "name": "stdout",
     "output_type": "stream",
     "text": [
      "\u001b[1m40/40\u001b[0m \u001b[32m━━━━━━━━━━━━━━━━━━━━\u001b[0m\u001b[37m\u001b[0m \u001b[1m34s\u001b[0m 564ms/step\n"
     ]
    }
   ],
   "source": [
    "from google.colab import drive\n",
    "import os\n",
    "import random\n",
    "import shutil\n",
    "from zipfile import ZipFile\n",
    "\n",
    "# Mount Google Drive\n",
    "drive.mount('/content/drive')\n",
    "\n",
    "# Extract the zip file\n",
    "zipFilePath='/content/drive/MyDrive/DIP/datasetmain.zip' # place the zip file link here\n",
    "zipFileObj=ZipFile(file=zipFilePath)\n",
    "zipFileObj.extractall('/tmp')\n",
    "\n",
    "# Data splitting function\n",
    "def split_data(source_folder1, source_folder2, train_folder, test_folder, split_ratio=0.8):\n",
    "    # Create train and test folders if they don't exist, and remove existing contents\n",
    "    for folder in [train_folder, test_folder]:\n",
    "        if os.path.exists(folder):\n",
    "            shutil.rmtree(folder) # Remove existing folders to ensure a clean split\n",
    "        os.makedirs(folder)\n",
    "        os.makedirs(os.path.join(folder, 'normal-pylorus'))\n",
    "        os.makedirs(os.path.join(folder, 'polyps'))\n",
    "\n",
    "    # List files from both source folders\n",
    "    files_folder1 = os.listdir(source_folder1)\n",
    "    files_folder2 = os.listdir(source_folder2)\n",
    "\n",
    "    # Calculate the number of files to move to the train folder\n",
    "    num_train_folder1 = int(split_ratio * len(files_folder1))\n",
    "    num_train_folder2 = int(split_ratio * len(files_folder2))\n",
    "\n",
    "    # Randomly select files for the train folder\n",
    "    train_files_folder1 = random.sample(files_folder1, num_train_folder1)\n",
    "    train_files_folder2 = random.sample(files_folder2, num_train_folder2)\n",
    "\n",
    "    # Move files to the train folder\n",
    "    for filename in train_files_folder1:\n",
    "        source_path = os.path.join(source_folder1, filename)\n",
    "        destination_path = os.path.join(f'{train_folder}/normal-pylorus', filename)\n",
    "        shutil.copy2(source_path, destination_path)\n",
    "\n",
    "    for filename in train_files_folder2:\n",
    "        source_path = os.path.join(source_folder2, filename)\n",
    "        destination_path = os.path.join(f'{train_folder}/polyps', filename)\n",
    "        shutil.copy2(source_path, destination_path)\n",
    "\n",
    "    # Move the remaining files to the test folder\n",
    "    for filename in files_folder1:\n",
    "        if filename not in train_files_folder1:\n",
    "            source_path = os.path.join(source_folder1, filename)\n",
    "            destination_path = os.path.join(f'{test_folder}/normal-pylorus', filename)\n",
    "            shutil.copy2(source_path, destination_path)\n",
    "\n",
    "    for filename in files_folder2:\n",
    "        if filename not in train_files_folder2:\n",
    "            source_path = os.path.join(source_folder2, filename)\n",
    "            destination_path = os.path.join(f'{test_folder}/polyps', filename)\n",
    "            shutil.copy2(source_path, destination_path)\n",
    "\n",
    "# Example usage\n",
    "source_folder1 = '/tmp/datasetmain/train/normal'\n",
    "source_folder2 = '/tmp/datasetmain/train/adnormal'\n",
    "train_folder = '/tmp/train'\n",
    "test_folder = '/tmp/test'\n",
    "\n",
    "split_data(source_folder1, source_folder2, train_folder, test_folder, split_ratio=0.8)\n",
    "\n",
    "from tensorflow.keras.preprocessing.image import ImageDataGenerator\n",
    "from tensorflow.keras.applications.inception_v3 import InceptionV3\n",
    "from tensorflow.keras.layers import Dense, GlobalAveragePooling2D\n",
    "from tensorflow.keras.models import Model\n",
    "from tensorflow.keras.optimizers import Adam\n",
    "\n",
    "\n",
    "# Instantiate ImageDataGenerator for training data with augmentations\n",
    "train_datagen = ImageDataGenerator(\n",
    "    rescale=1./255,\n",
    "    shear_range=0.2,\n",
    "    zoom_range=0.2,\n",
    "    horizontal_flip=True\n",
    ")\n",
    "\n",
    "# Instantiate ImageDataGenerator for testing data with only rescaling\n",
    "test_datagen = ImageDataGenerator(rescale=1./255)\n",
    "\n",
    "# Create training data generator\n",
    "train_generator = train_datagen.flow_from_directory(\n",
    "    '/tmp/train',\n",
    "    target_size=(224, 224), # GoogleNet input size\n",
    "    batch_size=32,\n",
    "    class_mode='binary' # Two classes: normal-pylorus and polyps\n",
    ")\n",
    "\n",
    "# Create testing data generator\n",
    "test_generator = test_datagen.flow_from_directory(\n",
    "    '/tmp/test',\n",
    "    target_size=(224, 224),\n",
    "    batch_size=32,\n",
    "    class_mode='binary'\n",
    ")\n",
    "\n",
    "base_model = InceptionV3(weights='imagenet', include_top=False)\n",
    "\n",
    "# Add a global average pooling layer\n",
    "x = GlobalAveragePooling2D()(base_model.output)\n",
    "\n",
    "# Add a dense layer with a sigmoid activation for binary classification\n",
    "predictions = Dense(1, activation='sigmoid')(x)\n",
    "\n",
    "# Create the new model\n",
    "model = Model(inputs=base_model.input, outputs=predictions)\n",
    "\n",
    "# Compile the model\n",
    "model.compile(optimizer=Adam(learning_rate=0.001), loss='binary_crossentropy', metrics=['accuracy'])\n",
    "\n",
    "train_predictions = model.predict(train_generator)"
   ]
  },
  {
   "cell_type": "code",
   "execution_count": null,
   "metadata": {
    "colab": {
     "base_uri": "https://localhost:8080/",
     "height": 472
    },
    "executionInfo": {
     "elapsed": 949,
     "status": "ok",
     "timestamp": 1752590367154,
     "user": {
      "displayName": "sadat rahman",
      "userId": "00315844507455805433"
     },
     "user_tz": -360
    },
    "id": "026c06a8",
    "outputId": "0d01c13a-3aa6-4c16-c53e-c2fec5769089"
   },
   "outputs": [
    {
     "data": {
      "image/png": "[encoded data removed]",
      "text/plain": [
       "<Figure size 640x480 with 2 Axes>"
      ]
     },
     "metadata": {},
     "output_type": "display_data"
    }
   ],
   "source": [
    "import numpy as np\n",
    "from sklearn.metrics import confusion_matrix, ConfusionMatrixDisplay\n",
    "import matplotlib.pyplot as plt\n",
    "\n",
    "# Get true labels from the generator\n",
    "train_true_labels = train_generator.classes\n",
    "\n",
    "# Convert predicted probabilities to binary labels\n",
    "train_predicted_labels = (train_predictions > 0.5).astype(int)\n",
    "\n",
    "# Generate confusion matrix\n",
    "cm = confusion_matrix(train_true_labels, train_predicted_labels)\n",
    "\n",
    "# Display confusion matrix\n",
    "disp = ConfusionMatrixDisplay(confusion_matrix=cm, display_labels=train_generator.class_indices.keys())\n",
    "disp.plot(cmap=plt.cm.Blues)\n",
    "plt.title('Confusion Matrix - Training Set')\n",
    "plt.xlabel('Predicted Label')\n",
    "plt.ylabel('True Label')\n",
    "plt.show()"
   ]
  },
  {
   "cell_type": "markdown",
   "metadata": {},
   "source": []
  },
  {
   "cell_type": "code",
   "execution_count": null,
   "metadata": {
    "colab": {
     "base_uri": "https://localhost:8080/",
     "height": 211
    },
    "executionInfo": {
     "elapsed": 86,
     "status": "error",
     "timestamp": 1752590379779,
     "user": {
      "displayName": "sadat rahman",
      "userId": "00315844507455805433"
     },
     "user_tz": -360
    },
    "id": "36c7cb11",
    "outputId": "5dfa6c13-1c2c-45bf-ab9b-5b163babe734"
   },
   "outputs": [
    {
     "ename": "AttributeError",
     "evalue": "type object 'RocCurveDisplay' has no attribute 'from_fpr'",
     "output_type": "error",
     "traceback": [
      "\u001b[0;31m---------------------------------------------------------------------------\u001b[0m",
      "\u001b[0;31mAttributeError\u001b[0m                            Traceback (most recent call last)",
      "\u001b[0;32m/tmp/ipython-input-6-313440935.py\u001b[0m in \u001b[0;36m<cell line: 0>\u001b[0;34m()\u001b[0m\n\u001b[1;32m      8\u001b[0m \u001b[0;34m\u001b[0m\u001b[0m\n\u001b[1;32m      9\u001b[0m \u001b[0;31m# Plot ROC curve\u001b[0m\u001b[0;34m\u001b[0m\u001b[0;34m\u001b[0m\u001b[0m\n\u001b[0;32m---> 10\u001b[0;31m \u001b[0mdisplay\u001b[0m \u001b[0;34m=\u001b[0m \u001b[0mRocCurveDisplay\u001b[0m\u001b[0;34m.\u001b[0m\u001b[0mfrom_fpr\u001b[0m\u001b[0;34m(\u001b[0m\u001b[0mfpr\u001b[0m\u001b[0;34m,\u001b[0m \u001b[0mtpr\u001b[0m\u001b[0;34m,\u001b[0m \u001b[0mroc_auc\u001b[0m\u001b[0;34m=\u001b[0m\u001b[0mroc_auc\u001b[0m\u001b[0;34m,\u001b[0m \u001b[0mestimator_name\u001b[0m\u001b[0;34m=\u001b[0m\u001b[0;34m'GoogleNet'\u001b[0m\u001b[0;34m)\u001b[0m\u001b[0;34m\u001b[0m\u001b[0;34m\u001b[0m\u001b[0m\n\u001b[0m\u001b[1;32m     11\u001b[0m \u001b[0mdisplay\u001b[0m\u001b[0;34m.\u001b[0m\u001b[0mplot\u001b[0m\u001b[0;34m(\u001b[0m\u001b[0;34m)\u001b[0m\u001b[0;34m\u001b[0m\u001b[0;34m\u001b[0m\u001b[0m\n\u001b[1;32m     12\u001b[0m \u001b[0mplt\u001b[0m\u001b[0;34m.\u001b[0m\u001b[0mtitle\u001b[0m\u001b[0;34m(\u001b[0m\u001b[0;34m'ROC Curve - Training Set'\u001b[0m\u001b[0;34m)\u001b[0m\u001b[0;34m\u001b[0m\u001b[0;34m\u001b[0m\u001b[0m\n",
      "\u001b[0;31mAttributeError\u001b[0m: type object 'RocCurveDisplay' has no attribute 'from_fpr'"
     ]
    }
   ],
   "source": [
    "from sklearn.metrics import roc_curve, auc, RocCurveDisplay\n",
    "\n",
    "# Calculate ROC curve\n",
    "fpr, tpr, thresholds = roc_curve(train_true_labels, train_predictions)\n",
    "\n",
    "# Calculate AUC\n",
    "roc_auc = auc(fpr, tpr)\n",
    "\n",
    "# Plot ROC curve\n",
    "display = RocCurveDisplay.from_fpr(fpr, tpr, roc_auc=roc_auc, estimator_name='GoogleNet')\n",
    "display.plot()\n",
    "plt.title('ROC Curve - Training Set')\n",
    "plt.xlabel('False Positive Rate')\n",
    "plt.ylabel('True Positive Rate')\n",
    "plt.show()"
   ]
  },
  {
   "cell_type": "code",
   "execution_count": null,
   "metadata": {
    "colab": {
     "base_uri": "https://localhost:8080/",
     "height": 472
    },
    "executionInfo": {
     "elapsed": 522,
     "status": "ok",
     "timestamp": 1752590386373,
     "user": {
      "displayName": "sadat rahman",
      "userId": "00315844507455805433"
     },
     "user_tz": -360
    },
    "id": "uE1awnw6hwDH",
    "outputId": "8f47c901-7bbe-4edd-a99d-8649f87393cf"
   },
   "outputs": [
    {
     "data": {
      "image/png": "[encoded data removed]",
      "text/plain": [
       "<Figure size 640x480 with 1 Axes>"
      ]
     },
     "metadata": {},
     "output_type": "display_data"
    }
   ],
   "source": [
    "from sklearn.metrics import roc_curve, auc, RocCurveDisplay\n",
    "import matplotlib.pyplot as plt\n",
    "\n",
    "# Calculate ROC curve\n",
    "fpr, tpr, thresholds = roc_curve(train_true_labels, train_predictions)\n",
    "\n",
    "# Calculate AUC\n",
    "roc_auc = auc(fpr, tpr)\n",
    "\n",
    "# Plot ROC curve\n",
    "display = RocCurveDisplay(fpr=fpr, tpr=tpr, roc_auc=roc_auc, estimator_name='GoogleNet')\n",
    "display.plot()\n",
    "plt.title('ROC Curve - Training Set')\n",
    "plt.xlabel('False Positive Rate')\n",
    "plt.ylabel('True Positive Rate')\n",
    "plt.show()"
   ]
  },
  {
   "cell_type": "code",
   "execution_count": null,
   "metadata": {
    "colab": {
     "base_uri": "https://localhost:8080/"
    },
    "executionInfo": {
     "elapsed": 3170,
     "status": "ok",
     "timestamp": 1752590401971,
     "user": {
      "displayName": "sadat rahman",
      "userId": "00315844507455805433"
     },
     "user_tz": -360
    },
    "id": "f822bfad",
    "outputId": "727e347d-4665-4ae6-ca31-69ee25ab0b5a"
   },
   "outputs": [
    {
     "name": "stderr",
     "output_type": "stream",
     "text": [
      "/usr/local/lib/python3.11/dist-packages/keras/src/trainers/data_adapters/py_dataset_adapter.py:121: UserWarning: Your `PyDataset` class should call `super().__init__(**kwargs)` in its constructor. `**kwargs` can include `workers`, `use_multiprocessing`, `max_queue_size`. Do not pass these arguments to `fit()`, as they will be ignored.\n",
      "  self._warn_if_super_not_called()\n"
     ]
    },
    {
     "name": "stdout",
     "output_type": "stream",
     "text": [
      "\u001b[1m10/10\u001b[0m \u001b[32m━━━━━━━━━━━━━━━━━━━━\u001b[0m\u001b[37m\u001b[0m \u001b[1m2s\u001b[0m 230ms/step\n"
     ]
    }
   ],
   "source": [
    "test_predictions = model.predict(test_generator)"
   ]
  },
  {
   "cell_type": "code",
   "execution_count": null,
   "metadata": {
    "colab": {
     "base_uri": "https://localhost:8080/",
     "height": 472
    },
    "executionInfo": {
     "elapsed": 279,
     "status": "ok",
     "timestamp": 1752590413910,
     "user": {
      "displayName": "sadat rahman",
      "userId": "00315844507455805433"
     },
     "user_tz": -360
    },
    "id": "b8cc17e4",
    "outputId": "2bb8cd5e-97c3-4db3-be86-dc076c2e833e"
   },
   "outputs": [
    {
     "data": {
      "image/png": "[encoded data removed]",
      "text/plain": [
       "<Figure size 640x480 with 2 Axes>"
      ]
     },
     "metadata": {},
     "output_type": "display_data"
    }
   ],
   "source": [
    "from sklearn.metrics import confusion_matrix, ConfusionMatrixDisplay\n",
    "import matplotlib.pyplot as plt\n",
    "import numpy as np\n",
    "\n",
    "# Get true labels from the generator\n",
    "test_true_labels = test_generator.classes\n",
    "\n",
    "# Convert predicted probabilities to binary labels\n",
    "test_predicted_labels = (test_predictions > 0.5).astype(int)\n",
    "\n",
    "# Generate confusion matrix\n",
    "cm = confusion_matrix(test_true_labels, test_predicted_labels)\n",
    "\n",
    "# Display confusion matrix\n",
    "disp = ConfusionMatrixDisplay(confusion_matrix=cm, display_labels=test_generator.class_indices.keys())\n",
    "disp.plot(cmap=plt.cm.Blues)\n",
    "plt.title('Confusion Matrix - Testing Set')\n",
    "plt.xlabel('Predicted Label')\n",
    "plt.ylabel('True Label')\n",
    "plt.show()"
   ]
  },
  {
   "cell_type": "code",
   "execution_count": null,
   "metadata": {
    "colab": {
     "base_uri": "https://localhost:8080/",
     "height": 472
    },
    "executionInfo": {
     "elapsed": 264,
     "status": "ok",
     "timestamp": 1752590425423,
     "user": {
      "displayName": "sadat rahman",
      "userId": "00315844507455805433"
     },
     "user_tz": -360
    },
    "id": "90220fd2",
    "outputId": "da24dba0-6ca4-4f9e-9e2e-8066b7e5f6e2"
   },
   "outputs": [
    {
     "data": {
      "image/png": "[encoded data removed]",
      "text/plain": [
       "<Figure size 640x480 with 1 Axes>"
      ]
     },
     "metadata": {},
     "output_type": "display_data"
    }
   ],
   "source": [
    "from sklearn.metrics import roc_curve, auc, RocCurveDisplay\n",
    "import matplotlib.pyplot as plt\n",
    "\n",
    "# Calculate ROC curve\n",
    "fpr, tpr, thresholds = roc_curve(test_true_labels, test_predictions)\n",
    "\n",
    "# Calculate AUC\n",
    "roc_auc = auc(fpr, tpr)\n",
    "\n",
    "# Create RocCurveDisplay object\n",
    "display = RocCurveDisplay(fpr=fpr, tpr=tpr, roc_auc=roc_auc, estimator_name='GoogleNet')\n",
    "\n",
    "# Plot ROC curve\n",
    "display.plot()\n",
    "plt.title('ROC Curve - Testing Set')\n",
    "plt.xlabel('False Positive Rate')\n",
    "plt.ylabel('True Positive Rate')\n",
    "plt.show()"
   ]
  },
  {
   "cell_type": "code",
   "execution_count": null,
   "metadata": {
    "colab": {
     "base_uri": "https://localhost:8080/"
    },
    "executionInfo": {
     "elapsed": 47555,
     "status": "ok",
     "timestamp": 1752727383377,
     "user": {
      "displayName": "sadat rahman",
      "userId": "00315844507455805433"
     },
     "user_tz": -360
    },
    "id": "eb73cc74",
    "outputId": "05d24e0f-f9ff-4504-92f6-99ebb04ce38b"
   },
   "outputs": [
    {
     "name": "stdout",
     "output_type": "stream",
     "text": [
      "Collecting ultralytics\n",
      "  Downloading ultralytics-8.3.167-py3-none-any.whl.metadata (37 kB)\n",
      "Requirement already satisfied: numpy>=1.23.0 in /usr/local/lib/python3.11/dist-packages (from ultralytics) (2.0.2)\n",
      "Requirement already satisfied: matplotlib>=3.3.0 in /usr/local/lib/python3.11/dist-packages (from ultralytics) (3.10.0)\n",
      "Requirement already satisfied: opencv-python>=4.6.0 in /usr/local/lib/python3.11/dist-packages (from ultralytics) (4.11.0.86)\n",
      "Requirement already satisfied: pillow>=7.1.2 in /usr/local/lib/python3.11/dist-packages (from ultralytics) (11.2.1)\n",
      "Requirement already satisfied: pyyaml>=5.3.1 in /usr/local/lib/python3.11/dist-packages (from ultralytics) (6.0.2)\n",
      "Requirement already satisfied: requests>=2.23.0 in /usr/local/lib/python3.11/dist-packages (from ultralytics) (2.32.3)\n",
      "Requirement already satisfied: scipy>=1.4.1 in /usr/local/lib/python3.11/dist-packages (from ultralytics) (1.15.3)\n",
      "Requirement already satisfied: torch>=1.8.0 in /usr/local/lib/python3.11/dist-packages (from ultralytics) (2.6.0+cu124)\n",
      "Requirement already satisfied: torchvision>=0.9.0 in /usr/local/lib/python3.11/dist-packages (from ultralytics) (0.21.0+cu124)\n",
      "Requirement already satisfied: tqdm>=4.64.0 in /usr/local/lib/python3.11/dist-packages (from ultralytics) (4.67.1)\n",
      "Requirement already satisfied: psutil in /usr/local/lib/python3.11/dist-packages (from ultralytics) (5.9.5)\n",
      "Requirement already satisfied: py-cpuinfo in /usr/local/lib/python3.11/dist-packages (from ultralytics) (9.0.0)\n",
      "Requirement already satisfied: pandas>=1.1.4 in /usr/local/lib/python3.11/dist-packages (from ultralytics) (2.2.2)\n",
      "Collecting ultralytics-thop>=2.0.0 (from ultralytics)\n",
      "  Downloading ultralytics_thop-2.0.14-py3-none-any.whl.metadata (9.4 kB)\n",
      "Requirement already satisfied: contourpy>=1.0.1 in /usr/local/lib/python3.11/dist-packages (from matplotlib>=3.3.0->ultralytics) (1.3.2)\n",
      "Requirement already satisfied: cycler>=0.10 in /usr/local/lib/python3.11/dist-packages (from matplotlib>=3.3.0->ultralytics) (0.12.1)\n",
      "Requirement already satisfied: fonttools>=4.22.0 in /usr/local/lib/python3.11/dist-packages (from matplotlib>=3.3.0->ultralytics) (4.58.5)\n",
      "Requirement already satisfied: kiwisolver>=1.3.1 in /usr/local/lib/python3.11/dist-packages (from matplotlib>=3.3.0->ultralytics) (1.4.8)\n",
      "Requirement already satisfied: packaging>=20.0 in /usr/local/lib/python3.11/dist-packages (from matplotlib>=3.3.0->ultralytics) (24.2)\n",
      "Requirement already satisfied: pyparsing>=2.3.1 in /usr/local/lib/python3.11/dist-packages (from matplotlib>=3.3.0->ultralytics) (3.2.3)\n",
      "Requirement already satisfied: python-dateutil>=2.7 in /usr/local/lib/python3.11/dist-packages (from matplotlib>=3.3.0->ultralytics) (2.9.0.post0)\n",
      "Requirement already satisfied: pytz>=2020.1 in /usr/local/lib/python3.11/dist-packages (from pandas>=1.1.4->ultralytics) (2025.2)\n",
      "Requirement already satisfied: tzdata>=2022.7 in /usr/local/lib/python3.11/dist-packages (from pandas>=1.1.4->ultralytics) (2025.2)\n",
      "Requirement already satisfied: charset-normalizer<4,>=2 in /usr/local/lib/python3.11/dist-packages (from requests>=2.23.0->ultralytics) (3.4.2)\n",
      "Requirement already satisfied: idna<4,>=2.5 in /usr/local/lib/python3.11/dist-packages (from requests>=2.23.0->ultralytics) (3.10)\n",
      "Requirement already satisfied: urllib3<3,>=1.21.1 in /usr/local/lib/python3.11/dist-packages (from requests>=2.23.0->ultralytics) (2.4.0)\n",
      "Requirement already satisfied: certifi>=2017.4.17 in /usr/local/lib/python3.11/dist-packages (from requests>=2.23.0->ultralytics) (2025.7.14)\n",
      "Requirement already satisfied: filelock in /usr/local/lib/python3.11/dist-packages (from torch>=1.8.0->ultralytics) (3.18.0)\n",
      "Requirement already satisfied: typing-extensions>=4.10.0 in /usr/local/lib/python3.11/dist-packages (from torch>=1.8.0->ultralytics) (4.14.1)\n",
      "Requirement already satisfied: networkx in /usr/local/lib/python3.11/dist-packages (from torch>=1.8.0->ultralytics) (3.5)\n",
      "Requirement already satisfied: jinja2 in /usr/local/lib/python3.11/dist-packages (from torch>=1.8.0->ultralytics) (3.1.6)\n",
      "Requirement already satisfied: fsspec in /usr/local/lib/python3.11/dist-packages (from torch>=1.8.0->ultralytics) (2025.3.2)\n",
      "Collecting nvidia-cuda-nvrtc-cu12==12.4.127 (from torch>=1.8.0->ultralytics)\n",
      "  Downloading nvidia_cuda_nvrtc_cu12-12.4.127-py3-none-manylinux2014_x86_64.whl.metadata (1.5 kB)\n",
      "Collecting nvidia-cuda-runtime-cu12==12.4.127 (from torch>=1.8.0->ultralytics)\n",
      "  Downloading nvidia_cuda_runtime_cu12-12.4.127-py3-none-manylinux2014_x86_64.whl.metadata (1.5 kB)\n",
      "Collecting nvidia-cuda-cupti-cu12==12.4.127 (from torch>=1.8.0->ultralytics)\n",
      "  Downloading nvidia_cuda_cupti_cu12-12.4.127-py3-none-manylinux2014_x86_64.whl.metadata (1.6 kB)\n",
      "Collecting nvidia-cudnn-cu12==9.1.0.70 (from torch>=1.8.0->ultralytics)\n",
      "  Downloading nvidia_cudnn_cu12-9.1.0.70-py3-none-manylinux2014_x86_64.whl.metadata (1.6 kB)\n",
      "Collecting nvidia-cublas-cu12==12.4.5.8 (from torch>=1.8.0->ultralytics)\n",
      "  Downloading nvidia_cublas_cu12-12.4.5.8-py3-none-manylinux2014_x86_64.whl.metadata (1.5 kB)\n",
      "Collecting nvidia-cufft-cu12==11.2.1.3 (from torch>=1.8.0->ultralytics)\n",
      "  Downloading nvidia_cufft_cu12-11.2.1.3-py3-none-manylinux2014_x86_64.whl.metadata (1.5 kB)\n",
      "Collecting nvidia-curand-cu12==10.3.5.147 (from torch>=1.8.0->ultralytics)\n",
      "  Downloading nvidia_curand_cu12-10.3.5.147-py3-none-manylinux2014_x86_64.whl.metadata (1.5 kB)\n",
      "Collecting nvidia-cusolver-cu12==11.6.1.9 (from torch>=1.8.0->ultralytics)\n",
      "  Downloading nvidia_cusolver_cu12-11.6.1.9-py3-none-manylinux2014_x86_64.whl.metadata (1.6 kB)\n",
      "Collecting nvidia-cusparse-cu12==12.3.1.170 (from torch>=1.8.0->ultralytics)\n",
      "  Downloading nvidia_cusparse_cu12-12.3.1.170-py3-none-manylinux2014_x86_64.whl.metadata (1.6 kB)\n",
      "Requirement already satisfied: nvidia-cusparselt-cu12==0.6.2 in /usr/local/lib/python3.11/dist-packages (from torch>=1.8.0->ultralytics) (0.6.2)\n",
      "Requirement already satisfied: nvidia-nccl-cu12==2.21.5 in /usr/local/lib/python3.11/dist-packages (from torch>=1.8.0->ultralytics) (2.21.5)\n",
      "Requirement already satisfied: nvidia-nvtx-cu12==12.4.127 in /usr/local/lib/python3.11/dist-packages (from torch>=1.8.0->ultralytics) (12.4.127)\n",
      "Collecting nvidia-nvjitlink-cu12==12.4.127 (from torch>=1.8.0->ultralytics)\n",
      "  Downloading nvidia_nvjitlink_cu12-12.4.127-py3-none-manylinux2014_x86_64.whl.metadata (1.5 kB)\n",
      "Requirement already satisfied: triton==3.2.0 in /usr/local/lib/python3.11/dist-packages (from torch>=1.8.0->ultralytics) (3.2.0)\n",
      "Requirement already satisfied: sympy==1.13.1 in /usr/local/lib/python3.11/dist-packages (from torch>=1.8.0->ultralytics) (1.13.1)\n",
      "Requirement already satisfied: mpmath<1.4,>=1.1.0 in /usr/local/lib/python3.11/dist-packages (from sympy==1.13.1->torch>=1.8.0->ultralytics) (1.3.0)\n",
      "Requirement already satisfied: six>=1.5 in /usr/local/lib/python3.11/dist-packages (from python-dateutil>=2.7->matplotlib>=3.3.0->ultralytics) (1.17.0)\n",
      "Requirement already satisfied: MarkupSafe>=2.0 in /usr/local/lib/python3.11/dist-packages (from jinja2->torch>=1.8.0->ultralytics) (3.0.2)\n",
      "Downloading ultralytics-8.3.167-py3-none-any.whl (1.0 MB)\n",
      "\u001b[2K   \u001b[90m━━━━━━━━━━━━━━━━━━━━━━━━━━━━━━━━━━━━━━━━\u001b[0m \u001b[32m1.0/1.0 MB\u001b[0m \u001b[31m18.1 MB/s\u001b[0m eta \u001b[36m0:00:00\u001b[0m\n",
      "\u001b[?25hDownloading nvidia_cublas_cu12-12.4.5.8-py3-none-manylinux2014_x86_64.whl (363.4 MB)\n",
      "\u001b[2K   \u001b[90m━━━━━━━━━━━━━━━━━━━━━━━━━━━━━━━━━━━━━━━━\u001b[0m \u001b[32m363.4/363.4 MB\u001b[0m \u001b[31m1.3 MB/s\u001b[0m eta \u001b[36m0:00:00\u001b[0m\n",
      "\u001b[?25hDownloading nvidia_cuda_cupti_cu12-12.4.127-py3-none-manylinux2014_x86_64.whl (13.8 MB)\n",
      "\u001b[2K   \u001b[90m━━━━━━━━━━━━━━━━━━━━━━━━━━━━━━━━━━━━━━━━\u001b[0m \u001b[32m13.8/13.8 MB\u001b[0m \u001b[31m112.9 MB/s\u001b[0m eta \u001b[36m0:00:00\u001b[0m\n",
      "\u001b[?25hDownloading nvidia_cuda_nvrtc_cu12-12.4.127-py3-none-manylinux2014_x86_64.whl (24.6 MB)\n",
      "\u001b[2K   \u001b[90m━━━━━━━━━━━━━━━━━━━━━━━━━━━━━━━━━━━━━━━━\u001b[0m \u001b[32m24.6/24.6 MB\u001b[0m \u001b[31m91.7 MB/s\u001b[0m eta \u001b[36m0:00:00\u001b[0m\n",
      "\u001b[?25hDownloading nvidia_cuda_runtime_cu12-12.4.127-py3-none-manylinux2014_x86_64.whl (883 kB)\n",
      "\u001b[2K   \u001b[90m━━━━━━━━━━━━━━━━━━━━━━━━━━━━━━━━━━━━━━━━\u001b[0m \u001b[32m883.7/883.7 kB\u001b[0m \u001b[31m55.8 MB/s\u001b[0m eta \u001b[36m0:00:00\u001b[0m\n",
      "\u001b[?25hDownloading nvidia_cudnn_cu12-9.1.0.70-py3-none-manylinux2014_x86_64.whl (664.8 MB)\n",
      "\u001b[2K   \u001b[90m━━━━━━━━━━━━━━━━━━━━━━━━━━━━━━━━━━━━━━━━\u001b[0m \u001b[32m664.8/664.8 MB\u001b[0m \u001b[31m2.2 MB/s\u001b[0m eta \u001b[36m0:00:00\u001b[0m\n",
      "\u001b[?25hDownloading nvidia_cufft_cu12-11.2.1.3-py3-none-manylinux2014_x86_64.whl (211.5 MB)\n",
      "\u001b[2K   \u001b[90m━━━━━━━━━━━━━━━━━━━━━━━━━━━━━━━━━━━━━━━━\u001b[0m \u001b[32m211.5/211.5 MB\u001b[0m \u001b[31m6.3 MB/s\u001b[0m eta \u001b[36m0:00:00\u001b[0m\n",
      "\u001b[?25hDownloading nvidia_curand_cu12-10.3.5.147-py3-none-manylinux2014_x86_64.whl (56.3 MB)\n",
      "\u001b[2K   \u001b[90m━━━━━━━━━━━━━━━━━━━━━━━━━━━━━━━━━━━━━━━━\u001b[0m \u001b[32m56.3/56.3 MB\u001b[0m \u001b[31m13.0 MB/s\u001b[0m eta \u001b[36m0:00:00\u001b[0m\n",
      "\u001b[?25hDownloading nvidia_cusolver_cu12-11.6.1.9-py3-none-manylinux2014_x86_64.whl (127.9 MB)\n",
      "\u001b[2K   \u001b[90m━━━━━━━━━━━━━━━━━━━━━━━━━━━━━━━━━━━━━━━━\u001b[0m \u001b[32m127.9/127.9 MB\u001b[0m \u001b[31m7.4 MB/s\u001b[0m eta \u001b[36m0:00:00\u001b[0m\n",
      "\u001b[?25hDownloading nvidia_cusparse_cu12-12.3.1.170-py3-none-manylinux2014_x86_64.whl (207.5 MB)\n",
      "\u001b[2K   \u001b[90m━━━━━━━━━━━━━━━━━━━━━━━━━━━━━━━━━━━━━━━━\u001b[0m \u001b[32m207.5/207.5 MB\u001b[0m \u001b[31m5.5 MB/s\u001b[0m eta \u001b[36m0:00:00\u001b[0m\n",
      "\u001b[?25hDownloading nvidia_nvjitlink_cu12-12.4.127-py3-none-manylinux2014_x86_64.whl (21.1 MB)\n",
      "\u001b[2K   \u001b[90m━━━━━━━━━━━━━━━━━━━━━━━━━━━━━━━━━━━━━━━━\u001b[0m \u001b[32m21.1/21.1 MB\u001b[0m \u001b[31m77.4 MB/s\u001b[0m eta \u001b[36m0:00:00\u001b[0m\n",
      "\u001b[?25hDownloading ultralytics_thop-2.0.14-py3-none-any.whl (26 kB)\n",
      "Installing collected packages: nvidia-nvjitlink-cu12, nvidia-curand-cu12, nvidia-cufft-cu12, nvidia-cuda-runtime-cu12, nvidia-cuda-nvrtc-cu12, nvidia-cuda-cupti-cu12, nvidia-cublas-cu12, nvidia-cusparse-cu12, nvidia-cudnn-cu12, nvidia-cusolver-cu12, ultralytics-thop, ultralytics\n",
      "  Attempting uninstall: nvidia-nvjitlink-cu12\n",
      "    Found existing installation: nvidia-nvjitlink-cu12 12.5.82\n",
      "    Uninstalling nvidia-nvjitlink-cu12-12.5.82:\n",
      "      Successfully uninstalled nvidia-nvjitlink-cu12-12.5.82\n",
      "  Attempting uninstall: nvidia-curand-cu12\n",
      "    Found existing installation: nvidia-curand-cu12 10.3.6.82\n",
      "    Uninstalling nvidia-curand-cu12-10.3.6.82:\n",
      "      Successfully uninstalled nvidia-curand-cu12-10.3.6.82\n",
      "  Attempting uninstall: nvidia-cufft-cu12\n",
      "    Found existing installation: nvidia-cufft-cu12 11.2.3.61\n",
      "    Uninstalling nvidia-cufft-cu12-11.2.3.61:\n",
      "      Successfully uninstalled nvidia-cufft-cu12-11.2.3.61\n",
      "  Attempting uninstall: nvidia-cuda-runtime-cu12\n",
      "    Found existing installation: nvidia-cuda-runtime-cu12 12.5.82\n",
      "    Uninstalling nvidia-cuda-runtime-cu12-12.5.82:\n",
      "      Successfully uninstalled nvidia-cuda-runtime-cu12-12.5.82\n",
      "  Attempting uninstall: nvidia-cuda-nvrtc-cu12\n",
      "    Found existing installation: nvidia-cuda-nvrtc-cu12 12.5.82\n",
      "    Uninstalling nvidia-cuda-nvrtc-cu12-12.5.82:\n",
      "      Successfully uninstalled nvidia-cuda-nvrtc-cu12-12.5.82\n",
      "  Attempting uninstall: nvidia-cuda-cupti-cu12\n",
      "    Found existing installation: nvidia-cuda-cupti-cu12 12.5.82\n",
      "    Uninstalling nvidia-cuda-cupti-cu12-12.5.82:\n",
      "      Successfully uninstalled nvidia-cuda-cupti-cu12-12.5.82\n",
      "  Attempting uninstall: nvidia-cublas-cu12\n",
      "    Found existing installation: nvidia-cublas-cu12 12.5.3.2\n",
      "    Uninstalling nvidia-cublas-cu12-12.5.3.2:\n",
      "      Successfully uninstalled nvidia-cublas-cu12-12.5.3.2\n",
      "  Attempting uninstall: nvidia-cusparse-cu12\n",
      "    Found existing installation: nvidia-cusparse-cu12 12.5.1.3\n",
      "    Uninstalling nvidia-cusparse-cu12-12.5.1.3:\n",
      "      Successfully uninstalled nvidia-cusparse-cu12-12.5.1.3\n",
      "  Attempting uninstall: nvidia-cudnn-cu12\n",
      "    Found existing installation: nvidia-cudnn-cu12 9.3.0.75\n",
      "    Uninstalling nvidia-cudnn-cu12-9.3.0.75:\n",
      "      Successfully uninstalled nvidia-cudnn-cu12-9.3.0.75\n",
      "  Attempting uninstall: nvidia-cusolver-cu12\n",
      "    Found existing installation: nvidia-cusolver-cu12 11.6.3.83\n",
      "    Uninstalling nvidia-cusolver-cu12-11.6.3.83:\n",
      "      Successfully uninstalled nvidia-cusolver-cu12-11.6.3.83\n",
      "Successfully installed nvidia-cublas-cu12-12.4.5.8 nvidia-cuda-cupti-cu12-12.4.127 nvidia-cuda-nvrtc-cu12-12.4.127 nvidia-cuda-runtime-cu12-12.4.127 nvidia-cudnn-cu12-9.1.0.70 nvidia-cufft-cu12-11.2.1.3 nvidia-curand-cu12-10.3.5.147 nvidia-cusolver-cu12-11.6.1.9 nvidia-cusparse-cu12-12.3.1.170 nvidia-nvjitlink-cu12-12.4.127 ultralytics-8.3.167 ultralytics-thop-2.0.14\n"
     ]
    }
   ],
   "source": [
    "%pip install ultralytics"
   ]
  },
  {
   "cell_type": "code",
   "execution_count": null,
   "metadata": {
    "colab": {
     "base_uri": "https://localhost:8080/",
     "height": 401
    },
    "executionInfo": {
     "elapsed": 57,
     "status": "error",
     "timestamp": 1752727383484,
     "user": {
      "displayName": "sadat rahman",
      "userId": "00315844507455805433"
     },
     "user_tz": -360
    },
    "id": "55a8692f",
    "outputId": "3e9c7ac8-a55c-46a7-fdf8-e268726e355a"
   },
   "outputs": [
    {
     "ename": "FileNotFoundError",
     "evalue": "[Errno 2] No such file or directory: '/tmp/train/normal-pylorus'",
     "output_type": "error",
     "traceback": [
      "\u001b[0;31m---------------------------------------------------------------------------\u001b[0m",
      "\u001b[0;31mFileNotFoundError\u001b[0m                         Traceback (most recent call last)",
      "\u001b[0;32m/tmp/ipython-input-2-830959282.py\u001b[0m in \u001b[0;36m<cell line: 0>\u001b[0;34m()\u001b[0m\n\u001b[1;32m     36\u001b[0m \u001b[0;34m\u001b[0m\u001b[0m\n\u001b[1;32m     37\u001b[0m \u001b[0;31m# Convert and copy training data\u001b[0m\u001b[0;34m\u001b[0m\u001b[0;34m\u001b[0m\u001b[0m\n\u001b[0;32m---> 38\u001b[0;31m \u001b[0mconvert_and_copy\u001b[0m\u001b[0;34m(\u001b[0m\u001b[0msource_train_normal\u001b[0m\u001b[0;34m,\u001b[0m \u001b[0myolo_train_images\u001b[0m\u001b[0;34m,\u001b[0m \u001b[0myolo_train_labels\u001b[0m\u001b[0;34m,\u001b[0m \u001b[0;36m0\u001b[0m\u001b[0;34m)\u001b[0m \u001b[0;31m# Class 0 for normal\u001b[0m\u001b[0;34m\u001b[0m\u001b[0;34m\u001b[0m\u001b[0m\n\u001b[0m\u001b[1;32m     39\u001b[0m \u001b[0mconvert_and_copy\u001b[0m\u001b[0;34m(\u001b[0m\u001b[0msource_train_adnormal\u001b[0m\u001b[0;34m,\u001b[0m \u001b[0myolo_train_images\u001b[0m\u001b[0;34m,\u001b[0m \u001b[0myolo_train_labels\u001b[0m\u001b[0;34m,\u001b[0m \u001b[0;36m1\u001b[0m\u001b[0;34m)\u001b[0m \u001b[0;31m# Class 1 for adnormal/polyps\u001b[0m\u001b[0;34m\u001b[0m\u001b[0;34m\u001b[0m\u001b[0m\n\u001b[1;32m     40\u001b[0m \u001b[0;34m\u001b[0m\u001b[0m\n",
      "\u001b[0;32m/tmp/ipython-input-2-830959282.py\u001b[0m in \u001b[0;36mconvert_and_copy\u001b[0;34m(source_folder, image_dest_folder, label_dest_folder, class_id)\u001b[0m\n\u001b[1;32m     19\u001b[0m \u001b[0;31m# Function to convert and copy images and create label files\u001b[0m\u001b[0;34m\u001b[0m\u001b[0;34m\u001b[0m\u001b[0m\n\u001b[1;32m     20\u001b[0m \u001b[0;32mdef\u001b[0m \u001b[0mconvert_and_copy\u001b[0m\u001b[0;34m(\u001b[0m\u001b[0msource_folder\u001b[0m\u001b[0;34m,\u001b[0m \u001b[0mimage_dest_folder\u001b[0m\u001b[0;34m,\u001b[0m \u001b[0mlabel_dest_folder\u001b[0m\u001b[0;34m,\u001b[0m \u001b[0mclass_id\u001b[0m\u001b[0;34m)\u001b[0m\u001b[0;34m:\u001b[0m\u001b[0;34m\u001b[0m\u001b[0;34m\u001b[0m\u001b[0m\n\u001b[0;32m---> 21\u001b[0;31m     \u001b[0;32mfor\u001b[0m \u001b[0mfilename\u001b[0m \u001b[0;32min\u001b[0m \u001b[0mos\u001b[0m\u001b[0;34m.\u001b[0m\u001b[0mlistdir\u001b[0m\u001b[0;34m(\u001b[0m\u001b[0msource_folder\u001b[0m\u001b[0;34m)\u001b[0m\u001b[0;34m:\u001b[0m\u001b[0;34m\u001b[0m\u001b[0;34m\u001b[0m\u001b[0m\n\u001b[0m\u001b[1;32m     22\u001b[0m         \u001b[0;32mif\u001b[0m \u001b[0mfilename\u001b[0m\u001b[0;34m.\u001b[0m\u001b[0mlower\u001b[0m\u001b[0;34m(\u001b[0m\u001b[0;34m)\u001b[0m\u001b[0;34m.\u001b[0m\u001b[0mendswith\u001b[0m\u001b[0;34m(\u001b[0m\u001b[0;34m(\u001b[0m\u001b[0;34m'.png'\u001b[0m\u001b[0;34m,\u001b[0m \u001b[0;34m'.jpg'\u001b[0m\u001b[0;34m,\u001b[0m \u001b[0;34m'.jpeg'\u001b[0m\u001b[0;34m)\u001b[0m\u001b[0;34m)\u001b[0m\u001b[0;34m:\u001b[0m\u001b[0;34m\u001b[0m\u001b[0;34m\u001b[0m\u001b[0m\n\u001b[1;32m     23\u001b[0m             \u001b[0;31m# Copy image\u001b[0m\u001b[0;34m\u001b[0m\u001b[0;34m\u001b[0m\u001b[0m\n",
      "\u001b[0;31mFileNotFoundError\u001b[0m: [Errno 2] No such file or directory: '/tmp/train/normal-pylorus'"
     ]
    }
   ],
   "source": [
    "import os\n",
    "import shutil\n",
    "\n",
    "# Define source and destination directories\n",
    "source_train_normal = '/tmp/train/normal-pylorus'\n",
    "source_train_adnormal = '/tmp/train/polyps'\n",
    "source_test_normal = '/tmp/test/normal-pylorus'\n",
    "source_test_adnormal = '/tmp/test/polyps'\n",
    "\n",
    "yolo_train_images = '/tmp/yolov8_data/train/images'\n",
    "yolo_train_labels = '/tmp/yolov8_data/train/labels'\n",
    "yolo_test_images = '/tmp/yolov8_data/test/images'\n",
    "yolo_test_labels = '/tmp/yolov8_data/test/labels'\n",
    "\n",
    "# Create YOLOv8 directory structure\n",
    "for directory in [yolo_train_images, yolo_train_labels, yolo_test_images, yolo_test_labels]:\n",
    "    os.makedirs(directory, exist_ok=True)\n",
    "\n",
    "# Function to convert and copy images and create label files\n",
    "def convert_and_copy(source_folder, image_dest_folder, label_dest_folder, class_id):\n",
    "    for filename in os.listdir(source_folder):\n",
    "        if filename.lower().endswith(('.png', '.jpg', '.jpeg')):\n",
    "            # Copy image\n",
    "            source_path = os.path.join(source_folder, filename)\n",
    "            destination_image_path = os.path.join(image_dest_folder, filename)\n",
    "            shutil.copy2(source_path, destination_image_path)\n",
    "\n",
    "            # Create label file\n",
    "            label_filename = os.path.splitext(filename)[0] + '.txt'\n",
    "            destination_label_path = os.path.join(label_dest_folder, label_filename)\n",
    "\n",
    "            # Write dummy bounding box (center_x, center_y, width, height) in YOLO format\n",
    "            # Assuming a single object covering the entire image for classification\n",
    "            with open(destination_label_path, 'w') as f:\n",
    "                f.write(f'{class_id} 0.5 0.5 1.0 1.0\\n')\n",
    "\n",
    "# Convert and copy training data\n",
    "convert_and_copy(source_train_normal, yolo_train_images, yolo_train_labels, 0) # Class 0 for normal\n",
    "convert_and_copy(source_train_adnormal, yolo_train_images, yolo_train_labels, 1) # Class 1 for adnormal/polyps\n",
    "\n",
    "# Convert and copy testing data\n",
    "convert_and_copy(source_test_normal, yolo_test_images, yolo_test_labels, 0) # Class 0 for normal\n",
    "convert_and_copy(source_test_adnormal, yolo_test_images, yolo_test_labels, 1) # Class 1 for adnormal/polyps\n",
    "\n",
    "print(\"Dataset converted to YOLOv8 format and saved in /tmp/yolov8_data\")"
   ]
  },
  {
   "cell_type": "code",
   "execution_count": null,
   "metadata": {
    "colab": {
     "base_uri": "https://localhost:8080/"
    },
    "executionInfo": {
     "elapsed": 32658,
     "status": "ok",
     "timestamp": 1752727428873,
     "user": {
      "displayName": "sadat rahman",
      "userId": "00315844507455805433"
     },
     "user_tz": -360
    },
    "id": "-Qv-QW9ZsZ1M",
    "outputId": "b655a301-9000-4a70-9886-71dfed91f279"
   },
   "outputs": [
    {
     "name": "stdout",
     "output_type": "stream",
     "text": [
      "Mounted at /content/drive\n",
      "Dataset converted to YOLOv8 format and saved in /tmp/yolov8_data\n"
     ]
    }
   ],
   "source": [
    "from google.colab import drive\n",
    "import os\n",
    "import random\n",
    "import shutil\n",
    "from zipfile import ZipFile\n",
    "\n",
    "# Mount Google Drive\n",
    "drive.mount('/content/drive')\n",
    "\n",
    "# Extract the zip file\n",
    "zipFilePath='/content/drive/MyDrive/DIP/datasetmain.zip' # place the zip file link here\n",
    "zipFileObj=ZipFile(file=zipFilePath)\n",
    "zipFileObj.extractall('/tmp')\n",
    "\n",
    "# Data splitting function\n",
    "def split_data(source_folder1, source_folder2, train_folder, test_folder, split_ratio=0.8):\n",
    "    # Create train and test folders if they don't exist, and remove existing contents\n",
    "    for folder in [train_folder, test_folder]:\n",
    "        if os.path.exists(folder):\n",
    "            shutil.rmtree(folder) # Remove existing folders to ensure a clean split\n",
    "        os.makedirs(folder)\n",
    "        os.makedirs(os.path.join(folder, 'normal-pylorus'))\n",
    "        os.makedirs(os.path.join(folder, 'polyps'))\n",
    "\n",
    "    # List files from both source folders\n",
    "    files_folder1 = os.listdir(source_folder1)\n",
    "    files_folder2 = os.listdir(source_folder2)\n",
    "\n",
    "    # Calculate the number of files to move to the train folder\n",
    "    num_train_folder1 = int(split_ratio * len(files_folder1))\n",
    "    num_train_folder2 = int(split_ratio * len(files_folder2))\n",
    "\n",
    "    # Randomly select files for the train folder\n",
    "    train_files_folder1 = random.sample(files_folder1, num_train_folder1)\n",
    "    train_files_folder2 = random.sample(files_folder2, num_train_folder2)\n",
    "\n",
    "    # Move files to the train folder\n",
    "    for filename in train_files_folder1:\n",
    "        source_path = os.path.join(source_folder1, filename)\n",
    "        destination_path = os.path.join(f'{train_folder}/normal-pylorus', filename)\n",
    "        shutil.copy2(source_path, destination_path)\n",
    "\n",
    "    for filename in train_files_folder2:\n",
    "        source_path = os.path.join(source_folder2, filename)\n",
    "        destination_path = os.path.join(f'{train_folder}/polyps', filename)\n",
    "        shutil.copy2(source_path, destination_path)\n",
    "\n",
    "    # Move the remaining files to the test folder\n",
    "    for filename in files_folder1:\n",
    "        if filename not in train_files_folder1:\n",
    "            source_path = os.path.join(source_folder1, filename)\n",
    "            destination_path = os.path.join(f'{test_folder}/normal-pylorus', filename)\n",
    "            shutil.copy2(source_path, destination_path)\n",
    "\n",
    "    for filename in files_folder2:\n",
    "        if filename not in train_files_folder2:\n",
    "            source_path = os.path.join(source_folder2, filename)\n",
    "            destination_path = os.path.join(f'{test_folder}/polyps', filename)\n",
    "            shutil.copy2(source_path, destination_path)\n",
    "\n",
    "# Example usage\n",
    "source_folder1 = '/tmp/datasetmain/train/normal'\n",
    "source_folder2 = '/tmp/datasetmain/train/adnormal'\n",
    "train_folder = '/tmp/train'\n",
    "test_folder = '/tmp/test'\n",
    "\n",
    "split_data(source_folder1, source_folder2, train_folder, test_folder, split_ratio=0.8)\n",
    "\n",
    "# Define source and destination directories for YOLOv8\n",
    "source_train_normal = '/tmp/train/normal-pylorus'\n",
    "source_train_adnormal = '/tmp/train/polyps'\n",
    "source_test_normal = '/tmp/test/normal-pylorus'\n",
    "source_test_adnormal = '/tmp/test/polyps'\n",
    "\n",
    "yolo_train_images = '/tmp/yolov8_data/train/images'\n",
    "yolo_train_labels = '/tmp/yolov8_data/train/labels'\n",
    "yolo_test_images = '/tmp/yolov8_data/test/images'\n",
    "yolo_test_labels = '/tmp/yolov8_data/test/labels'\n",
    "\n",
    "# Create YOLOv8 directory structure\n",
    "for directory in [yolo_train_images, yolo_train_labels, yolo_test_images, yolo_test_labels]:\n",
    "    os.makedirs(directory, exist_ok=True)\n",
    "\n",
    "# Function to convert and copy images and create label files\n",
    "def convert_and_copy(source_folder, image_dest_folder, label_dest_folder, class_id):\n",
    "    for filename in os.listdir(source_folder):\n",
    "        if filename.lower().endswith(('.png', '.jpg', '.jpeg')):\n",
    "            # Copy image\n",
    "            source_path = os.path.join(source_folder, filename)\n",
    "            destination_image_path = os.path.join(image_dest_folder, filename)\n",
    "            shutil.copy2(source_path, destination_image_path)\n",
    "\n",
    "            # Create label file\n",
    "            label_filename = os.path.splitext(filename)[0] + '.txt'\n",
    "            destination_label_path = os.path.join(label_dest_folder, label_filename)\n",
    "\n",
    "            # Write dummy bounding box (center_x, center_y, width, height) in YOLO format\n",
    "            # Assuming a single object covering the entire image for classification\n",
    "            with open(destination_label_path, 'w') as f:\n",
    "                f.write(f'{class_id} 0.5 0.5 1.0 1.0\\n')\n",
    "\n",
    "# Convert and copy training data\n",
    "convert_and_copy(source_train_normal, yolo_train_images, yolo_train_labels, 0) # Class 0 for normal\n",
    "convert_and_copy(source_train_adnormal, yolo_train_images, yolo_train_labels, 1) # Class 1 for adnormal/polyps\n",
    "\n",
    "# Convert and copy testing data\n",
    "convert_and_copy(source_test_normal, yolo_test_images, yolo_test_labels, 0) # Class 0 for normal\n",
    "convert_and_copy(source_test_adnormal, yolo_test_images, yolo_test_labels, 1) # Class 1 for adnormal/polyps\n",
    "\n",
    "print(\"Dataset converted to YOLOv8 format and saved in /tmp/yolov8_data\")"
   ]
  },
  {
   "cell_type": "code",
   "execution_count": null,
   "metadata": {
    "colab": {
     "base_uri": "https://localhost:8080/"
    },
    "executionInfo": {
     "elapsed": 6509,
     "status": "ok",
     "timestamp": 1752727529122,
     "user": {
      "displayName": "sadat rahman",
      "userId": "00315844507455805433"
     },
     "user_tz": -360
    },
    "id": "9dd03a7e",
    "outputId": "f84e167a-c151-4446-f215-6b5ed43850d9"
   },
   "outputs": [
    {
     "name": "stdout",
     "output_type": "stream",
     "text": [
      "Drive already mounted at /content/drive; to attempt to forcibly remount, call drive.mount(\"/content/drive\", force_remount=True).\n",
      "Dataset converted to YOLOv8 format and saved in /tmp/yolov8_data\n"
     ]
    }
   ],
   "source": [
    "from google.colab import drive\n",
    "import os\n",
    "import random\n",
    "import shutil\n",
    "from zipfile import ZipFile\n",
    "\n",
    "# Mount Google Drive\n",
    "drive.mount('/content/drive')\n",
    "\n",
    "# Extract the zip file\n",
    "zipFilePath='/content/drive/MyDrive/DIP/datasetmain.zip' # place the zip file link here\n",
    "zipFileObj=ZipFile(file=zipFilePath)\n",
    "zipFileObj.extractall('/tmp')\n",
    "\n",
    "# Data splitting function\n",
    "def split_data(source_folder1, source_folder2, train_folder, test_folder, split_ratio=0.8):\n",
    "    # Create train and test folders if they don't exist, and remove existing contents\n",
    "    for folder in [train_folder, test_folder]:\n",
    "        if os.path.exists(folder):\n",
    "            shutil.rmtree(folder) # Remove existing folders to ensure a clean split\n",
    "        os.makedirs(folder)\n",
    "        os.makedirs(os.path.join(folder, 'normal-pylorus'))\n",
    "        os.makedirs(os.path.join(folder, 'polyps'))\n",
    "\n",
    "    # List files from both source folders\n",
    "    files_folder1 = os.listdir(source_folder1)\n",
    "    files_folder2 = os.listdir(source_folder2)\n",
    "\n",
    "    # Calculate the number of files to move to the train folder\n",
    "    num_train_folder1 = int(split_ratio * len(files_folder1))\n",
    "    num_train_folder2 = int(split_ratio * len(files_folder2))\n",
    "\n",
    "    # Randomly select files for the train folder\n",
    "    train_files_folder1 = random.sample(files_folder1, num_train_folder1)\n",
    "    train_files_folder2 = random.sample(files_folder2, num_train_folder2)\n",
    "\n",
    "    # Move files to the train folder\n",
    "    for filename in train_files_folder1:\n",
    "        source_path = os.path.join(source_folder1, filename)\n",
    "        destination_path = os.path.join(f'{train_folder}/normal-pylorus', filename)\n",
    "        shutil.copy2(source_path, destination_path)\n",
    "\n",
    "    for filename in train_files_folder2:\n",
    "        source_path = os.path.join(source_folder2, filename)\n",
    "        destination_path = os.path.join(f'{train_folder}/polyps', filename)\n",
    "        shutil.copy2(source_path, destination_path)\n",
    "\n",
    "    # Move the remaining files to the test folder\n",
    "    for filename in files_folder1:\n",
    "        if filename not in train_files_folder1:\n",
    "            source_path = os.path.join(source_folder1, filename)\n",
    "            destination_path = os.path.join(f'{test_folder}/normal-pylorus', filename)\n",
    "            shutil.copy2(source_path, destination_path)\n",
    "\n",
    "    for filename in files_folder2:\n",
    "        if filename not in train_files_folder2:\n",
    "            source_path = os.path.join(source_folder2, filename)\n",
    "            destination_path = os.path.join(f'{test_folder}/polyps', filename)\n",
    "            shutil.copy2(source_path, destination_path)\n",
    "\n",
    "# Example usage\n",
    "source_folder1 = '/tmp/datasetmain/train/normal'\n",
    "source_folder2 = '/tmp/datasetmain/train/adnormal'\n",
    "train_folder = '/tmp/train'\n",
    "test_folder = '/tmp/test'\n",
    "\n",
    "split_data(source_folder1, source_folder2, train_folder, test_folder, split_ratio=0.8)\n",
    "\n",
    "# Define source and destination directories for YOLOv8\n",
    "source_train_normal = '/tmp/train/normal-pylorus'\n",
    "source_train_adnormal = '/tmp/train/polyps'\n",
    "source_test_normal = '/tmp/test/normal-pylorus'\n",
    "source_test_adnormal = '/tmp/test/polyps'\n",
    "\n",
    "yolo_train_images = '/tmp/yolov8_data/train/images'\n",
    "yolo_train_labels = '/tmp/yolov8_data/train/labels'\n",
    "yolo_test_images = '/tmp/yolov8_data/test/images'\n",
    "yolo_test_labels = '/tmp/yolov8_data/test/labels'\n",
    "\n",
    "# Create YOLOv8 directory structure\n",
    "for directory in [yolo_train_images, yolo_train_labels, yolo_test_images, yolo_test_labels]:\n",
    "    os.makedirs(directory, exist_ok=True)\n",
    "\n",
    "# Function to convert and copy images and create label files\n",
    "def convert_and_copy(source_folder, image_dest_folder, label_dest_folder, class_id):\n",
    "    for filename in os.listdir(source_folder):\n",
    "        if filename.lower().endswith(('.png', '.jpg', '.jpeg')):\n",
    "            # Copy image\n",
    "            source_path = os.path.join(source_folder, filename)\n",
    "            destination_image_path = os.path.join(image_dest_folder, filename)\n",
    "            shutil.copy2(source_path, destination_image_path)\n",
    "\n",
    "            # Create label file\n",
    "            label_filename = os.path.splitext(filename)[0] + '.txt'\n",
    "            destination_label_path = os.path.join(label_dest_folder, label_filename)\n",
    "\n",
    "            # Write dummy bounding box (center_x, center_y, width, height) in YOLO format\n",
    "            # Assuming a single object covering the entire image for classification\n",
    "            with open(destination_label_path, 'w') as f:\n",
    "                f.write(f'{class_id} 0.5 0.5 1.0 1.0\\n')\n",
    "\n",
    "# Convert and copy training data\n",
    "convert_and_copy(source_train_normal, yolo_train_images, yolo_train_labels, 0) # Class 0 for normal\n",
    "convert_and_copy(source_train_adnormal, yolo_train_images, yolo_train_labels, 1) # Class 1 for adnormal/polyps\n",
    "\n",
    "# Convert and copy testing data\n",
    "convert_and_copy(source_test_normal, yolo_test_images, yolo_test_labels, 0) # Class 0 for normal\n",
    "convert_and_copy(source_test_adnormal, yolo_test_images, yolo_test_labels, 1) # Class 1 for adnormal/polyps\n",
    "\n",
    "print(\"Dataset converted to YOLOv8 format and saved in /tmp/yolov8_data\")"
   ]
  },
  {
   "cell_type": "code",
   "execution_count": null,
   "metadata": {
    "colab": {
     "base_uri": "https://localhost:8080/"
    },
    "executionInfo": {
     "elapsed": 6612,
     "status": "ok",
     "timestamp": 1752727545893,
     "user": {
      "displayName": "sadat rahman",
      "userId": "00315844507455805433"
     },
     "user_tz": -360
    },
    "id": "8f757b2f",
    "outputId": "3d58f449-0f1a-4104-fe1e-c73c0c1e637f"
   },
   "outputs": [
    {
     "name": "stdout",
     "output_type": "stream",
     "text": [
      "Creating new Ultralytics Settings v0.0.6 file ✅ \n",
      "View Ultralytics Settings with 'yolo settings' or at '/root/.config/Ultralytics/settings.json'\n",
      "Update Settings with 'yolo settings key=value', i.e. 'yolo settings runs_dir=path/to/dir'. For help see https://docs.ultralytics.com/quickstart/#ultralytics-settings.\n",
      "Downloading https://github.com/ultralytics/assets/releases/download/v8.3.0/yolov8n.pt to 'yolov8n.pt'...\n"
     ]
    },
    {
     "name": "stderr",
     "output_type": "stream",
     "text": [
      "100%|██████████| 6.25M/6.25M [00:00<00:00, 68.0MB/s]\n"
     ]
    }
   ],
   "source": [
    "from ultralytics import YOLO\n",
    "\n",
    "# Load a pre-trained YOLOv8n model\n",
    "model = YOLO('yolov8n.pt')"
   ]
  },
  {
   "cell_type": "code",
   "execution_count": null,
   "metadata": {
    "colab": {
     "base_uri": "https://localhost:8080/"
    },
    "executionInfo": {
     "elapsed": 213203,
     "status": "ok",
     "timestamp": 1752727789994,
     "user": {
      "displayName": "sadat rahman",
      "userId": "00315844507455805433"
     },
     "user_tz": -360
    },
    "id": "3d79521f",
    "outputId": "f2396bd3-bf1d-43f1-a374-c1f61ad001b4"
   },
   "outputs": [
    {
     "name": "stdout",
     "output_type": "stream",
     "text": [
      "Ultralytics 8.3.167 🚀 Python-3.11.13 torch-2.6.0+cu124 CUDA:0 (Tesla T4, 15095MiB)\n",
      "\u001b[34m\u001b[1mengine/trainer: \u001b[0magnostic_nms=False, amp=True, augment=False, auto_augment=randaugment, batch=16, bgr=0.0, box=7.5, cache=False, cfg=None, classes=None, close_mosaic=10, cls=0.5, conf=None, copy_paste=0.0, copy_paste_mode=flip, cos_lr=False, cutmix=0.0, data=/tmp/data.yaml, degrees=0.0, deterministic=True, device=None, dfl=1.5, dnn=False, dropout=0.0, dynamic=False, embed=None, epochs=10, erasing=0.4, exist_ok=False, fliplr=0.5, flipud=0.0, format=torchscript, fraction=1.0, freeze=None, half=False, hsv_h=0.015, hsv_s=0.7, hsv_v=0.4, imgsz=224, int8=False, iou=0.7, keras=False, kobj=1.0, line_width=None, lr0=0.01, lrf=0.01, mask_ratio=4, max_det=300, mixup=0.0, mode=train, model=yolov8n.pt, momentum=0.937, mosaic=1.0, multi_scale=False, name=train, nbs=64, nms=False, opset=None, optimize=False, optimizer=auto, overlap_mask=True, patience=100, perspective=0.0, plots=True, pose=12.0, pretrained=True, profile=False, project=None, rect=False, resume=False, retina_masks=False, save=True, save_conf=False, save_crop=False, save_dir=runs/detect/train, save_frames=False, save_json=False, save_period=-1, save_txt=False, scale=0.5, seed=0, shear=0.0, show=False, show_boxes=True, show_conf=True, show_labels=True, simplify=True, single_cls=False, source=None, split=val, stream_buffer=False, task=detect, time=None, tracker=botsort.yaml, translate=0.1, val=True, verbose=True, vid_stride=1, visualize=False, warmup_bias_lr=0.1, warmup_epochs=3.0, warmup_momentum=0.8, weight_decay=0.0005, workers=8, workspace=None\n",
      "Downloading https://ultralytics.com/assets/Arial.ttf to '/root/.config/Ultralytics/Arial.ttf'...\n"
     ]
    },
    {
     "name": "stderr",
     "output_type": "stream",
     "text": [
      "100%|██████████| 755k/755k [00:00<00:00, 14.5MB/s]"
     ]
    },
    {
     "name": "stdout",
     "output_type": "stream",
     "text": [
      "Overriding model.yaml nc=80 with nc=2\n",
      "\n",
      "                   from  n    params  module                                       arguments                     \n",
      "  0                  -1  1       464  ultralytics.nn.modules.conv.Conv             [3, 16, 3, 2]                 \n",
      "  1                  -1  1      4672  ultralytics.nn.modules.conv.Conv             [16, 32, 3, 2]                \n",
      "  2                  -1  1      7360  ultralytics.nn.modules.block.C2f             [32, 32, 1, True]             \n",
      "  3                  -1  1     18560  ultralytics.nn.modules.conv.Conv             [32, 64, 3, 2]                \n",
      "  4                  -1  2     49664  ultralytics.nn.modules.block.C2f             [64, 64, 2, True]             \n",
      "  5                  -1  1     73984  ultralytics.nn.modules.conv.Conv             [64, 128, 3, 2]               \n",
      "  6                  -1  2    197632  ultralytics.nn.modules.block.C2f             [128, 128, 2, True]           \n",
      "  7                  -1  1    295424  ultralytics.nn.modules.conv.Conv             [128, 256, 3, 2]              \n",
      "  8                  -1  1    460288  ultralytics.nn.modules.block.C2f             [256, 256, 1, True]           \n",
      "  9                  -1  1    164608  ultralytics.nn.modules.block.SPPF            [256, 256, 5]                 \n",
      " 10                  -1  1         0  torch.nn.modules.upsampling.Upsample         [None, 2, 'nearest']          \n",
      " 11             [-1, 6]  1         0  ultralytics.nn.modules.conv.Concat           [1]                           \n",
      " 12                  -1  1    148224  ultralytics.nn.modules.block.C2f             [384, 128, 1]                 \n",
      " 13                  -1  1         0  torch.nn.modules.upsampling.Upsample         [None, 2, 'nearest']          \n",
      " 14             [-1, 4]  1         0  ultralytics.nn.modules.conv.Concat           [1]                           \n",
      " 15                  -1  1     37248  ultralytics.nn.modules.block.C2f             [192, 64, 1]                  \n",
      " 16                  -1  1     36992  ultralytics.nn.modules.conv.Conv             [64, 64, 3, 2]                \n",
      " 17            [-1, 12]  1         0  ultralytics.nn.modules.conv.Concat           [1]                           \n",
      " 18                  -1  1    123648  ultralytics.nn.modules.block.C2f             [192, 128, 1]                 \n",
      " 19                  -1  1    147712  ultralytics.nn.modules.conv.Conv             [128, 128, 3, 2]              \n",
      " 20             [-1, 9]  1         0  ultralytics.nn.modules.conv.Concat           [1]                           \n",
      " 21                  -1  1    493056  ultralytics.nn.modules.block.C2f             [384, 256, 1]                 \n",
      " 22        [15, 18, 21]  1    751702  ultralytics.nn.modules.head.Detect           [2, [64, 128, 256]]           \n"
     ]
    },
    {
     "name": "stderr",
     "output_type": "stream",
     "text": [
      "\n"
     ]
    },
    {
     "name": "stdout",
     "output_type": "stream",
     "text": [
      "Model summary: 129 layers, 3,011,238 parameters, 3,011,222 gradients, 8.2 GFLOPs\n",
      "\n",
      "Transferred 319/355 items from pretrained weights\n",
      "Freezing layer 'model.22.dfl.conv.weight'\n",
      "\u001b[34m\u001b[1mAMP: \u001b[0mrunning Automatic Mixed Precision (AMP) checks...\n",
      "Downloading https://github.com/ultralytics/assets/releases/download/v8.3.0/yolo11n.pt to 'yolo11n.pt'...\n"
     ]
    },
    {
     "name": "stderr",
     "output_type": "stream",
     "text": [
      "100%|██████████| 5.35M/5.35M [00:00<00:00, 66.4MB/s]\n"
     ]
    },
    {
     "name": "stdout",
     "output_type": "stream",
     "text": [
      "\u001b[34m\u001b[1mAMP: \u001b[0mchecks passed ✅\n",
      "\u001b[34m\u001b[1mtrain: \u001b[0mFast image access ✅ (ping: 0.0±0.0 ms, read: 2871.9±702.4 MB/s, size: 211.5 KB)\n"
     ]
    },
    {
     "name": "stderr",
     "output_type": "stream",
     "text": [
      "\u001b[34m\u001b[1mtrain: \u001b[0mScanning /tmp/yolov8_data/train/labels... 1520 images, 0 backgrounds, 0 corrupt: 100%|██████████| 1520/1520 [00:00<00:00, 2576.78it/s]\n"
     ]
    },
    {
     "name": "stdout",
     "output_type": "stream",
     "text": [
      "\u001b[34m\u001b[1mtrain: \u001b[0mNew cache created: /tmp/yolov8_data/train/labels.cache\n",
      "\u001b[34m\u001b[1malbumentations: \u001b[0mBlur(p=0.01, blur_limit=(3, 7)), MedianBlur(p=0.01, blur_limit=(3, 7)), ToGray(p=0.01, method='weighted_average', num_output_channels=3), CLAHE(p=0.01, clip_limit=(1.0, 4.0), tile_grid_size=(8, 8))\n",
      "\u001b[34m\u001b[1mval: \u001b[0mFast image access ✅ (ping: 0.0±0.0 ms, read: 1539.0±1094.6 MB/s, size: 165.3 KB)\n"
     ]
    },
    {
     "name": "stderr",
     "output_type": "stream",
     "text": [
      "\u001b[34m\u001b[1mval: \u001b[0mScanning /tmp/yolov8_data/test/labels... 560 images, 0 backgrounds, 0 corrupt: 100%|██████████| 560/560 [00:00<00:00, 1549.58it/s]"
     ]
    },
    {
     "name": "stdout",
     "output_type": "stream",
     "text": [
      "\u001b[34m\u001b[1mval: \u001b[0mNew cache created: /tmp/yolov8_data/test/labels.cache\n"
     ]
    },
    {
     "name": "stderr",
     "output_type": "stream",
     "text": [
      "\n"
     ]
    },
    {
     "name": "stdout",
     "output_type": "stream",
     "text": [
      "Plotting labels to runs/detect/train/labels.jpg... \n",
      "\u001b[34m\u001b[1moptimizer:\u001b[0m 'optimizer=auto' found, ignoring 'lr0=0.01' and 'momentum=0.937' and determining best 'optimizer', 'lr0' and 'momentum' automatically... \n",
      "\u001b[34m\u001b[1moptimizer:\u001b[0m AdamW(lr=0.001667, momentum=0.9) with parameter groups 57 weight(decay=0.0), 64 weight(decay=0.0005), 63 bias(decay=0.0)\n",
      "Image sizes 224 train, 224 val\n",
      "Using 2 dataloader workers\n",
      "Logging results to \u001b[1mruns/detect/train\u001b[0m\n",
      "Starting training for 10 epochs...\n",
      "Closing dataloader mosaic\n",
      "\u001b[34m\u001b[1malbumentations: \u001b[0mBlur(p=0.01, blur_limit=(3, 7)), MedianBlur(p=0.01, blur_limit=(3, 7)), ToGray(p=0.01, method='weighted_average', num_output_channels=3), CLAHE(p=0.01, clip_limit=(1.0, 4.0), tile_grid_size=(8, 8))\n",
      "\n",
      "      Epoch    GPU_mem   box_loss   cls_loss   dfl_loss  Instances       Size\n"
     ]
    },
    {
     "name": "stderr",
     "output_type": "stream",
     "text": [
      "       1/10     0.332G     0.2459      1.167      0.928         16        224: 100%|██████████| 95/95 [00:19<00:00,  4.94it/s]\n",
      "                 Class     Images  Instances      Box(P          R      mAP50  mAP50-95): 100%|██████████| 18/18 [00:04<00:00,  3.64it/s]"
     ]
    },
    {
     "name": "stdout",
     "output_type": "stream",
     "text": [
      "                   all        560        560      0.991      0.992      0.995      0.995\n"
     ]
    },
    {
     "name": "stderr",
     "output_type": "stream",
     "text": [
      "\n"
     ]
    },
    {
     "name": "stdout",
     "output_type": "stream",
     "text": [
      "\n",
      "      Epoch    GPU_mem   box_loss   cls_loss   dfl_loss  Instances       Size\n"
     ]
    },
    {
     "name": "stderr",
     "output_type": "stream",
     "text": [
      "       2/10      0.35G     0.1945      0.396     0.9017         16        224: 100%|██████████| 95/95 [00:14<00:00,  6.70it/s]\n",
      "                 Class     Images  Instances      Box(P          R      mAP50  mAP50-95): 100%|██████████| 18/18 [00:03<00:00,  5.20it/s]"
     ]
    },
    {
     "name": "stdout",
     "output_type": "stream",
     "text": [
      "                   all        560        560      0.983      0.987      0.993      0.985\n"
     ]
    },
    {
     "name": "stderr",
     "output_type": "stream",
     "text": [
      "\n"
     ]
    },
    {
     "name": "stdout",
     "output_type": "stream",
     "text": [
      "\n",
      "      Epoch    GPU_mem   box_loss   cls_loss   dfl_loss  Instances       Size\n"
     ]
    },
    {
     "name": "stderr",
     "output_type": "stream",
     "text": [
      "       3/10     0.365G      0.187     0.3177     0.8989         16        224: 100%|██████████| 95/95 [00:14<00:00,  6.74it/s]\n",
      "                 Class     Images  Instances      Box(P          R      mAP50  mAP50-95): 100%|██████████| 18/18 [00:04<00:00,  3.90it/s]"
     ]
    },
    {
     "name": "stdout",
     "output_type": "stream",
     "text": [
      "                   all        560        560      0.977      0.972      0.992        0.9\n"
     ]
    },
    {
     "name": "stderr",
     "output_type": "stream",
     "text": [
      "\n"
     ]
    },
    {
     "name": "stdout",
     "output_type": "stream",
     "text": [
      "\n",
      "      Epoch    GPU_mem   box_loss   cls_loss   dfl_loss  Instances       Size\n"
     ]
    },
    {
     "name": "stderr",
     "output_type": "stream",
     "text": [
      "       4/10     0.383G     0.1563     0.2662     0.8859         16        224: 100%|██████████| 95/95 [00:13<00:00,  7.00it/s]\n",
      "                 Class     Images  Instances      Box(P          R      mAP50  mAP50-95): 100%|██████████| 18/18 [00:04<00:00,  4.24it/s]"
     ]
    },
    {
     "name": "stdout",
     "output_type": "stream",
     "text": [
      "                   all        560        560      0.998          1      0.995       0.95\n"
     ]
    },
    {
     "name": "stderr",
     "output_type": "stream",
     "text": [
      "\n"
     ]
    },
    {
     "name": "stdout",
     "output_type": "stream",
     "text": [
      "\n",
      "      Epoch    GPU_mem   box_loss   cls_loss   dfl_loss  Instances       Size\n"
     ]
    },
    {
     "name": "stderr",
     "output_type": "stream",
     "text": [
      "       5/10       0.4G      0.137     0.2219     0.8785         16        224: 100%|██████████| 95/95 [00:13<00:00,  6.81it/s]\n",
      "                 Class     Images  Instances      Box(P          R      mAP50  mAP50-95): 100%|██████████| 18/18 [00:03<00:00,  5.20it/s]"
     ]
    },
    {
     "name": "stdout",
     "output_type": "stream",
     "text": [
      "                   all        560        560      0.997          1      0.995      0.952\n"
     ]
    },
    {
     "name": "stderr",
     "output_type": "stream",
     "text": [
      "\n"
     ]
    },
    {
     "name": "stdout",
     "output_type": "stream",
     "text": [
      "\n",
      "      Epoch    GPU_mem   box_loss   cls_loss   dfl_loss  Instances       Size\n"
     ]
    },
    {
     "name": "stderr",
     "output_type": "stream",
     "text": [
      "       6/10     0.418G     0.1262     0.1933     0.8792         16        224: 100%|██████████| 95/95 [00:13<00:00,  6.87it/s]\n",
      "                 Class     Images  Instances      Box(P          R      mAP50  mAP50-95): 100%|██████████| 18/18 [00:03<00:00,  5.25it/s]"
     ]
    },
    {
     "name": "stdout",
     "output_type": "stream",
     "text": [
      "                   all        560        560      0.998      0.997      0.995      0.994\n"
     ]
    },
    {
     "name": "stderr",
     "output_type": "stream",
     "text": [
      "\n"
     ]
    },
    {
     "name": "stdout",
     "output_type": "stream",
     "text": [
      "\n",
      "      Epoch    GPU_mem   box_loss   cls_loss   dfl_loss  Instances       Size\n"
     ]
    },
    {
     "name": "stderr",
     "output_type": "stream",
     "text": [
      "       7/10     0.434G     0.1067     0.1769     0.8736         16        224: 100%|██████████| 95/95 [00:13<00:00,  6.93it/s]\n",
      "                 Class     Images  Instances      Box(P          R      mAP50  mAP50-95): 100%|██████████| 18/18 [00:05<00:00,  3.41it/s]\n"
     ]
    },
    {
     "name": "stdout",
     "output_type": "stream",
     "text": [
      "                   all        560        560          1          1      0.995      0.994\n",
      "\n",
      "      Epoch    GPU_mem   box_loss   cls_loss   dfl_loss  Instances       Size\n"
     ]
    },
    {
     "name": "stderr",
     "output_type": "stream",
     "text": [
      "       8/10     0.451G    0.09449     0.1567     0.8795         16        224: 100%|██████████| 95/95 [00:13<00:00,  6.83it/s]\n",
      "                 Class     Images  Instances      Box(P          R      mAP50  mAP50-95): 100%|██████████| 18/18 [00:03<00:00,  5.17it/s]"
     ]
    },
    {
     "name": "stdout",
     "output_type": "stream",
     "text": [
      "                   all        560        560      0.999          1      0.995      0.992\n"
     ]
    },
    {
     "name": "stderr",
     "output_type": "stream",
     "text": [
      "\n"
     ]
    },
    {
     "name": "stdout",
     "output_type": "stream",
     "text": [
      "\n",
      "      Epoch    GPU_mem   box_loss   cls_loss   dfl_loss  Instances       Size\n"
     ]
    },
    {
     "name": "stderr",
     "output_type": "stream",
     "text": [
      "       9/10     0.469G    0.08129     0.1457     0.8713         16        224: 100%|██████████| 95/95 [00:13<00:00,  6.82it/s]\n",
      "                 Class     Images  Instances      Box(P          R      mAP50  mAP50-95): 100%|██████████| 18/18 [00:03<00:00,  5.24it/s]"
     ]
    },
    {
     "name": "stdout",
     "output_type": "stream",
     "text": [
      "                   all        560        560      0.995      0.998      0.995      0.948\n"
     ]
    },
    {
     "name": "stderr",
     "output_type": "stream",
     "text": [
      "\n"
     ]
    },
    {
     "name": "stdout",
     "output_type": "stream",
     "text": [
      "\n",
      "      Epoch    GPU_mem   box_loss   cls_loss   dfl_loss  Instances       Size\n"
     ]
    },
    {
     "name": "stderr",
     "output_type": "stream",
     "text": [
      "      10/10     0.486G    0.06708     0.1192     0.8738         16        224: 100%|██████████| 95/95 [00:13<00:00,  6.87it/s]\n",
      "                 Class     Images  Instances      Box(P          R      mAP50  mAP50-95): 100%|██████████| 18/18 [00:03<00:00,  4.89it/s]"
     ]
    },
    {
     "name": "stdout",
     "output_type": "stream",
     "text": [
      "                   all        560        560          1          1      0.995      0.948\n"
     ]
    },
    {
     "name": "stderr",
     "output_type": "stream",
     "text": [
      "\n"
     ]
    },
    {
     "name": "stdout",
     "output_type": "stream",
     "text": [
      "\n",
      "10 epochs completed in 0.052 hours.\n",
      "Optimizer stripped from runs/detect/train/weights/last.pt, 6.2MB\n",
      "Optimizer stripped from runs/detect/train/weights/best.pt, 6.2MB\n",
      "\n",
      "Validating runs/detect/train/weights/best.pt...\n",
      "Ultralytics 8.3.167 🚀 Python-3.11.13 torch-2.6.0+cu124 CUDA:0 (Tesla T4, 15095MiB)\n",
      "Model summary (fused): 72 layers, 3,006,038 parameters, 0 gradients, 8.1 GFLOPs\n"
     ]
    },
    {
     "name": "stderr",
     "output_type": "stream",
     "text": [
      "                 Class     Images  Instances      Box(P          R      mAP50  mAP50-95): 100%|██████████| 18/18 [00:04<00:00,  3.62it/s]\n"
     ]
    },
    {
     "name": "stdout",
     "output_type": "stream",
     "text": [
      "                   all        560        560      0.991      0.992      0.995      0.995\n",
      "        normal-pylorus        282        282          1      0.984      0.995      0.995\n",
      "                polyps        278        278      0.981          1      0.995      0.995\n",
      "Speed: 0.1ms preprocess, 0.7ms inference, 0.0ms loss, 2.4ms postprocess per image\n",
      "Results saved to \u001b[1mruns/detect/train\u001b[0m\n"
     ]
    }
   ],
   "source": [
    "# Create a data.yaml file for YOLOv8 training\n",
    "data_yaml_content = \"\"\"\n",
    "train: /tmp/yolov8_data/train/images\n",
    "val: /tmp/yolov8_data/test/images\n",
    "nc: 2\n",
    "names: ['normal-pylorus', 'polyps']\n",
    "\"\"\"\n",
    "\n",
    "with open('/tmp/data.yaml', 'w') as f:\n",
    "    f.write(data_yaml_content)\n",
    "\n",
    "# Train the model\n",
    "results = model.train(data='/tmp/data.yaml', epochs=10, imgsz=224)"
   ]
  },
  {
   "cell_type": "code",
   "execution_count": null,
   "metadata": {
    "colab": {
     "base_uri": "https://localhost:8080/",
     "height": 211
    },
    "executionInfo": {
     "elapsed": 85,
     "status": "error",
     "timestamp": 1752741630344,
     "user": {
      "displayName": "sadat rahman",
      "userId": "00315844507455805433"
     },
     "user_tz": -360
    },
    "id": "bcab5d2e",
    "outputId": "0a9db41f-334f-4126-ddb3-966a55c87ee8"
   },
   "outputs": [
    {
     "ename": "NameError",
     "evalue": "name 'model' is not defined",
     "output_type": "error",
     "traceback": [
      "\u001b[0;31m---------------------------------------------------------------------------\u001b[0m",
      "\u001b[0;31mNameError\u001b[0m                                 Traceback (most recent call last)",
      "\u001b[0;32m/tmp/ipython-input-1-2559257792.py\u001b[0m in \u001b[0;36m<cell line: 0>\u001b[0;34m()\u001b[0m\n\u001b[1;32m      1\u001b[0m \u001b[0;31m# Evaluate the model on the test set\u001b[0m\u001b[0;34m\u001b[0m\u001b[0;34m\u001b[0m\u001b[0m\n\u001b[0;32m----> 2\u001b[0;31m \u001b[0mevaluation_results\u001b[0m \u001b[0;34m=\u001b[0m \u001b[0mmodel\u001b[0m\u001b[0;34m.\u001b[0m\u001b[0mval\u001b[0m\u001b[0;34m(\u001b[0m\u001b[0;34m)\u001b[0m\u001b[0;34m\u001b[0m\u001b[0;34m\u001b[0m\u001b[0m\n\u001b[0m\u001b[1;32m      3\u001b[0m \u001b[0;34m\u001b[0m\u001b[0m\n\u001b[1;32m      4\u001b[0m \u001b[0;31m# Print the evaluation results\u001b[0m\u001b[0;34m\u001b[0m\u001b[0;34m\u001b[0m\u001b[0m\n\u001b[1;32m      5\u001b[0m \u001b[0mprint\u001b[0m\u001b[0;34m(\u001b[0m\u001b[0mevaluation_results\u001b[0m\u001b[0;34m)\u001b[0m\u001b[0;34m\u001b[0m\u001b[0;34m\u001b[0m\u001b[0m\n",
      "\u001b[0;31mNameError\u001b[0m: name 'model' is not defined"
     ]
    }
   ],
   "source": [
    "# Evaluate the model on the test set\n",
    "evaluation_results = model.val()\n",
    "\n",
    "# Print the evaluation results\n",
    "print(evaluation_results)"
   ]
  },
  {
   "cell_type": "code",
   "execution_count": null,
   "metadata": {
    "colab": {
     "base_uri": "https://localhost:8080/",
     "height": 383
    },
    "executionInfo": {
     "elapsed": 22,
     "status": "error",
     "timestamp": 1752741642018,
     "user": {
      "displayName": "sadat rahman",
      "userId": "00315844507455805433"
     },
     "user_tz": -360
    },
    "id": "6d90dd6e",
    "outputId": "b0b31eda-1658-41ac-dd5b-f75201a180bb"
   },
   "outputs": [
    {
     "ename": "ModuleNotFoundError",
     "evalue": "No module named 'ultralytics'",
     "output_type": "error",
     "traceback": [
      "\u001b[0;31m---------------------------------------------------------------------------\u001b[0m",
      "\u001b[0;31mModuleNotFoundError\u001b[0m                       Traceback (most recent call last)",
      "\u001b[0;32m/tmp/ipython-input-2-788410983.py\u001b[0m in \u001b[0;36m<cell line: 0>\u001b[0;34m()\u001b[0m\n\u001b[0;32m----> 1\u001b[0;31m \u001b[0;32mfrom\u001b[0m \u001b[0multralytics\u001b[0m \u001b[0;32mimport\u001b[0m \u001b[0mYOLO\u001b[0m\u001b[0;34m\u001b[0m\u001b[0;34m\u001b[0m\u001b[0m\n\u001b[0m\u001b[1;32m      2\u001b[0m \u001b[0;34m\u001b[0m\u001b[0m\n\u001b[1;32m      3\u001b[0m \u001b[0;31m# Load a pre-trained YOLOv8n model\u001b[0m\u001b[0;34m\u001b[0m\u001b[0;34m\u001b[0m\u001b[0m\n\u001b[1;32m      4\u001b[0m \u001b[0mmodel\u001b[0m \u001b[0;34m=\u001b[0m \u001b[0mYOLO\u001b[0m\u001b[0;34m(\u001b[0m\u001b[0;34m'yolov8n.pt'\u001b[0m\u001b[0;34m)\u001b[0m\u001b[0;34m\u001b[0m\u001b[0;34m\u001b[0m\u001b[0m\n\u001b[1;32m      5\u001b[0m \u001b[0;34m\u001b[0m\u001b[0m\n",
      "\u001b[0;31mModuleNotFoundError\u001b[0m: No module named 'ultralytics'",
      "",
      "\u001b[0;31m---------------------------------------------------------------------------\u001b[0;32m\nNOTE: If your import is failing due to a missing package, you can\nmanually install dependencies using either !pip or !apt.\n\nTo view examples of installing some common dependencies, click the\n\"Open Examples\" button below.\n\u001b[0;31m---------------------------------------------------------------------------\u001b[0m\n"
     ]
    }
   ],
   "source": [
    "from ultralytics import YOLO\n",
    "\n",
    "# Load a pre-trained YOLOv8n model\n",
    "model = YOLO('yolov8n.pt')\n",
    "\n",
    "# Evaluate the model on the test set\n",
    "evaluation_results = model.val()\n",
    "\n",
    "# Print the evaluation results\n",
    "print(evaluation_results)"
   ]
  },
  {
   "cell_type": "code",
   "execution_count": null,
   "metadata": {
    "colab": {
     "base_uri": "https://localhost:8080/"
    },
    "executionInfo": {
     "elapsed": 91172,
     "status": "ok",
     "timestamp": 1752741747589,
     "user": {
      "displayName": "sadat rahman",
      "userId": "00315844507455805433"
     },
     "user_tz": -360
    },
    "id": "81b4779b",
    "outputId": "ae46d87d-07f0-4cf6-c0ae-cf22d21726a4"
   },
   "outputs": [
    {
     "name": "stdout",
     "output_type": "stream",
     "text": [
      "Collecting ultralytics\n",
      "  Downloading ultralytics-8.3.167-py3-none-any.whl.metadata (37 kB)\n",
      "Requirement already satisfied: numpy>=1.23.0 in /usr/local/lib/python3.11/dist-packages (from ultralytics) (2.0.2)\n",
      "Requirement already satisfied: matplotlib>=3.3.0 in /usr/local/lib/python3.11/dist-packages (from ultralytics) (3.10.0)\n",
      "Requirement already satisfied: opencv-python>=4.6.0 in /usr/local/lib/python3.11/dist-packages (from ultralytics) (4.11.0.86)\n",
      "Requirement already satisfied: pillow>=7.1.2 in /usr/local/lib/python3.11/dist-packages (from ultralytics) (11.2.1)\n",
      "Requirement already satisfied: pyyaml>=5.3.1 in /usr/local/lib/python3.11/dist-packages (from ultralytics) (6.0.2)\n",
      "Requirement already satisfied: requests>=2.23.0 in /usr/local/lib/python3.11/dist-packages (from ultralytics) (2.32.3)\n",
      "Requirement already satisfied: scipy>=1.4.1 in /usr/local/lib/python3.11/dist-packages (from ultralytics) (1.15.3)\n",
      "Requirement already satisfied: torch>=1.8.0 in /usr/local/lib/python3.11/dist-packages (from ultralytics) (2.6.0+cu124)\n",
      "Requirement already satisfied: torchvision>=0.9.0 in /usr/local/lib/python3.11/dist-packages (from ultralytics) (0.21.0+cu124)\n",
      "Requirement already satisfied: tqdm>=4.64.0 in /usr/local/lib/python3.11/dist-packages (from ultralytics) (4.67.1)\n",
      "Requirement already satisfied: psutil in /usr/local/lib/python3.11/dist-packages (from ultralytics) (5.9.5)\n",
      "Requirement already satisfied: py-cpuinfo in /usr/local/lib/python3.11/dist-packages (from ultralytics) (9.0.0)\n",
      "Requirement already satisfied: pandas>=1.1.4 in /usr/local/lib/python3.11/dist-packages (from ultralytics) (2.2.2)\n",
      "Collecting ultralytics-thop>=2.0.0 (from ultralytics)\n",
      "  Downloading ultralytics_thop-2.0.14-py3-none-any.whl.metadata (9.4 kB)\n",
      "Requirement already satisfied: contourpy>=1.0.1 in /usr/local/lib/python3.11/dist-packages (from matplotlib>=3.3.0->ultralytics) (1.3.2)\n",
      "Requirement already satisfied: cycler>=0.10 in /usr/local/lib/python3.11/dist-packages (from matplotlib>=3.3.0->ultralytics) (0.12.1)\n",
      "Requirement already satisfied: fonttools>=4.22.0 in /usr/local/lib/python3.11/dist-packages (from matplotlib>=3.3.0->ultralytics) (4.58.5)\n",
      "Requirement already satisfied: kiwisolver>=1.3.1 in /usr/local/lib/python3.11/dist-packages (from matplotlib>=3.3.0->ultralytics) (1.4.8)\n",
      "Requirement already satisfied: packaging>=20.0 in /usr/local/lib/python3.11/dist-packages (from matplotlib>=3.3.0->ultralytics) (24.2)\n",
      "Requirement already satisfied: pyparsing>=2.3.1 in /usr/local/lib/python3.11/dist-packages (from matplotlib>=3.3.0->ultralytics) (3.2.3)\n",
      "Requirement already satisfied: python-dateutil>=2.7 in /usr/local/lib/python3.11/dist-packages (from matplotlib>=3.3.0->ultralytics) (2.9.0.post0)\n",
      "Requirement already satisfied: pytz>=2020.1 in /usr/local/lib/python3.11/dist-packages (from pandas>=1.1.4->ultralytics) (2025.2)\n",
      "Requirement already satisfied: tzdata>=2022.7 in /usr/local/lib/python3.11/dist-packages (from pandas>=1.1.4->ultralytics) (2025.2)\n",
      "Requirement already satisfied: charset-normalizer<4,>=2 in /usr/local/lib/python3.11/dist-packages (from requests>=2.23.0->ultralytics) (3.4.2)\n",
      "Requirement already satisfied: idna<4,>=2.5 in /usr/local/lib/python3.11/dist-packages (from requests>=2.23.0->ultralytics) (3.10)\n",
      "Requirement already satisfied: urllib3<3,>=1.21.1 in /usr/local/lib/python3.11/dist-packages (from requests>=2.23.0->ultralytics) (2.4.0)\n",
      "Requirement already satisfied: certifi>=2017.4.17 in /usr/local/lib/python3.11/dist-packages (from requests>=2.23.0->ultralytics) (2025.7.14)\n",
      "Requirement already satisfied: filelock in /usr/local/lib/python3.11/dist-packages (from torch>=1.8.0->ultralytics) (3.18.0)\n",
      "Requirement already satisfied: typing-extensions>=4.10.0 in /usr/local/lib/python3.11/dist-packages (from torch>=1.8.0->ultralytics) (4.14.1)\n",
      "Requirement already satisfied: networkx in /usr/local/lib/python3.11/dist-packages (from torch>=1.8.0->ultralytics) (3.5)\n",
      "Requirement already satisfied: jinja2 in /usr/local/lib/python3.11/dist-packages (from torch>=1.8.0->ultralytics) (3.1.6)\n",
      "Requirement already satisfied: fsspec in /usr/local/lib/python3.11/dist-packages (from torch>=1.8.0->ultralytics) (2025.3.2)\n",
      "Collecting nvidia-cuda-nvrtc-cu12==12.4.127 (from torch>=1.8.0->ultralytics)\n",
      "  Downloading nvidia_cuda_nvrtc_cu12-12.4.127-py3-none-manylinux2014_x86_64.whl.metadata (1.5 kB)\n",
      "Collecting nvidia-cuda-runtime-cu12==12.4.127 (from torch>=1.8.0->ultralytics)\n",
      "  Downloading nvidia_cuda_runtime_cu12-12.4.127-py3-none-manylinux2014_x86_64.whl.metadata (1.5 kB)\n",
      "Collecting nvidia-cuda-cupti-cu12==12.4.127 (from torch>=1.8.0->ultralytics)\n",
      "  Downloading nvidia_cuda_cupti_cu12-12.4.127-py3-none-manylinux2014_x86_64.whl.metadata (1.6 kB)\n",
      "Collecting nvidia-cudnn-cu12==9.1.0.70 (from torch>=1.8.0->ultralytics)\n",
      "  Downloading nvidia_cudnn_cu12-9.1.0.70-py3-none-manylinux2014_x86_64.whl.metadata (1.6 kB)\n",
      "Collecting nvidia-cublas-cu12==12.4.5.8 (from torch>=1.8.0->ultralytics)\n",
      "  Downloading nvidia_cublas_cu12-12.4.5.8-py3-none-manylinux2014_x86_64.whl.metadata (1.5 kB)\n",
      "Collecting nvidia-cufft-cu12==11.2.1.3 (from torch>=1.8.0->ultralytics)\n",
      "  Downloading nvidia_cufft_cu12-11.2.1.3-py3-none-manylinux2014_x86_64.whl.metadata (1.5 kB)\n",
      "Collecting nvidia-curand-cu12==10.3.5.147 (from torch>=1.8.0->ultralytics)\n",
      "  Downloading nvidia_curand_cu12-10.3.5.147-py3-none-manylinux2014_x86_64.whl.metadata (1.5 kB)\n",
      "Collecting nvidia-cusolver-cu12==11.6.1.9 (from torch>=1.8.0->ultralytics)\n",
      "  Downloading nvidia_cusolver_cu12-11.6.1.9-py3-none-manylinux2014_x86_64.whl.metadata (1.6 kB)\n",
      "Collecting nvidia-cusparse-cu12==12.3.1.170 (from torch>=1.8.0->ultralytics)\n",
      "  Downloading nvidia_cusparse_cu12-12.3.1.170-py3-none-manylinux2014_x86_64.whl.metadata (1.6 kB)\n",
      "Requirement already satisfied: nvidia-cusparselt-cu12==0.6.2 in /usr/local/lib/python3.11/dist-packages (from torch>=1.8.0->ultralytics) (0.6.2)\n",
      "Requirement already satisfied: nvidia-nccl-cu12==2.21.5 in /usr/local/lib/python3.11/dist-packages (from torch>=1.8.0->ultralytics) (2.21.5)\n",
      "Requirement already satisfied: nvidia-nvtx-cu12==12.4.127 in /usr/local/lib/python3.11/dist-packages (from torch>=1.8.0->ultralytics) (12.4.127)\n",
      "Collecting nvidia-nvjitlink-cu12==12.4.127 (from torch>=1.8.0->ultralytics)\n",
      "  Downloading nvidia_nvjitlink_cu12-12.4.127-py3-none-manylinux2014_x86_64.whl.metadata (1.5 kB)\n",
      "Requirement already satisfied: triton==3.2.0 in /usr/local/lib/python3.11/dist-packages (from torch>=1.8.0->ultralytics) (3.2.0)\n",
      "Requirement already satisfied: sympy==1.13.1 in /usr/local/lib/python3.11/dist-packages (from torch>=1.8.0->ultralytics) (1.13.1)\n",
      "Requirement already satisfied: mpmath<1.4,>=1.1.0 in /usr/local/lib/python3.11/dist-packages (from sympy==1.13.1->torch>=1.8.0->ultralytics) (1.3.0)\n",
      "Requirement already satisfied: six>=1.5 in /usr/local/lib/python3.11/dist-packages (from python-dateutil>=2.7->matplotlib>=3.3.0->ultralytics) (1.17.0)\n",
      "Requirement already satisfied: MarkupSafe>=2.0 in /usr/local/lib/python3.11/dist-packages (from jinja2->torch>=1.8.0->ultralytics) (3.0.2)\n",
      "Downloading ultralytics-8.3.167-py3-none-any.whl (1.0 MB)\n",
      "\u001b[2K   \u001b[90m━━━━━━━━━━━━━━━━━━━━━━━━━━━━━━━━━━━━━━━━\u001b[0m \u001b[32m1.0/1.0 MB\u001b[0m \u001b[31m27.4 MB/s\u001b[0m eta \u001b[36m0:00:00\u001b[0m\n",
      "\u001b[?25hDownloading nvidia_cublas_cu12-12.4.5.8-py3-none-manylinux2014_x86_64.whl (363.4 MB)\n",
      "\u001b[2K   \u001b[90m━━━━━━━━━━━━━━━━━━━━━━━━━━━━━━━━━━━━━━━━\u001b[0m \u001b[32m363.4/363.4 MB\u001b[0m \u001b[31m1.5 MB/s\u001b[0m eta \u001b[36m0:00:00\u001b[0m\n",
      "\u001b[?25hDownloading nvidia_cuda_cupti_cu12-12.4.127-py3-none-manylinux2014_x86_64.whl (13.8 MB)\n",
      "\u001b[2K   \u001b[90m━━━━━━━━━━━━━━━━━━━━━━━━━━━━━━━━━━━━━━━━\u001b[0m \u001b[32m13.8/13.8 MB\u001b[0m \u001b[31m127.3 MB/s\u001b[0m eta \u001b[36m0:00:00\u001b[0m\n",
      "\u001b[?25hDownloading nvidia_cuda_nvrtc_cu12-12.4.127-py3-none-manylinux2014_x86_64.whl (24.6 MB)\n",
      "\u001b[2K   \u001b[90m━━━━━━━━━━━━━━━━━━━━━━━━━━━━━━━━━━━━━━━━\u001b[0m \u001b[32m24.6/24.6 MB\u001b[0m \u001b[31m95.0 MB/s\u001b[0m eta \u001b[36m0:00:00\u001b[0m\n",
      "\u001b[?25hDownloading nvidia_cuda_runtime_cu12-12.4.127-py3-none-manylinux2014_x86_64.whl (883 kB)\n",
      "\u001b[2K   \u001b[90m━━━━━━━━━━━━━━━━━━━━━━━━━━━━━━━━━━━━━━━━\u001b[0m \u001b[32m883.7/883.7 kB\u001b[0m \u001b[31m64.9 MB/s\u001b[0m eta \u001b[36m0:00:00\u001b[0m\n",
      "\u001b[?25hDownloading nvidia_cudnn_cu12-9.1.0.70-py3-none-manylinux2014_x86_64.whl (664.8 MB)\n",
      "\u001b[2K   \u001b[90m━━━━━━━━━━━━━━━━━━━━━━━━━━━━━━━━━━━━━━━━\u001b[0m \u001b[32m664.8/664.8 MB\u001b[0m \u001b[31m2.0 MB/s\u001b[0m eta \u001b[36m0:00:00\u001b[0m\n",
      "\u001b[?25hDownloading nvidia_cufft_cu12-11.2.1.3-py3-none-manylinux2014_x86_64.whl (211.5 MB)\n",
      "\u001b[2K   \u001b[90m━━━━━━━━━━━━━━━━━━━━━━━━━━━━━━━━━━━━━━━━\u001b[0m \u001b[32m211.5/211.5 MB\u001b[0m \u001b[31m5.3 MB/s\u001b[0m eta \u001b[36m0:00:00\u001b[0m\n",
      "\u001b[?25hDownloading nvidia_curand_cu12-10.3.5.147-py3-none-manylinux2014_x86_64.whl (56.3 MB)\n",
      "\u001b[2K   \u001b[90m━━━━━━━━━━━━━━━━━━━━━━━━━━━━━━━━━━━━━━━━\u001b[0m \u001b[32m56.3/56.3 MB\u001b[0m \u001b[31m13.2 MB/s\u001b[0m eta \u001b[36m0:00:00\u001b[0m\n",
      "\u001b[?25hDownloading nvidia_cusolver_cu12-11.6.1.9-py3-none-manylinux2014_x86_64.whl (127.9 MB)\n",
      "\u001b[2K   \u001b[90m━━━━━━━━━━━━━━━━━━━━━━━━━━━━━━━━━━━━━━━━\u001b[0m \u001b[32m127.9/127.9 MB\u001b[0m \u001b[31m7.4 MB/s\u001b[0m eta \u001b[36m0:00:00\u001b[0m\n",
      "\u001b[?25hDownloading nvidia_cusparse_cu12-12.3.1.170-py3-none-manylinux2014_x86_64.whl (207.5 MB)\n",
      "\u001b[2K   \u001b[90m━━━━━━━━━━━━━━━━━━━━━━━━━━━━━━━━━━━━━━━━\u001b[0m \u001b[32m207.5/207.5 MB\u001b[0m \u001b[31m5.4 MB/s\u001b[0m eta \u001b[36m0:00:00\u001b[0m\n",
      "\u001b[?25hDownloading nvidia_nvjitlink_cu12-12.4.127-py3-none-manylinux2014_x86_64.whl (21.1 MB)\n",
      "\u001b[2K   \u001b[90m━━━━━━━━━━━━━━━━━━━━━━━━━━━━━━━━━━━━━━━━\u001b[0m \u001b[32m21.1/21.1 MB\u001b[0m \u001b[31m76.7 MB/s\u001b[0m eta \u001b[36m0:00:00\u001b[0m\n",
      "\u001b[?25hDownloading ultralytics_thop-2.0.14-py3-none-any.whl (26 kB)\n",
      "Installing collected packages: nvidia-nvjitlink-cu12, nvidia-curand-cu12, nvidia-cufft-cu12, nvidia-cuda-runtime-cu12, nvidia-cuda-nvrtc-cu12, nvidia-cuda-cupti-cu12, nvidia-cublas-cu12, nvidia-cusparse-cu12, nvidia-cudnn-cu12, nvidia-cusolver-cu12, ultralytics-thop, ultralytics\n",
      "  Attempting uninstall: nvidia-nvjitlink-cu12\n",
      "    Found existing installation: nvidia-nvjitlink-cu12 12.5.82\n",
      "    Uninstalling nvidia-nvjitlink-cu12-12.5.82:\n",
      "      Successfully uninstalled nvidia-nvjitlink-cu12-12.5.82\n",
      "  Attempting uninstall: nvidia-curand-cu12\n",
      "    Found existing installation: nvidia-curand-cu12 10.3.6.82\n",
      "    Uninstalling nvidia-curand-cu12-10.3.6.82:\n",
      "      Successfully uninstalled nvidia-curand-cu12-10.3.6.82\n",
      "  Attempting uninstall: nvidia-cufft-cu12\n",
      "    Found existing installation: nvidia-cufft-cu12 11.2.3.61\n",
      "    Uninstalling nvidia-cufft-cu12-11.2.3.61:\n",
      "      Successfully uninstalled nvidia-cufft-cu12-11.2.3.61\n",
      "  Attempting uninstall: nvidia-cuda-runtime-cu12\n",
      "    Found existing installation: nvidia-cuda-runtime-cu12 12.5.82\n",
      "    Uninstalling nvidia-cuda-runtime-cu12-12.5.82:\n",
      "      Successfully uninstalled nvidia-cuda-runtime-cu12-12.5.82\n",
      "  Attempting uninstall: nvidia-cuda-nvrtc-cu12\n",
      "    Found existing installation: nvidia-cuda-nvrtc-cu12 12.5.82\n",
      "    Uninstalling nvidia-cuda-nvrtc-cu12-12.5.82:\n",
      "      Successfully uninstalled nvidia-cuda-nvrtc-cu12-12.5.82\n",
      "  Attempting uninstall: nvidia-cuda-cupti-cu12\n",
      "    Found existing installation: nvidia-cuda-cupti-cu12 12.5.82\n",
      "    Uninstalling nvidia-cuda-cupti-cu12-12.5.82:\n",
      "      Successfully uninstalled nvidia-cuda-cupti-cu12-12.5.82\n",
      "  Attempting uninstall: nvidia-cublas-cu12\n",
      "    Found existing installation: nvidia-cublas-cu12 12.5.3.2\n",
      "    Uninstalling nvidia-cublas-cu12-12.5.3.2:\n",
      "      Successfully uninstalled nvidia-cublas-cu12-12.5.3.2\n",
      "  Attempting uninstall: nvidia-cusparse-cu12\n",
      "    Found existing installation: nvidia-cusparse-cu12 12.5.1.3\n",
      "    Uninstalling nvidia-cusparse-cu12-12.5.1.3:\n",
      "      Successfully uninstalled nvidia-cusparse-cu12-12.5.1.3\n",
      "  Attempting uninstall: nvidia-cudnn-cu12\n",
      "    Found existing installation: nvidia-cudnn-cu12 9.3.0.75\n",
      "    Uninstalling nvidia-cudnn-cu12-9.3.0.75:\n",
      "      Successfully uninstalled nvidia-cudnn-cu12-9.3.0.75\n",
      "  Attempting uninstall: nvidia-cusolver-cu12\n",
      "    Found existing installation: nvidia-cusolver-cu12 11.6.3.83\n",
      "    Uninstalling nvidia-cusolver-cu12-11.6.3.83:\n",
      "      Successfully uninstalled nvidia-cusolver-cu12-11.6.3.83\n",
      "Successfully installed nvidia-cublas-cu12-12.4.5.8 nvidia-cuda-cupti-cu12-12.4.127 nvidia-cuda-nvrtc-cu12-12.4.127 nvidia-cuda-runtime-cu12-12.4.127 nvidia-cudnn-cu12-9.1.0.70 nvidia-cufft-cu12-11.2.1.3 nvidia-curand-cu12-10.3.5.147 nvidia-cusolver-cu12-11.6.1.9 nvidia-cusparse-cu12-12.3.1.170 nvidia-nvjitlink-cu12-12.4.127 ultralytics-8.3.167 ultralytics-thop-2.0.14\n"
     ]
    }
   ],
   "source": [
    "%pip install ultralytics"
   ]
  },
  {
   "cell_type": "code",
   "execution_count": null,
   "metadata": {
    "colab": {
     "base_uri": "https://localhost:8080/"
    },
    "executionInfo": {
     "elapsed": 779342,
     "status": "ok",
     "timestamp": 1752743061045,
     "user": {
      "displayName": "sadat rahman",
      "userId": "00315844507455805433"
     },
     "user_tz": -360
    },
    "id": "de8e1756",
    "outputId": "533903fc-5179-400d-8a98-02df738fee0b"
   },
   "outputs": [
    {
     "name": "stdout",
     "output_type": "stream",
     "text": [
      "Creating new Ultralytics Settings v0.0.6 file ✅ \n",
      "View Ultralytics Settings with 'yolo settings' or at '/root/.config/Ultralytics/settings.json'\n",
      "Update Settings with 'yolo settings key=value', i.e. 'yolo settings runs_dir=path/to/dir'. For help see https://docs.ultralytics.com/quickstart/#ultralytics-settings.\n",
      "Downloading https://github.com/ultralytics/assets/releases/download/v8.3.0/yolov8n.pt to 'yolov8n.pt'...\n"
     ]
    },
    {
     "name": "stderr",
     "output_type": "stream",
     "text": [
      "100%|██████████| 6.25M/6.25M [00:00<00:00, 109MB/s]\n"
     ]
    },
    {
     "name": "stdout",
     "output_type": "stream",
     "text": [
      "Ultralytics 8.3.167 🚀 Python-3.11.13 torch-2.6.0+cu124 CUDA:0 (Tesla T4, 15095MiB)\n",
      "YOLOv8n summary (fused): 72 layers, 3,151,904 parameters, 0 gradients, 8.7 GFLOPs\n",
      "\n",
      "WARNING ⚠️ Dataset 'coco.yaml' images not found, missing path '/content/datasets/coco/val2017.txt'\n",
      "Downloading https://ultralytics.com/assets/coco2017labels-segments.zip to '/content/datasets/coco2017labels-segments.zip'...\n"
     ]
    },
    {
     "name": "stderr",
     "output_type": "stream",
     "text": [
      "100%|██████████| 169M/169M [00:01<00:00, 137MB/s]\n",
      "Unzipping /content/datasets/coco2017labels-segments.zip to /content/datasets/coco...: 100%|██████████| 122232/122232 [00:19<00:00, 6405.84file/s]\n"
     ]
    },
    {
     "name": "stdout",
     "output_type": "stream",
     "text": [
      "Downloading http://images.cocodataset.org/zips/train2017.zip to '/content/datasets/coco/images/train2017.zip'...\n",
      "Downloading http://images.cocodataset.org/zips/val2017.zip to '/content/datasets/coco/images/val2017.zip'...\n",
      "Downloading http://images.cocodataset.org/zips/test2017.zip to '/content/datasets/coco/images/test2017.zip'...\n",
      "Dataset download success ✅ (663.9s), saved to \u001b[1m/content/datasets\u001b[0m\n",
      "\n",
      "Downloading https://ultralytics.com/assets/Arial.ttf to '/root/.config/Ultralytics/Arial.ttf'...\n"
     ]
    },
    {
     "name": "stderr",
     "output_type": "stream",
     "text": [
      "100%|██████████| 755k/755k [00:00<00:00, 16.0MB/s]"
     ]
    },
    {
     "name": "stdout",
     "output_type": "stream",
     "text": [
      "\u001b[34m\u001b[1mval: \u001b[0mFast image access ✅ (ping: 0.0±0.0 ms, read: 48.1±4.9 MB/s, size: 146.1 KB)\n"
     ]
    },
    {
     "name": "stderr",
     "output_type": "stream",
     "text": [
      "\n",
      "\u001b[34m\u001b[1mval: \u001b[0mScanning /content/datasets/coco/labels/val2017... 4952 images, 48 backgrounds, 0 corrupt: 100%|██████████| 5000/5000 [00:13<00:00, 369.11it/s]\n"
     ]
    },
    {
     "name": "stdout",
     "output_type": "stream",
     "text": [
      "\u001b[34m\u001b[1mval: \u001b[0mNew cache created: /content/datasets/coco/labels/val2017.cache\n"
     ]
    },
    {
     "name": "stderr",
     "output_type": "stream",
     "text": [
      "                 Class     Images  Instances      Box(P          R      mAP50  mAP50-95): 100%|██████████| 313/313 [00:58<00:00,  5.37it/s]\n"
     ]
    },
    {
     "name": "stdout",
     "output_type": "stream",
     "text": [
      "                   all       5000      36335      0.634      0.475      0.521      0.372\n",
      "                person       2693      10777      0.755      0.671      0.745      0.515\n",
      "               bicycle        149        314       0.69      0.392      0.457      0.264\n",
      "                   car        535       1918      0.648      0.514      0.562      0.365\n",
      "            motorcycle        159        367      0.715       0.58      0.659      0.414\n",
      "              airplane         97        143      0.814      0.764      0.834      0.653\n",
      "                   bus        189        283      0.747      0.643      0.739       0.62\n",
      "                 train        157        190      0.798       0.77      0.834      0.647\n",
      "                 truck        250        414      0.547      0.397      0.435      0.295\n",
      "                  boat        121        424      0.583        0.3      0.376       0.21\n",
      "         traffic light        191        634      0.647      0.345      0.409      0.212\n",
      "          fire hydrant         86        101       0.85      0.703      0.774      0.615\n",
      "             stop sign         69         75      0.696       0.64      0.692      0.631\n",
      "         parking meter         37         60      0.633        0.5      0.558      0.441\n",
      "                 bench        235        411      0.571      0.258      0.295      0.194\n",
      "                  bird        125        427      0.693      0.358      0.427      0.277\n",
      "                   cat        184        202      0.776      0.824      0.856      0.652\n",
      "                   dog        177        218      0.656      0.698      0.729      0.593\n",
      "                 horse        128        272      0.701      0.651      0.693      0.525\n",
      "                 sheep         65        354      0.611      0.667      0.662       0.46\n",
      "                   cow         87        372      0.697        0.6      0.682       0.49\n",
      "              elephant         89        252      0.705      0.833      0.821      0.629\n",
      "                  bear         49         71      0.848      0.775      0.842      0.689\n",
      "                 zebra         85        266      0.809      0.797      0.882      0.658\n",
      "               giraffe        101        232      0.857      0.828      0.887      0.684\n",
      "              backpack        228        371       0.49      0.156      0.198      0.101\n",
      "              umbrella        174        407      0.632      0.504      0.543      0.362\n",
      "               handbag        292        540       0.48      0.126      0.169     0.0859\n",
      "                   tie        145        252      0.688      0.361      0.429      0.269\n",
      "              suitcase        105        299      0.571      0.435      0.503      0.343\n",
      "               frisbee         84        115      0.747      0.771      0.767      0.584\n",
      "                  skis        120        241      0.605      0.317       0.37      0.189\n",
      "             snowboard         49         69      0.507      0.333      0.396      0.268\n",
      "           sports ball        169        260      0.716      0.438      0.473      0.332\n",
      "                  kite         91        327      0.606       0.52      0.558       0.38\n",
      "          baseball bat         97        145      0.586      0.386      0.403      0.219\n",
      "        baseball glove        100        148       0.67      0.473      0.512      0.303\n",
      "            skateboard        127        179      0.721      0.607      0.663      0.452\n",
      "             surfboard        149        267      0.629      0.476      0.507      0.309\n",
      "         tennis racket        167        225      0.701      0.618      0.671      0.396\n",
      "                bottle        379       1013      0.614      0.386      0.455      0.298\n",
      "            wine glass        110        341      0.661      0.352       0.42       0.27\n",
      "                   cup        390        895      0.584      0.441      0.489      0.351\n",
      "                  fork        155        215      0.582      0.318      0.389      0.264\n",
      "                 knife        181        325      0.508      0.163      0.173      0.106\n",
      "                 spoon        153        253      0.413      0.145       0.16     0.0988\n",
      "                  bowl        314        623       0.59      0.494       0.53      0.392\n",
      "                banana        103        370      0.548      0.319      0.373      0.233\n",
      "                 apple         76        236      0.415      0.242      0.227      0.156\n",
      "              sandwich         98        177      0.567      0.486      0.463      0.349\n",
      "                orange         85        285       0.44      0.418      0.368      0.281\n",
      "              broccoli         71        312      0.477      0.338      0.368      0.208\n",
      "                carrot         81        365      0.447      0.293      0.307      0.189\n",
      "               hot dog         51        125       0.76      0.431      0.497      0.364\n",
      "                 pizza        153        284       0.66      0.613      0.658      0.503\n",
      "                 donut         62        328      0.577      0.494      0.515      0.408\n",
      "                  cake        124        310      0.535       0.39      0.437      0.293\n",
      "                 chair        580       1771      0.583      0.339      0.403      0.257\n",
      "                 couch        195        261      0.592      0.548      0.586      0.434\n",
      "          potted plant        172        342      0.521       0.38      0.386      0.226\n",
      "                   bed        149        163      0.551      0.552      0.589      0.429\n",
      "          dining table        501        695      0.528      0.439      0.435      0.293\n",
      "                toilet        149        179      0.718      0.737      0.774      0.641\n",
      "                    tv        207        288      0.772      0.635      0.715      0.553\n",
      "                laptop        183        231      0.682      0.662      0.699       0.58\n",
      "                 mouse         88        106      0.634      0.651      0.708      0.531\n",
      "                remote        145        283      0.435      0.226      0.273      0.163\n",
      "              keyboard        106        153      0.594      0.602      0.649      0.482\n",
      "            cell phone        214        262      0.551      0.351      0.399       0.28\n",
      "             microwave         54         55      0.617      0.545      0.643      0.514\n",
      "                  oven        115        143      0.644      0.448      0.511       0.35\n",
      "               toaster          8          9      0.727      0.222      0.436      0.316\n",
      "                  sink        187        225       0.56       0.44      0.507      0.337\n",
      "          refrigerator        101        126      0.673      0.587       0.65      0.511\n",
      "                  book        230       1129      0.491      0.111      0.197     0.0973\n",
      "                 clock        204        267      0.751      0.607      0.667      0.459\n",
      "                  vase        137        274      0.584      0.445      0.453      0.322\n",
      "              scissors         28         36       0.69      0.333      0.332      0.278\n",
      "            teddy bear         94        190       0.67      0.558      0.604      0.419\n",
      "            hair drier          9         11          1          0    0.00494    0.00378\n",
      "            toothbrush         34         57      0.403      0.193      0.236      0.165\n",
      "Speed: 0.3ms preprocess, 3.2ms inference, 0.0ms loss, 1.7ms postprocess per image\n",
      "Saving runs/detect/val/predictions.json...\n",
      "\n",
      "Evaluating faster-coco-eval mAP using runs/detect/val/predictions.json and /content/datasets/coco/annotations/instances_val2017.json...\n",
      "\u001b[31m\u001b[1mrequirements:\u001b[0m Ultralytics requirement ['faster-coco-eval>=1.6.7'] not found, attempting AutoUpdate...\n",
      "\n",
      "\u001b[31m\u001b[1mrequirements:\u001b[0m AutoUpdate success ✅ 0.7s\n",
      "WARNING ⚠️ \u001b[31m\u001b[1mrequirements:\u001b[0m \u001b[1mRestart runtime or rerun command for updates to take effect\u001b[0m\n",
      "\n",
      "Evaluate annotation type *bbox*\n",
      "COCOeval_opt.evaluate() finished...\n",
      "DONE (t=10.10s).\n",
      "Accumulating evaluation results...\n",
      "COCOeval_opt.accumulate() finished...\n",
      "DONE (t=0.00s).\n",
      " Average Precision  (AP) @[ IoU=0.50:0.95 | area=   all | maxDets=100 ] = 0.374\n",
      " Average Precision  (AP) @[ IoU=0.50      | area=   all | maxDets=100 ] = 0.526\n",
      " Average Precision  (AP) @[ IoU=0.75      | area=   all | maxDets=100 ] = 0.405\n",
      " Average Precision  (AP) @[ IoU=0.50:0.95 | area= small | maxDets=100 ] = 0.186\n",
      " Average Precision  (AP) @[ IoU=0.50:0.95 | area=medium | maxDets=100 ] = 0.410\n",
      " Average Precision  (AP) @[ IoU=0.50:0.95 | area= large | maxDets=100 ] = 0.535\n",
      " Average Recall     (AR) @[ IoU=0.50:0.95 | area=   all | maxDets=  1 ] = 0.320\n",
      " Average Recall     (AR) @[ IoU=0.50:0.95 | area=   all | maxDets= 10 ] = 0.533\n",
      " Average Recall     (AR) @[ IoU=0.50:0.95 | area=   all | maxDets=100 ] = 0.589\n",
      " Average Recall     (AR) @[ IoU=0.50:0.95 | area= small | maxDets=100 ] = 0.369\n",
      " Average Recall     (AR) @[ IoU=0.50:0.95 | area=medium | maxDets=100 ] = 0.654\n",
      " Average Recall     (AR) @[ IoU=0.50:0.95 | area= large | maxDets=100 ] = 0.769\n",
      " Average Recall     (AR) @[ IoU=0.50      | area=   all | maxDets=100 ] = 0.811\n",
      " Average Recall     (AR) @[ IoU=0.75      | area=   all | maxDets=100 ] = 0.638\n",
      "Results saved to \u001b[1mruns/detect/val\u001b[0m\n",
      "ultralytics.utils.metrics.DetMetrics object with attributes:\n",
      "\n",
      "ap_class_index: array([ 0,  1,  2,  3,  4,  5,  6,  7,  8,  9, 10, 11, 12, 13, 14, 15, 16, 17, 18, 19, 20, 21, 22, 23, 24, 25, 26, 27, 28, 29, 30, 31, 32, 33, 34, 35, 36, 37, 38, 39, 40, 41, 42, 43, 44, 45, 46, 47, 48, 49, 50, 51, 52, 53, 54, 55, 56, 57, 58, 59, 60, 61, 62, 63, 64, 65, 66, 67, 68, 69, 70, 71, 72, 73, 74, 75, 76, 77,\n",
      "       78, 79])\n",
      "box: ultralytics.utils.metrics.Metric object\n",
      "confusion_matrix: <ultralytics.utils.metrics.ConfusionMatrix object at 0x7a22e4111450>\n",
      "curves: ['Precision-Recall(B)', 'F1-Confidence(B)', 'Precision-Confidence(B)', 'Recall-Confidence(B)']\n",
      "curves_results: [[array([          0,    0.001001,    0.002002,    0.003003,    0.004004,    0.005005,    0.006006,    0.007007,    0.008008,    0.009009,     0.01001,    0.011011,    0.012012,    0.013013,    0.014014,    0.015015,    0.016016,    0.017017,    0.018018,    0.019019,     0.02002,    0.021021,    0.022022,    0.023023,\n",
      "          0.024024,    0.025025,    0.026026,    0.027027,    0.028028,    0.029029,     0.03003,    0.031031,    0.032032,    0.033033,    0.034034,    0.035035,    0.036036,    0.037037,    0.038038,    0.039039,     0.04004,    0.041041,    0.042042,    0.043043,    0.044044,    0.045045,    0.046046,    0.047047,\n",
      "          0.048048,    0.049049,     0.05005,    0.051051,    0.052052,    0.053053,    0.054054,    0.055055,    0.056056,    0.057057,    0.058058,    0.059059,     0.06006,    0.061061,    0.062062,    0.063063,    0.064064,    0.065065,    0.066066,    0.067067,    0.068068,    0.069069,     0.07007,    0.071071,\n",
      "          0.072072,    0.073073,    0.074074,    0.075075,    0.076076,    0.077077,    0.078078,    0.079079,     0.08008,    0.081081,    0.082082,    0.083083,    0.084084,    0.085085,    0.086086,    0.087087,    0.088088,    0.089089,     0.09009,    0.091091,    0.092092,    0.093093,    0.094094,    0.095095,\n",
      "          0.096096,    0.097097,    0.098098,    0.099099,      0.1001,      0.1011,      0.1021,      0.1031,      0.1041,     0.10511,     0.10611,     0.10711,     0.10811,     0.10911,     0.11011,     0.11111,     0.11211,     0.11311,     0.11411,     0.11512,     0.11612,     0.11712,     0.11812,     0.11912,\n",
      "           0.12012,     0.12112,     0.12212,     0.12312,     0.12412,     0.12513,     0.12613,     0.12713,     0.12813,     0.12913,     0.13013,     0.13113,     0.13213,     0.13313,     0.13413,     0.13514,     0.13614,     0.13714,     0.13814,     0.13914,     0.14014,     0.14114,     0.14214,     0.14314,\n",
      "           0.14414,     0.14515,     0.14615,     0.14715,     0.14815,     0.14915,     0.15015,     0.15115,     0.15215,     0.15315,     0.15415,     0.15516,     0.15616,     0.15716,     0.15816,     0.15916,     0.16016,     0.16116,     0.16216,     0.16316,     0.16416,     0.16517,     0.16617,     0.16717,\n",
      "           0.16817,     0.16917,     0.17017,     0.17117,     0.17217,     0.17317,     0.17417,     0.17518,     0.17618,     0.17718,     0.17818,     0.17918,     0.18018,     0.18118,     0.18218,     0.18318,     0.18418,     0.18519,     0.18619,     0.18719,     0.18819,     0.18919,     0.19019,     0.19119,\n",
      "           0.19219,     0.19319,     0.19419,      0.1952,      0.1962,      0.1972,      0.1982,      0.1992,      0.2002,      0.2012,      0.2022,      0.2032,      0.2042,     0.20521,     0.20621,     0.20721,     0.20821,     0.20921,     0.21021,     0.21121,     0.21221,     0.21321,     0.21421,     0.21522,\n",
      "           0.21622,     0.21722,     0.21822,     0.21922,     0.22022,     0.22122,     0.22222,     0.22322,     0.22422,     0.22523,     0.22623,     0.22723,     0.22823,     0.22923,     0.23023,     0.23123,     0.23223,     0.23323,     0.23423,     0.23524,     0.23624,     0.23724,     0.23824,     0.23924,\n",
      "           0.24024,     0.24124,     0.24224,     0.24324,     0.24424,     0.24525,     0.24625,     0.24725,     0.24825,     0.24925,     0.25025,     0.25125,     0.25225,     0.25325,     0.25425,     0.25526,     0.25626,     0.25726,     0.25826,     0.25926,     0.26026,     0.26126,     0.26226,     0.26326,\n",
      "           0.26426,     0.26527,     0.26627,     0.26727,     0.26827,     0.26927,     0.27027,     0.27127,     0.27227,     0.27327,     0.27427,     0.27528,     0.27628,     0.27728,     0.27828,     0.27928,     0.28028,     0.28128,     0.28228,     0.28328,     0.28428,     0.28529,     0.28629,     0.28729,\n",
      "           0.28829,     0.28929,     0.29029,     0.29129,     0.29229,     0.29329,     0.29429,      0.2953,      0.2963,      0.2973,      0.2983,      0.2993,      0.3003,      0.3013,      0.3023,      0.3033,      0.3043,     0.30531,     0.30631,     0.30731,     0.30831,     0.30931,     0.31031,     0.31131,\n",
      "           0.31231,     0.31331,     0.31431,     0.31532,     0.31632,     0.31732,     0.31832,     0.31932,     0.32032,     0.32132,     0.32232,     0.32332,     0.32432,     0.32533,     0.32633,     0.32733,     0.32833,     0.32933,     0.33033,     0.33133,     0.33233,     0.33333,     0.33433,     0.33534,\n",
      "           0.33634,     0.33734,     0.33834,     0.33934,     0.34034,     0.34134,     0.34234,     0.34334,     0.34434,     0.34535,     0.34635,     0.34735,     0.34835,     0.34935,     0.35035,     0.35135,     0.35235,     0.35335,     0.35435,     0.35536,     0.35636,     0.35736,     0.35836,     0.35936,\n",
      "           0.36036,     0.36136,     0.36236,     0.36336,     0.36436,     0.36537,     0.36637,     0.36737,     0.36837,     0.36937,     0.37037,     0.37137,     0.37237,     0.37337,     0.37437,     0.37538,     0.37638,     0.37738,     0.37838,     0.37938,     0.38038,     0.38138,     0.38238,     0.38338,\n",
      "           0.38438,     0.38539,     0.38639,     0.38739,     0.38839,     0.38939,     0.39039,     0.39139,     0.39239,     0.39339,     0.39439,      0.3954,      0.3964,      0.3974,      0.3984,      0.3994,      0.4004,      0.4014,      0.4024,      0.4034,      0.4044,     0.40541,     0.40641,     0.40741,\n",
      "           0.40841,     0.40941,     0.41041,     0.41141,     0.41241,     0.41341,     0.41441,     0.41542,     0.41642,     0.41742,     0.41842,     0.41942,     0.42042,     0.42142,     0.42242,     0.42342,     0.42442,     0.42543,     0.42643,     0.42743,     0.42843,     0.42943,     0.43043,     0.43143,\n",
      "           0.43243,     0.43343,     0.43443,     0.43544,     0.43644,     0.43744,     0.43844,     0.43944,     0.44044,     0.44144,     0.44244,     0.44344,     0.44444,     0.44545,     0.44645,     0.44745,     0.44845,     0.44945,     0.45045,     0.45145,     0.45245,     0.45345,     0.45445,     0.45546,\n",
      "           0.45646,     0.45746,     0.45846,     0.45946,     0.46046,     0.46146,     0.46246,     0.46346,     0.46446,     0.46547,     0.46647,     0.46747,     0.46847,     0.46947,     0.47047,     0.47147,     0.47247,     0.47347,     0.47447,     0.47548,     0.47648,     0.47748,     0.47848,     0.47948,\n",
      "           0.48048,     0.48148,     0.48248,     0.48348,     0.48448,     0.48549,     0.48649,     0.48749,     0.48849,     0.48949,     0.49049,     0.49149,     0.49249,     0.49349,     0.49449,      0.4955,      0.4965,      0.4975,      0.4985,      0.4995,      0.5005,      0.5015,      0.5025,      0.5035,\n",
      "            0.5045,     0.50551,     0.50651,     0.50751,     0.50851,     0.50951,     0.51051,     0.51151,     0.51251,     0.51351,     0.51451,     0.51552,     0.51652,     0.51752,     0.51852,     0.51952,     0.52052,     0.52152,     0.52252,     0.52352,     0.52452,     0.52553,     0.52653,     0.52753,\n",
      "           0.52853,     0.52953,     0.53053,     0.53153,     0.53253,     0.53353,     0.53453,     0.53554,     0.53654,     0.53754,     0.53854,     0.53954,     0.54054,     0.54154,     0.54254,     0.54354,     0.54454,     0.54555,     0.54655,     0.54755,     0.54855,     0.54955,     0.55055,     0.55155,\n",
      "           0.55255,     0.55355,     0.55455,     0.55556,     0.55656,     0.55756,     0.55856,     0.55956,     0.56056,     0.56156,     0.56256,     0.56356,     0.56456,     0.56557,     0.56657,     0.56757,     0.56857,     0.56957,     0.57057,     0.57157,     0.57257,     0.57357,     0.57457,     0.57558,\n",
      "           0.57658,     0.57758,     0.57858,     0.57958,     0.58058,     0.58158,     0.58258,     0.58358,     0.58458,     0.58559,     0.58659,     0.58759,     0.58859,     0.58959,     0.59059,     0.59159,     0.59259,     0.59359,     0.59459,      0.5956,      0.5966,      0.5976,      0.5986,      0.5996,\n",
      "            0.6006,      0.6016,      0.6026,      0.6036,      0.6046,     0.60561,     0.60661,     0.60761,     0.60861,     0.60961,     0.61061,     0.61161,     0.61261,     0.61361,     0.61461,     0.61562,     0.61662,     0.61762,     0.61862,     0.61962,     0.62062,     0.62162,     0.62262,     0.62362,\n",
      "           0.62462,     0.62563,     0.62663,     0.62763,     0.62863,     0.62963,     0.63063,     0.63163,     0.63263,     0.63363,     0.63463,     0.63564,     0.63664,     0.63764,     0.63864,     0.63964,     0.64064,     0.64164,     0.64264,     0.64364,     0.64464,     0.64565,     0.64665,     0.64765,\n",
      "           0.64865,     0.64965,     0.65065,     0.65165,     0.65265,     0.65365,     0.65465,     0.65566,     0.65666,     0.65766,     0.65866,     0.65966,     0.66066,     0.66166,     0.66266,     0.66366,     0.66466,     0.66567,     0.66667,     0.66767,     0.66867,     0.66967,     0.67067,     0.67167,\n",
      "           0.67267,     0.67367,     0.67467,     0.67568,     0.67668,     0.67768,     0.67868,     0.67968,     0.68068,     0.68168,     0.68268,     0.68368,     0.68468,     0.68569,     0.68669,     0.68769,     0.68869,     0.68969,     0.69069,     0.69169,     0.69269,     0.69369,     0.69469,      0.6957,\n",
      "            0.6967,      0.6977,      0.6987,      0.6997,      0.7007,      0.7017,      0.7027,      0.7037,      0.7047,     0.70571,     0.70671,     0.70771,     0.70871,     0.70971,     0.71071,     0.71171,     0.71271,     0.71371,     0.71471,     0.71572,     0.71672,     0.71772,     0.71872,     0.71972,\n",
      "           0.72072,     0.72172,     0.72272,     0.72372,     0.72472,     0.72573,     0.72673,     0.72773,     0.72873,     0.72973,     0.73073,     0.73173,     0.73273,     0.73373,     0.73473,     0.73574,     0.73674,     0.73774,     0.73874,     0.73974,     0.74074,     0.74174,     0.74274,     0.74374,\n",
      "           0.74474,     0.74575,     0.74675,     0.74775,     0.74875,     0.74975,     0.75075,     0.75175,     0.75275,     0.75375,     0.75475,     0.75576,     0.75676,     0.75776,     0.75876,     0.75976,     0.76076,     0.76176,     0.76276,     0.76376,     0.76476,     0.76577,     0.76677,     0.76777,\n",
      "           0.76877,     0.76977,     0.77077,     0.77177,     0.77277,     0.77377,     0.77477,     0.77578,     0.77678,     0.77778,     0.77878,     0.77978,     0.78078,     0.78178,     0.78278,     0.78378,     0.78478,     0.78579,     0.78679,     0.78779,     0.78879,     0.78979,     0.79079,     0.79179,\n",
      "           0.79279,     0.79379,     0.79479,      0.7958,      0.7968,      0.7978,      0.7988,      0.7998,      0.8008,      0.8018,      0.8028,      0.8038,      0.8048,     0.80581,     0.80681,     0.80781,     0.80881,     0.80981,     0.81081,     0.81181,     0.81281,     0.81381,     0.81481,     0.81582,\n",
      "           0.81682,     0.81782,     0.81882,     0.81982,     0.82082,     0.82182,     0.82282,     0.82382,     0.82482,     0.82583,     0.82683,     0.82783,     0.82883,     0.82983,     0.83083,     0.83183,     0.83283,     0.83383,     0.83483,     0.83584,     0.83684,     0.83784,     0.83884,     0.83984,\n",
      "           0.84084,     0.84184,     0.84284,     0.84384,     0.84484,     0.84585,     0.84685,     0.84785,     0.84885,     0.84985,     0.85085,     0.85185,     0.85285,     0.85385,     0.85485,     0.85586,     0.85686,     0.85786,     0.85886,     0.85986,     0.86086,     0.86186,     0.86286,     0.86386,\n",
      "           0.86486,     0.86587,     0.86687,     0.86787,     0.86887,     0.86987,     0.87087,     0.87187,     0.87287,     0.87387,     0.87487,     0.87588,     0.87688,     0.87788,     0.87888,     0.87988,     0.88088,     0.88188,     0.88288,     0.88388,     0.88488,     0.88589,     0.88689,     0.88789,\n",
      "           0.88889,     0.88989,     0.89089,     0.89189,     0.89289,     0.89389,     0.89489,      0.8959,      0.8969,      0.8979,      0.8989,      0.8999,      0.9009,      0.9019,      0.9029,      0.9039,      0.9049,     0.90591,     0.90691,     0.90791,     0.90891,     0.90991,     0.91091,     0.91191,\n",
      "           0.91291,     0.91391,     0.91491,     0.91592,     0.91692,     0.91792,     0.91892,     0.91992,     0.92092,     0.92192,     0.92292,     0.92392,     0.92492,     0.92593,     0.92693,     0.92793,     0.92893,     0.92993,     0.93093,     0.93193,     0.93293,     0.93393,     0.93493,     0.93594,\n",
      "           0.93694,     0.93794,     0.93894,     0.93994,     0.94094,     0.94194,     0.94294,     0.94394,     0.94494,     0.94595,     0.94695,     0.94795,     0.94895,     0.94995,     0.95095,     0.95195,     0.95295,     0.95395,     0.95495,     0.95596,     0.95696,     0.95796,     0.95896,     0.95996,\n",
      "           0.96096,     0.96196,     0.96296,     0.96396,     0.96496,     0.96597,     0.96697,     0.96797,     0.96897,     0.96997,     0.97097,     0.97197,     0.97297,     0.97397,     0.97497,     0.97598,     0.97698,     0.97798,     0.97898,     0.97998,     0.98098,     0.98198,     0.98298,     0.98398,\n",
      "           0.98498,     0.98599,     0.98699,     0.98799,     0.98899,     0.98999,     0.99099,     0.99199,     0.99299,     0.99399,     0.99499,       0.996,       0.997,       0.998,       0.999,           1]), array([[          1,           1,           1, ...,   0.0014422,  0.00072112,           0],\n",
      "       [          1,           1,           1, ...,  0.00019113,  9.5566e-05,           0],\n",
      "       [          1,           1,           1, ...,  0.00045945,  0.00022973,           0],\n",
      "       ...,\n",
      "       [          1,           1,           1, ...,  0.00040876,  0.00020438,           0],\n",
      "       [   0.028571,    0.028571,    0.028571, ...,  9.6145e-06,  4.8073e-06,           0],\n",
      "       [          1,           1,           1, ...,  6.4801e-05,    3.24e-05,           0]]), 'Recall', 'Precision'], [array([          0,    0.001001,    0.002002,    0.003003,    0.004004,    0.005005,    0.006006,    0.007007,    0.008008,    0.009009,     0.01001,    0.011011,    0.012012,    0.013013,    0.014014,    0.015015,    0.016016,    0.017017,    0.018018,    0.019019,     0.02002,    0.021021,    0.022022,    0.023023,\n",
      "          0.024024,    0.025025,    0.026026,    0.027027,    0.028028,    0.029029,     0.03003,    0.031031,    0.032032,    0.033033,    0.034034,    0.035035,    0.036036,    0.037037,    0.038038,    0.039039,     0.04004,    0.041041,    0.042042,    0.043043,    0.044044,    0.045045,    0.046046,    0.047047,\n",
      "          0.048048,    0.049049,     0.05005,    0.051051,    0.052052,    0.053053,    0.054054,    0.055055,    0.056056,    0.057057,    0.058058,    0.059059,     0.06006,    0.061061,    0.062062,    0.063063,    0.064064,    0.065065,    0.066066,    0.067067,    0.068068,    0.069069,     0.07007,    0.071071,\n",
      "          0.072072,    0.073073,    0.074074,    0.075075,    0.076076,    0.077077,    0.078078,    0.079079,     0.08008,    0.081081,    0.082082,    0.083083,    0.084084,    0.085085,    0.086086,    0.087087,    0.088088,    0.089089,     0.09009,    0.091091,    0.092092,    0.093093,    0.094094,    0.095095,\n",
      "          0.096096,    0.097097,    0.098098,    0.099099,      0.1001,      0.1011,      0.1021,      0.1031,      0.1041,     0.10511,     0.10611,     0.10711,     0.10811,     0.10911,     0.11011,     0.11111,     0.11211,     0.11311,     0.11411,     0.11512,     0.11612,     0.11712,     0.11812,     0.11912,\n",
      "           0.12012,     0.12112,     0.12212,     0.12312,     0.12412,     0.12513,     0.12613,     0.12713,     0.12813,     0.12913,     0.13013,     0.13113,     0.13213,     0.13313,     0.13413,     0.13514,     0.13614,     0.13714,     0.13814,     0.13914,     0.14014,     0.14114,     0.14214,     0.14314,\n",
      "           0.14414,     0.14515,     0.14615,     0.14715,     0.14815,     0.14915,     0.15015,     0.15115,     0.15215,     0.15315,     0.15415,     0.15516,     0.15616,     0.15716,     0.15816,     0.15916,     0.16016,     0.16116,     0.16216,     0.16316,     0.16416,     0.16517,     0.16617,     0.16717,\n",
      "           0.16817,     0.16917,     0.17017,     0.17117,     0.17217,     0.17317,     0.17417,     0.17518,     0.17618,     0.17718,     0.17818,     0.17918,     0.18018,     0.18118,     0.18218,     0.18318,     0.18418,     0.18519,     0.18619,     0.18719,     0.18819,     0.18919,     0.19019,     0.19119,\n",
      "           0.19219,     0.19319,     0.19419,      0.1952,      0.1962,      0.1972,      0.1982,      0.1992,      0.2002,      0.2012,      0.2022,      0.2032,      0.2042,     0.20521,     0.20621,     0.20721,     0.20821,     0.20921,     0.21021,     0.21121,     0.21221,     0.21321,     0.21421,     0.21522,\n",
      "           0.21622,     0.21722,     0.21822,     0.21922,     0.22022,     0.22122,     0.22222,     0.22322,     0.22422,     0.22523,     0.22623,     0.22723,     0.22823,     0.22923,     0.23023,     0.23123,     0.23223,     0.23323,     0.23423,     0.23524,     0.23624,     0.23724,     0.23824,     0.23924,\n",
      "           0.24024,     0.24124,     0.24224,     0.24324,     0.24424,     0.24525,     0.24625,     0.24725,     0.24825,     0.24925,     0.25025,     0.25125,     0.25225,     0.25325,     0.25425,     0.25526,     0.25626,     0.25726,     0.25826,     0.25926,     0.26026,     0.26126,     0.26226,     0.26326,\n",
      "           0.26426,     0.26527,     0.26627,     0.26727,     0.26827,     0.26927,     0.27027,     0.27127,     0.27227,     0.27327,     0.27427,     0.27528,     0.27628,     0.27728,     0.27828,     0.27928,     0.28028,     0.28128,     0.28228,     0.28328,     0.28428,     0.28529,     0.28629,     0.28729,\n",
      "           0.28829,     0.28929,     0.29029,     0.29129,     0.29229,     0.29329,     0.29429,      0.2953,      0.2963,      0.2973,      0.2983,      0.2993,      0.3003,      0.3013,      0.3023,      0.3033,      0.3043,     0.30531,     0.30631,     0.30731,     0.30831,     0.30931,     0.31031,     0.31131,\n",
      "           0.31231,     0.31331,     0.31431,     0.31532,     0.31632,     0.31732,     0.31832,     0.31932,     0.32032,     0.32132,     0.32232,     0.32332,     0.32432,     0.32533,     0.32633,     0.32733,     0.32833,     0.32933,     0.33033,     0.33133,     0.33233,     0.33333,     0.33433,     0.33534,\n",
      "           0.33634,     0.33734,     0.33834,     0.33934,     0.34034,     0.34134,     0.34234,     0.34334,     0.34434,     0.34535,     0.34635,     0.34735,     0.34835,     0.34935,     0.35035,     0.35135,     0.35235,     0.35335,     0.35435,     0.35536,     0.35636,     0.35736,     0.35836,     0.35936,\n",
      "           0.36036,     0.36136,     0.36236,     0.36336,     0.36436,     0.36537,     0.36637,     0.36737,     0.36837,     0.36937,     0.37037,     0.37137,     0.37237,     0.37337,     0.37437,     0.37538,     0.37638,     0.37738,     0.37838,     0.37938,     0.38038,     0.38138,     0.38238,     0.38338,\n",
      "           0.38438,     0.38539,     0.38639,     0.38739,     0.38839,     0.38939,     0.39039,     0.39139,     0.39239,     0.39339,     0.39439,      0.3954,      0.3964,      0.3974,      0.3984,      0.3994,      0.4004,      0.4014,      0.4024,      0.4034,      0.4044,     0.40541,     0.40641,     0.40741,\n",
      "           0.40841,     0.40941,     0.41041,     0.41141,     0.41241,     0.41341,     0.41441,     0.41542,     0.41642,     0.41742,     0.41842,     0.41942,     0.42042,     0.42142,     0.42242,     0.42342,     0.42442,     0.42543,     0.42643,     0.42743,     0.42843,     0.42943,     0.43043,     0.43143,\n",
      "           0.43243,     0.43343,     0.43443,     0.43544,     0.43644,     0.43744,     0.43844,     0.43944,     0.44044,     0.44144,     0.44244,     0.44344,     0.44444,     0.44545,     0.44645,     0.44745,     0.44845,     0.44945,     0.45045,     0.45145,     0.45245,     0.45345,     0.45445,     0.45546,\n",
      "           0.45646,     0.45746,     0.45846,     0.45946,     0.46046,     0.46146,     0.46246,     0.46346,     0.46446,     0.46547,     0.46647,     0.46747,     0.46847,     0.46947,     0.47047,     0.47147,     0.47247,     0.47347,     0.47447,     0.47548,     0.47648,     0.47748,     0.47848,     0.47948,\n",
      "           0.48048,     0.48148,     0.48248,     0.48348,     0.48448,     0.48549,     0.48649,     0.48749,     0.48849,     0.48949,     0.49049,     0.49149,     0.49249,     0.49349,     0.49449,      0.4955,      0.4965,      0.4975,      0.4985,      0.4995,      0.5005,      0.5015,      0.5025,      0.5035,\n",
      "            0.5045,     0.50551,     0.50651,     0.50751,     0.50851,     0.50951,     0.51051,     0.51151,     0.51251,     0.51351,     0.51451,     0.51552,     0.51652,     0.51752,     0.51852,     0.51952,     0.52052,     0.52152,     0.52252,     0.52352,     0.52452,     0.52553,     0.52653,     0.52753,\n",
      "           0.52853,     0.52953,     0.53053,     0.53153,     0.53253,     0.53353,     0.53453,     0.53554,     0.53654,     0.53754,     0.53854,     0.53954,     0.54054,     0.54154,     0.54254,     0.54354,     0.54454,     0.54555,     0.54655,     0.54755,     0.54855,     0.54955,     0.55055,     0.55155,\n",
      "           0.55255,     0.55355,     0.55455,     0.55556,     0.55656,     0.55756,     0.55856,     0.55956,     0.56056,     0.56156,     0.56256,     0.56356,     0.56456,     0.56557,     0.56657,     0.56757,     0.56857,     0.56957,     0.57057,     0.57157,     0.57257,     0.57357,     0.57457,     0.57558,\n",
      "           0.57658,     0.57758,     0.57858,     0.57958,     0.58058,     0.58158,     0.58258,     0.58358,     0.58458,     0.58559,     0.58659,     0.58759,     0.58859,     0.58959,     0.59059,     0.59159,     0.59259,     0.59359,     0.59459,      0.5956,      0.5966,      0.5976,      0.5986,      0.5996,\n",
      "            0.6006,      0.6016,      0.6026,      0.6036,      0.6046,     0.60561,     0.60661,     0.60761,     0.60861,     0.60961,     0.61061,     0.61161,     0.61261,     0.61361,     0.61461,     0.61562,     0.61662,     0.61762,     0.61862,     0.61962,     0.62062,     0.62162,     0.62262,     0.62362,\n",
      "           0.62462,     0.62563,     0.62663,     0.62763,     0.62863,     0.62963,     0.63063,     0.63163,     0.63263,     0.63363,     0.63463,     0.63564,     0.63664,     0.63764,     0.63864,     0.63964,     0.64064,     0.64164,     0.64264,     0.64364,     0.64464,     0.64565,     0.64665,     0.64765,\n",
      "           0.64865,     0.64965,     0.65065,     0.65165,     0.65265,     0.65365,     0.65465,     0.65566,     0.65666,     0.65766,     0.65866,     0.65966,     0.66066,     0.66166,     0.66266,     0.66366,     0.66466,     0.66567,     0.66667,     0.66767,     0.66867,     0.66967,     0.67067,     0.67167,\n",
      "           0.67267,     0.67367,     0.67467,     0.67568,     0.67668,     0.67768,     0.67868,     0.67968,     0.68068,     0.68168,     0.68268,     0.68368,     0.68468,     0.68569,     0.68669,     0.68769,     0.68869,     0.68969,     0.69069,     0.69169,     0.69269,     0.69369,     0.69469,      0.6957,\n",
      "            0.6967,      0.6977,      0.6987,      0.6997,      0.7007,      0.7017,      0.7027,      0.7037,      0.7047,     0.70571,     0.70671,     0.70771,     0.70871,     0.70971,     0.71071,     0.71171,     0.71271,     0.71371,     0.71471,     0.71572,     0.71672,     0.71772,     0.71872,     0.71972,\n",
      "           0.72072,     0.72172,     0.72272,     0.72372,     0.72472,     0.72573,     0.72673,     0.72773,     0.72873,     0.72973,     0.73073,     0.73173,     0.73273,     0.73373,     0.73473,     0.73574,     0.73674,     0.73774,     0.73874,     0.73974,     0.74074,     0.74174,     0.74274,     0.74374,\n",
      "           0.74474,     0.74575,     0.74675,     0.74775,     0.74875,     0.74975,     0.75075,     0.75175,     0.75275,     0.75375,     0.75475,     0.75576,     0.75676,     0.75776,     0.75876,     0.75976,     0.76076,     0.76176,     0.76276,     0.76376,     0.76476,     0.76577,     0.76677,     0.76777,\n",
      "           0.76877,     0.76977,     0.77077,     0.77177,     0.77277,     0.77377,     0.77477,     0.77578,     0.77678,     0.77778,     0.77878,     0.77978,     0.78078,     0.78178,     0.78278,     0.78378,     0.78478,     0.78579,     0.78679,     0.78779,     0.78879,     0.78979,     0.79079,     0.79179,\n",
      "           0.79279,     0.79379,     0.79479,      0.7958,      0.7968,      0.7978,      0.7988,      0.7998,      0.8008,      0.8018,      0.8028,      0.8038,      0.8048,     0.80581,     0.80681,     0.80781,     0.80881,     0.80981,     0.81081,     0.81181,     0.81281,     0.81381,     0.81481,     0.81582,\n",
      "           0.81682,     0.81782,     0.81882,     0.81982,     0.82082,     0.82182,     0.82282,     0.82382,     0.82482,     0.82583,     0.82683,     0.82783,     0.82883,     0.82983,     0.83083,     0.83183,     0.83283,     0.83383,     0.83483,     0.83584,     0.83684,     0.83784,     0.83884,     0.83984,\n",
      "           0.84084,     0.84184,     0.84284,     0.84384,     0.84484,     0.84585,     0.84685,     0.84785,     0.84885,     0.84985,     0.85085,     0.85185,     0.85285,     0.85385,     0.85485,     0.85586,     0.85686,     0.85786,     0.85886,     0.85986,     0.86086,     0.86186,     0.86286,     0.86386,\n",
      "           0.86486,     0.86587,     0.86687,     0.86787,     0.86887,     0.86987,     0.87087,     0.87187,     0.87287,     0.87387,     0.87487,     0.87588,     0.87688,     0.87788,     0.87888,     0.87988,     0.88088,     0.88188,     0.88288,     0.88388,     0.88488,     0.88589,     0.88689,     0.88789,\n",
      "           0.88889,     0.88989,     0.89089,     0.89189,     0.89289,     0.89389,     0.89489,      0.8959,      0.8969,      0.8979,      0.8989,      0.8999,      0.9009,      0.9019,      0.9029,      0.9039,      0.9049,     0.90591,     0.90691,     0.90791,     0.90891,     0.90991,     0.91091,     0.91191,\n",
      "           0.91291,     0.91391,     0.91491,     0.91592,     0.91692,     0.91792,     0.91892,     0.91992,     0.92092,     0.92192,     0.92292,     0.92392,     0.92492,     0.92593,     0.92693,     0.92793,     0.92893,     0.92993,     0.93093,     0.93193,     0.93293,     0.93393,     0.93493,     0.93594,\n",
      "           0.93694,     0.93794,     0.93894,     0.93994,     0.94094,     0.94194,     0.94294,     0.94394,     0.94494,     0.94595,     0.94695,     0.94795,     0.94895,     0.94995,     0.95095,     0.95195,     0.95295,     0.95395,     0.95495,     0.95596,     0.95696,     0.95796,     0.95896,     0.95996,\n",
      "           0.96096,     0.96196,     0.96296,     0.96396,     0.96496,     0.96597,     0.96697,     0.96797,     0.96897,     0.96997,     0.97097,     0.97197,     0.97297,     0.97397,     0.97497,     0.97598,     0.97698,     0.97798,     0.97898,     0.97998,     0.98098,     0.98198,     0.98298,     0.98398,\n",
      "           0.98498,     0.98599,     0.98699,     0.98799,     0.98899,     0.98999,     0.99099,     0.99199,     0.99299,     0.99399,     0.99499,       0.996,       0.997,       0.998,       0.999,           1]), array([[     0.1229,     0.12292,     0.14807, ...,           0,           0,           0],\n",
      "       [   0.043712,    0.043717,    0.056897, ...,           0,           0,           0],\n",
      "       [   0.071695,    0.071717,    0.090837, ...,           0,           0,           0],\n",
      "       ...,\n",
      "       [     0.0621,    0.062101,    0.085347, ...,           0,           0,           0],\n",
      "       [  0.0076923,   0.0076923,    0.007544, ...,           0,           0,           0],\n",
      "       [   0.021235,    0.021253,    0.031227, ...,           0,           0,           0]]), 'Confidence', 'F1'], [array([          0,    0.001001,    0.002002,    0.003003,    0.004004,    0.005005,    0.006006,    0.007007,    0.008008,    0.009009,     0.01001,    0.011011,    0.012012,    0.013013,    0.014014,    0.015015,    0.016016,    0.017017,    0.018018,    0.019019,     0.02002,    0.021021,    0.022022,    0.023023,\n",
      "          0.024024,    0.025025,    0.026026,    0.027027,    0.028028,    0.029029,     0.03003,    0.031031,    0.032032,    0.033033,    0.034034,    0.035035,    0.036036,    0.037037,    0.038038,    0.039039,     0.04004,    0.041041,    0.042042,    0.043043,    0.044044,    0.045045,    0.046046,    0.047047,\n",
      "          0.048048,    0.049049,     0.05005,    0.051051,    0.052052,    0.053053,    0.054054,    0.055055,    0.056056,    0.057057,    0.058058,    0.059059,     0.06006,    0.061061,    0.062062,    0.063063,    0.064064,    0.065065,    0.066066,    0.067067,    0.068068,    0.069069,     0.07007,    0.071071,\n",
      "          0.072072,    0.073073,    0.074074,    0.075075,    0.076076,    0.077077,    0.078078,    0.079079,     0.08008,    0.081081,    0.082082,    0.083083,    0.084084,    0.085085,    0.086086,    0.087087,    0.088088,    0.089089,     0.09009,    0.091091,    0.092092,    0.093093,    0.094094,    0.095095,\n",
      "          0.096096,    0.097097,    0.098098,    0.099099,      0.1001,      0.1011,      0.1021,      0.1031,      0.1041,     0.10511,     0.10611,     0.10711,     0.10811,     0.10911,     0.11011,     0.11111,     0.11211,     0.11311,     0.11411,     0.11512,     0.11612,     0.11712,     0.11812,     0.11912,\n",
      "           0.12012,     0.12112,     0.12212,     0.12312,     0.12412,     0.12513,     0.12613,     0.12713,     0.12813,     0.12913,     0.13013,     0.13113,     0.13213,     0.13313,     0.13413,     0.13514,     0.13614,     0.13714,     0.13814,     0.13914,     0.14014,     0.14114,     0.14214,     0.14314,\n",
      "           0.14414,     0.14515,     0.14615,     0.14715,     0.14815,     0.14915,     0.15015,     0.15115,     0.15215,     0.15315,     0.15415,     0.15516,     0.15616,     0.15716,     0.15816,     0.15916,     0.16016,     0.16116,     0.16216,     0.16316,     0.16416,     0.16517,     0.16617,     0.16717,\n",
      "           0.16817,     0.16917,     0.17017,     0.17117,     0.17217,     0.17317,     0.17417,     0.17518,     0.17618,     0.17718,     0.17818,     0.17918,     0.18018,     0.18118,     0.18218,     0.18318,     0.18418,     0.18519,     0.18619,     0.18719,     0.18819,     0.18919,     0.19019,     0.19119,\n",
      "           0.19219,     0.19319,     0.19419,      0.1952,      0.1962,      0.1972,      0.1982,      0.1992,      0.2002,      0.2012,      0.2022,      0.2032,      0.2042,     0.20521,     0.20621,     0.20721,     0.20821,     0.20921,     0.21021,     0.21121,     0.21221,     0.21321,     0.21421,     0.21522,\n",
      "           0.21622,     0.21722,     0.21822,     0.21922,     0.22022,     0.22122,     0.22222,     0.22322,     0.22422,     0.22523,     0.22623,     0.22723,     0.22823,     0.22923,     0.23023,     0.23123,     0.23223,     0.23323,     0.23423,     0.23524,     0.23624,     0.23724,     0.23824,     0.23924,\n",
      "           0.24024,     0.24124,     0.24224,     0.24324,     0.24424,     0.24525,     0.24625,     0.24725,     0.24825,     0.24925,     0.25025,     0.25125,     0.25225,     0.25325,     0.25425,     0.25526,     0.25626,     0.25726,     0.25826,     0.25926,     0.26026,     0.26126,     0.26226,     0.26326,\n",
      "           0.26426,     0.26527,     0.26627,     0.26727,     0.26827,     0.26927,     0.27027,     0.27127,     0.27227,     0.27327,     0.27427,     0.27528,     0.27628,     0.27728,     0.27828,     0.27928,     0.28028,     0.28128,     0.28228,     0.28328,     0.28428,     0.28529,     0.28629,     0.28729,\n",
      "           0.28829,     0.28929,     0.29029,     0.29129,     0.29229,     0.29329,     0.29429,      0.2953,      0.2963,      0.2973,      0.2983,      0.2993,      0.3003,      0.3013,      0.3023,      0.3033,      0.3043,     0.30531,     0.30631,     0.30731,     0.30831,     0.30931,     0.31031,     0.31131,\n",
      "           0.31231,     0.31331,     0.31431,     0.31532,     0.31632,     0.31732,     0.31832,     0.31932,     0.32032,     0.32132,     0.32232,     0.32332,     0.32432,     0.32533,     0.32633,     0.32733,     0.32833,     0.32933,     0.33033,     0.33133,     0.33233,     0.33333,     0.33433,     0.33534,\n",
      "           0.33634,     0.33734,     0.33834,     0.33934,     0.34034,     0.34134,     0.34234,     0.34334,     0.34434,     0.34535,     0.34635,     0.34735,     0.34835,     0.34935,     0.35035,     0.35135,     0.35235,     0.35335,     0.35435,     0.35536,     0.35636,     0.35736,     0.35836,     0.35936,\n",
      "           0.36036,     0.36136,     0.36236,     0.36336,     0.36436,     0.36537,     0.36637,     0.36737,     0.36837,     0.36937,     0.37037,     0.37137,     0.37237,     0.37337,     0.37437,     0.37538,     0.37638,     0.37738,     0.37838,     0.37938,     0.38038,     0.38138,     0.38238,     0.38338,\n",
      "           0.38438,     0.38539,     0.38639,     0.38739,     0.38839,     0.38939,     0.39039,     0.39139,     0.39239,     0.39339,     0.39439,      0.3954,      0.3964,      0.3974,      0.3984,      0.3994,      0.4004,      0.4014,      0.4024,      0.4034,      0.4044,     0.40541,     0.40641,     0.40741,\n",
      "           0.40841,     0.40941,     0.41041,     0.41141,     0.41241,     0.41341,     0.41441,     0.41542,     0.41642,     0.41742,     0.41842,     0.41942,     0.42042,     0.42142,     0.42242,     0.42342,     0.42442,     0.42543,     0.42643,     0.42743,     0.42843,     0.42943,     0.43043,     0.43143,\n",
      "           0.43243,     0.43343,     0.43443,     0.43544,     0.43644,     0.43744,     0.43844,     0.43944,     0.44044,     0.44144,     0.44244,     0.44344,     0.44444,     0.44545,     0.44645,     0.44745,     0.44845,     0.44945,     0.45045,     0.45145,     0.45245,     0.45345,     0.45445,     0.45546,\n",
      "           0.45646,     0.45746,     0.45846,     0.45946,     0.46046,     0.46146,     0.46246,     0.46346,     0.46446,     0.46547,     0.46647,     0.46747,     0.46847,     0.46947,     0.47047,     0.47147,     0.47247,     0.47347,     0.47447,     0.47548,     0.47648,     0.47748,     0.47848,     0.47948,\n",
      "           0.48048,     0.48148,     0.48248,     0.48348,     0.48448,     0.48549,     0.48649,     0.48749,     0.48849,     0.48949,     0.49049,     0.49149,     0.49249,     0.49349,     0.49449,      0.4955,      0.4965,      0.4975,      0.4985,      0.4995,      0.5005,      0.5015,      0.5025,      0.5035,\n",
      "            0.5045,     0.50551,     0.50651,     0.50751,     0.50851,     0.50951,     0.51051,     0.51151,     0.51251,     0.51351,     0.51451,     0.51552,     0.51652,     0.51752,     0.51852,     0.51952,     0.52052,     0.52152,     0.52252,     0.52352,     0.52452,     0.52553,     0.52653,     0.52753,\n",
      "           0.52853,     0.52953,     0.53053,     0.53153,     0.53253,     0.53353,     0.53453,     0.53554,     0.53654,     0.53754,     0.53854,     0.53954,     0.54054,     0.54154,     0.54254,     0.54354,     0.54454,     0.54555,     0.54655,     0.54755,     0.54855,     0.54955,     0.55055,     0.55155,\n",
      "           0.55255,     0.55355,     0.55455,     0.55556,     0.55656,     0.55756,     0.55856,     0.55956,     0.56056,     0.56156,     0.56256,     0.56356,     0.56456,     0.56557,     0.56657,     0.56757,     0.56857,     0.56957,     0.57057,     0.57157,     0.57257,     0.57357,     0.57457,     0.57558,\n",
      "           0.57658,     0.57758,     0.57858,     0.57958,     0.58058,     0.58158,     0.58258,     0.58358,     0.58458,     0.58559,     0.58659,     0.58759,     0.58859,     0.58959,     0.59059,     0.59159,     0.59259,     0.59359,     0.59459,      0.5956,      0.5966,      0.5976,      0.5986,      0.5996,\n",
      "            0.6006,      0.6016,      0.6026,      0.6036,      0.6046,     0.60561,     0.60661,     0.60761,     0.60861,     0.60961,     0.61061,     0.61161,     0.61261,     0.61361,     0.61461,     0.61562,     0.61662,     0.61762,     0.61862,     0.61962,     0.62062,     0.62162,     0.62262,     0.62362,\n",
      "           0.62462,     0.62563,     0.62663,     0.62763,     0.62863,     0.62963,     0.63063,     0.63163,     0.63263,     0.63363,     0.63463,     0.63564,     0.63664,     0.63764,     0.63864,     0.63964,     0.64064,     0.64164,     0.64264,     0.64364,     0.64464,     0.64565,     0.64665,     0.64765,\n",
      "           0.64865,     0.64965,     0.65065,     0.65165,     0.65265,     0.65365,     0.65465,     0.65566,     0.65666,     0.65766,     0.65866,     0.65966,     0.66066,     0.66166,     0.66266,     0.66366,     0.66466,     0.66567,     0.66667,     0.66767,     0.66867,     0.66967,     0.67067,     0.67167,\n",
      "           0.67267,     0.67367,     0.67467,     0.67568,     0.67668,     0.67768,     0.67868,     0.67968,     0.68068,     0.68168,     0.68268,     0.68368,     0.68468,     0.68569,     0.68669,     0.68769,     0.68869,     0.68969,     0.69069,     0.69169,     0.69269,     0.69369,     0.69469,      0.6957,\n",
      "            0.6967,      0.6977,      0.6987,      0.6997,      0.7007,      0.7017,      0.7027,      0.7037,      0.7047,     0.70571,     0.70671,     0.70771,     0.70871,     0.70971,     0.71071,     0.71171,     0.71271,     0.71371,     0.71471,     0.71572,     0.71672,     0.71772,     0.71872,     0.71972,\n",
      "           0.72072,     0.72172,     0.72272,     0.72372,     0.72472,     0.72573,     0.72673,     0.72773,     0.72873,     0.72973,     0.73073,     0.73173,     0.73273,     0.73373,     0.73473,     0.73574,     0.73674,     0.73774,     0.73874,     0.73974,     0.74074,     0.74174,     0.74274,     0.74374,\n",
      "           0.74474,     0.74575,     0.74675,     0.74775,     0.74875,     0.74975,     0.75075,     0.75175,     0.75275,     0.75375,     0.75475,     0.75576,     0.75676,     0.75776,     0.75876,     0.75976,     0.76076,     0.76176,     0.76276,     0.76376,     0.76476,     0.76577,     0.76677,     0.76777,\n",
      "           0.76877,     0.76977,     0.77077,     0.77177,     0.77277,     0.77377,     0.77477,     0.77578,     0.77678,     0.77778,     0.77878,     0.77978,     0.78078,     0.78178,     0.78278,     0.78378,     0.78478,     0.78579,     0.78679,     0.78779,     0.78879,     0.78979,     0.79079,     0.79179,\n",
      "           0.79279,     0.79379,     0.79479,      0.7958,      0.7968,      0.7978,      0.7988,      0.7998,      0.8008,      0.8018,      0.8028,      0.8038,      0.8048,     0.80581,     0.80681,     0.80781,     0.80881,     0.80981,     0.81081,     0.81181,     0.81281,     0.81381,     0.81481,     0.81582,\n",
      "           0.81682,     0.81782,     0.81882,     0.81982,     0.82082,     0.82182,     0.82282,     0.82382,     0.82482,     0.82583,     0.82683,     0.82783,     0.82883,     0.82983,     0.83083,     0.83183,     0.83283,     0.83383,     0.83483,     0.83584,     0.83684,     0.83784,     0.83884,     0.83984,\n",
      "           0.84084,     0.84184,     0.84284,     0.84384,     0.84484,     0.84585,     0.84685,     0.84785,     0.84885,     0.84985,     0.85085,     0.85185,     0.85285,     0.85385,     0.85485,     0.85586,     0.85686,     0.85786,     0.85886,     0.85986,     0.86086,     0.86186,     0.86286,     0.86386,\n",
      "           0.86486,     0.86587,     0.86687,     0.86787,     0.86887,     0.86987,     0.87087,     0.87187,     0.87287,     0.87387,     0.87487,     0.87588,     0.87688,     0.87788,     0.87888,     0.87988,     0.88088,     0.88188,     0.88288,     0.88388,     0.88488,     0.88589,     0.88689,     0.88789,\n",
      "           0.88889,     0.88989,     0.89089,     0.89189,     0.89289,     0.89389,     0.89489,      0.8959,      0.8969,      0.8979,      0.8989,      0.8999,      0.9009,      0.9019,      0.9029,      0.9039,      0.9049,     0.90591,     0.90691,     0.90791,     0.90891,     0.90991,     0.91091,     0.91191,\n",
      "           0.91291,     0.91391,     0.91491,     0.91592,     0.91692,     0.91792,     0.91892,     0.91992,     0.92092,     0.92192,     0.92292,     0.92392,     0.92492,     0.92593,     0.92693,     0.92793,     0.92893,     0.92993,     0.93093,     0.93193,     0.93293,     0.93393,     0.93493,     0.93594,\n",
      "           0.93694,     0.93794,     0.93894,     0.93994,     0.94094,     0.94194,     0.94294,     0.94394,     0.94494,     0.94595,     0.94695,     0.94795,     0.94895,     0.94995,     0.95095,     0.95195,     0.95295,     0.95395,     0.95495,     0.95596,     0.95696,     0.95796,     0.95896,     0.95996,\n",
      "           0.96096,     0.96196,     0.96296,     0.96396,     0.96496,     0.96597,     0.96697,     0.96797,     0.96897,     0.96997,     0.97097,     0.97197,     0.97297,     0.97397,     0.97497,     0.97598,     0.97698,     0.97798,     0.97898,     0.97998,     0.98098,     0.98198,     0.98298,     0.98398,\n",
      "           0.98498,     0.98599,     0.98699,     0.98799,     0.98899,     0.98999,     0.99099,     0.99199,     0.99299,     0.99399,     0.99499,       0.996,       0.997,       0.998,       0.999,           1]), array([[    0.06591,    0.065919,    0.080631, ...,           1,           1,           1],\n",
      "       [   0.022499,    0.022502,    0.029563, ...,           1,           1,           1],\n",
      "       [   0.037452,    0.037464,    0.048055, ...,           1,           1,           1],\n",
      "       ...,\n",
      "       [   0.032239,    0.032239,    0.044982, ...,           1,           1,           1],\n",
      "       [  0.0039293,   0.0039293,   0.0039353, ...,           1,           1,           1],\n",
      "       [   0.010789,    0.010799,    0.016021, ...,           1,           1,           1]]), 'Confidence', 'Precision'], [array([          0,    0.001001,    0.002002,    0.003003,    0.004004,    0.005005,    0.006006,    0.007007,    0.008008,    0.009009,     0.01001,    0.011011,    0.012012,    0.013013,    0.014014,    0.015015,    0.016016,    0.017017,    0.018018,    0.019019,     0.02002,    0.021021,    0.022022,    0.023023,\n",
      "          0.024024,    0.025025,    0.026026,    0.027027,    0.028028,    0.029029,     0.03003,    0.031031,    0.032032,    0.033033,    0.034034,    0.035035,    0.036036,    0.037037,    0.038038,    0.039039,     0.04004,    0.041041,    0.042042,    0.043043,    0.044044,    0.045045,    0.046046,    0.047047,\n",
      "          0.048048,    0.049049,     0.05005,    0.051051,    0.052052,    0.053053,    0.054054,    0.055055,    0.056056,    0.057057,    0.058058,    0.059059,     0.06006,    0.061061,    0.062062,    0.063063,    0.064064,    0.065065,    0.066066,    0.067067,    0.068068,    0.069069,     0.07007,    0.071071,\n",
      "          0.072072,    0.073073,    0.074074,    0.075075,    0.076076,    0.077077,    0.078078,    0.079079,     0.08008,    0.081081,    0.082082,    0.083083,    0.084084,    0.085085,    0.086086,    0.087087,    0.088088,    0.089089,     0.09009,    0.091091,    0.092092,    0.093093,    0.094094,    0.095095,\n",
      "          0.096096,    0.097097,    0.098098,    0.099099,      0.1001,      0.1011,      0.1021,      0.1031,      0.1041,     0.10511,     0.10611,     0.10711,     0.10811,     0.10911,     0.11011,     0.11111,     0.11211,     0.11311,     0.11411,     0.11512,     0.11612,     0.11712,     0.11812,     0.11912,\n",
      "           0.12012,     0.12112,     0.12212,     0.12312,     0.12412,     0.12513,     0.12613,     0.12713,     0.12813,     0.12913,     0.13013,     0.13113,     0.13213,     0.13313,     0.13413,     0.13514,     0.13614,     0.13714,     0.13814,     0.13914,     0.14014,     0.14114,     0.14214,     0.14314,\n",
      "           0.14414,     0.14515,     0.14615,     0.14715,     0.14815,     0.14915,     0.15015,     0.15115,     0.15215,     0.15315,     0.15415,     0.15516,     0.15616,     0.15716,     0.15816,     0.15916,     0.16016,     0.16116,     0.16216,     0.16316,     0.16416,     0.16517,     0.16617,     0.16717,\n",
      "           0.16817,     0.16917,     0.17017,     0.17117,     0.17217,     0.17317,     0.17417,     0.17518,     0.17618,     0.17718,     0.17818,     0.17918,     0.18018,     0.18118,     0.18218,     0.18318,     0.18418,     0.18519,     0.18619,     0.18719,     0.18819,     0.18919,     0.19019,     0.19119,\n",
      "           0.19219,     0.19319,     0.19419,      0.1952,      0.1962,      0.1972,      0.1982,      0.1992,      0.2002,      0.2012,      0.2022,      0.2032,      0.2042,     0.20521,     0.20621,     0.20721,     0.20821,     0.20921,     0.21021,     0.21121,     0.21221,     0.21321,     0.21421,     0.21522,\n",
      "           0.21622,     0.21722,     0.21822,     0.21922,     0.22022,     0.22122,     0.22222,     0.22322,     0.22422,     0.22523,     0.22623,     0.22723,     0.22823,     0.22923,     0.23023,     0.23123,     0.23223,     0.23323,     0.23423,     0.23524,     0.23624,     0.23724,     0.23824,     0.23924,\n",
      "           0.24024,     0.24124,     0.24224,     0.24324,     0.24424,     0.24525,     0.24625,     0.24725,     0.24825,     0.24925,     0.25025,     0.25125,     0.25225,     0.25325,     0.25425,     0.25526,     0.25626,     0.25726,     0.25826,     0.25926,     0.26026,     0.26126,     0.26226,     0.26326,\n",
      "           0.26426,     0.26527,     0.26627,     0.26727,     0.26827,     0.26927,     0.27027,     0.27127,     0.27227,     0.27327,     0.27427,     0.27528,     0.27628,     0.27728,     0.27828,     0.27928,     0.28028,     0.28128,     0.28228,     0.28328,     0.28428,     0.28529,     0.28629,     0.28729,\n",
      "           0.28829,     0.28929,     0.29029,     0.29129,     0.29229,     0.29329,     0.29429,      0.2953,      0.2963,      0.2973,      0.2983,      0.2993,      0.3003,      0.3013,      0.3023,      0.3033,      0.3043,     0.30531,     0.30631,     0.30731,     0.30831,     0.30931,     0.31031,     0.31131,\n",
      "           0.31231,     0.31331,     0.31431,     0.31532,     0.31632,     0.31732,     0.31832,     0.31932,     0.32032,     0.32132,     0.32232,     0.32332,     0.32432,     0.32533,     0.32633,     0.32733,     0.32833,     0.32933,     0.33033,     0.33133,     0.33233,     0.33333,     0.33433,     0.33534,\n",
      "           0.33634,     0.33734,     0.33834,     0.33934,     0.34034,     0.34134,     0.34234,     0.34334,     0.34434,     0.34535,     0.34635,     0.34735,     0.34835,     0.34935,     0.35035,     0.35135,     0.35235,     0.35335,     0.35435,     0.35536,     0.35636,     0.35736,     0.35836,     0.35936,\n",
      "           0.36036,     0.36136,     0.36236,     0.36336,     0.36436,     0.36537,     0.36637,     0.36737,     0.36837,     0.36937,     0.37037,     0.37137,     0.37237,     0.37337,     0.37437,     0.37538,     0.37638,     0.37738,     0.37838,     0.37938,     0.38038,     0.38138,     0.38238,     0.38338,\n",
      "           0.38438,     0.38539,     0.38639,     0.38739,     0.38839,     0.38939,     0.39039,     0.39139,     0.39239,     0.39339,     0.39439,      0.3954,      0.3964,      0.3974,      0.3984,      0.3994,      0.4004,      0.4014,      0.4024,      0.4034,      0.4044,     0.40541,     0.40641,     0.40741,\n",
      "           0.40841,     0.40941,     0.41041,     0.41141,     0.41241,     0.41341,     0.41441,     0.41542,     0.41642,     0.41742,     0.41842,     0.41942,     0.42042,     0.42142,     0.42242,     0.42342,     0.42442,     0.42543,     0.42643,     0.42743,     0.42843,     0.42943,     0.43043,     0.43143,\n",
      "           0.43243,     0.43343,     0.43443,     0.43544,     0.43644,     0.43744,     0.43844,     0.43944,     0.44044,     0.44144,     0.44244,     0.44344,     0.44444,     0.44545,     0.44645,     0.44745,     0.44845,     0.44945,     0.45045,     0.45145,     0.45245,     0.45345,     0.45445,     0.45546,\n",
      "           0.45646,     0.45746,     0.45846,     0.45946,     0.46046,     0.46146,     0.46246,     0.46346,     0.46446,     0.46547,     0.46647,     0.46747,     0.46847,     0.46947,     0.47047,     0.47147,     0.47247,     0.47347,     0.47447,     0.47548,     0.47648,     0.47748,     0.47848,     0.47948,\n",
      "           0.48048,     0.48148,     0.48248,     0.48348,     0.48448,     0.48549,     0.48649,     0.48749,     0.48849,     0.48949,     0.49049,     0.49149,     0.49249,     0.49349,     0.49449,      0.4955,      0.4965,      0.4975,      0.4985,      0.4995,      0.5005,      0.5015,      0.5025,      0.5035,\n",
      "            0.5045,     0.50551,     0.50651,     0.50751,     0.50851,     0.50951,     0.51051,     0.51151,     0.51251,     0.51351,     0.51451,     0.51552,     0.51652,     0.51752,     0.51852,     0.51952,     0.52052,     0.52152,     0.52252,     0.52352,     0.52452,     0.52553,     0.52653,     0.52753,\n",
      "           0.52853,     0.52953,     0.53053,     0.53153,     0.53253,     0.53353,     0.53453,     0.53554,     0.53654,     0.53754,     0.53854,     0.53954,     0.54054,     0.54154,     0.54254,     0.54354,     0.54454,     0.54555,     0.54655,     0.54755,     0.54855,     0.54955,     0.55055,     0.55155,\n",
      "           0.55255,     0.55355,     0.55455,     0.55556,     0.55656,     0.55756,     0.55856,     0.55956,     0.56056,     0.56156,     0.56256,     0.56356,     0.56456,     0.56557,     0.56657,     0.56757,     0.56857,     0.56957,     0.57057,     0.57157,     0.57257,     0.57357,     0.57457,     0.57558,\n",
      "           0.57658,     0.57758,     0.57858,     0.57958,     0.58058,     0.58158,     0.58258,     0.58358,     0.58458,     0.58559,     0.58659,     0.58759,     0.58859,     0.58959,     0.59059,     0.59159,     0.59259,     0.59359,     0.59459,      0.5956,      0.5966,      0.5976,      0.5986,      0.5996,\n",
      "            0.6006,      0.6016,      0.6026,      0.6036,      0.6046,     0.60561,     0.60661,     0.60761,     0.60861,     0.60961,     0.61061,     0.61161,     0.61261,     0.61361,     0.61461,     0.61562,     0.61662,     0.61762,     0.61862,     0.61962,     0.62062,     0.62162,     0.62262,     0.62362,\n",
      "           0.62462,     0.62563,     0.62663,     0.62763,     0.62863,     0.62963,     0.63063,     0.63163,     0.63263,     0.63363,     0.63463,     0.63564,     0.63664,     0.63764,     0.63864,     0.63964,     0.64064,     0.64164,     0.64264,     0.64364,     0.64464,     0.64565,     0.64665,     0.64765,\n",
      "           0.64865,     0.64965,     0.65065,     0.65165,     0.65265,     0.65365,     0.65465,     0.65566,     0.65666,     0.65766,     0.65866,     0.65966,     0.66066,     0.66166,     0.66266,     0.66366,     0.66466,     0.66567,     0.66667,     0.66767,     0.66867,     0.66967,     0.67067,     0.67167,\n",
      "           0.67267,     0.67367,     0.67467,     0.67568,     0.67668,     0.67768,     0.67868,     0.67968,     0.68068,     0.68168,     0.68268,     0.68368,     0.68468,     0.68569,     0.68669,     0.68769,     0.68869,     0.68969,     0.69069,     0.69169,     0.69269,     0.69369,     0.69469,      0.6957,\n",
      "            0.6967,      0.6977,      0.6987,      0.6997,      0.7007,      0.7017,      0.7027,      0.7037,      0.7047,     0.70571,     0.70671,     0.70771,     0.70871,     0.70971,     0.71071,     0.71171,     0.71271,     0.71371,     0.71471,     0.71572,     0.71672,     0.71772,     0.71872,     0.71972,\n",
      "           0.72072,     0.72172,     0.72272,     0.72372,     0.72472,     0.72573,     0.72673,     0.72773,     0.72873,     0.72973,     0.73073,     0.73173,     0.73273,     0.73373,     0.73473,     0.73574,     0.73674,     0.73774,     0.73874,     0.73974,     0.74074,     0.74174,     0.74274,     0.74374,\n",
      "           0.74474,     0.74575,     0.74675,     0.74775,     0.74875,     0.74975,     0.75075,     0.75175,     0.75275,     0.75375,     0.75475,     0.75576,     0.75676,     0.75776,     0.75876,     0.75976,     0.76076,     0.76176,     0.76276,     0.76376,     0.76476,     0.76577,     0.76677,     0.76777,\n",
      "           0.76877,     0.76977,     0.77077,     0.77177,     0.77277,     0.77377,     0.77477,     0.77578,     0.77678,     0.77778,     0.77878,     0.77978,     0.78078,     0.78178,     0.78278,     0.78378,     0.78478,     0.78579,     0.78679,     0.78779,     0.78879,     0.78979,     0.79079,     0.79179,\n",
      "           0.79279,     0.79379,     0.79479,      0.7958,      0.7968,      0.7978,      0.7988,      0.7998,      0.8008,      0.8018,      0.8028,      0.8038,      0.8048,     0.80581,     0.80681,     0.80781,     0.80881,     0.80981,     0.81081,     0.81181,     0.81281,     0.81381,     0.81481,     0.81582,\n",
      "           0.81682,     0.81782,     0.81882,     0.81982,     0.82082,     0.82182,     0.82282,     0.82382,     0.82482,     0.82583,     0.82683,     0.82783,     0.82883,     0.82983,     0.83083,     0.83183,     0.83283,     0.83383,     0.83483,     0.83584,     0.83684,     0.83784,     0.83884,     0.83984,\n",
      "           0.84084,     0.84184,     0.84284,     0.84384,     0.84484,     0.84585,     0.84685,     0.84785,     0.84885,     0.84985,     0.85085,     0.85185,     0.85285,     0.85385,     0.85485,     0.85586,     0.85686,     0.85786,     0.85886,     0.85986,     0.86086,     0.86186,     0.86286,     0.86386,\n",
      "           0.86486,     0.86587,     0.86687,     0.86787,     0.86887,     0.86987,     0.87087,     0.87187,     0.87287,     0.87387,     0.87487,     0.87588,     0.87688,     0.87788,     0.87888,     0.87988,     0.88088,     0.88188,     0.88288,     0.88388,     0.88488,     0.88589,     0.88689,     0.88789,\n",
      "           0.88889,     0.88989,     0.89089,     0.89189,     0.89289,     0.89389,     0.89489,      0.8959,      0.8969,      0.8979,      0.8989,      0.8999,      0.9009,      0.9019,      0.9029,      0.9039,      0.9049,     0.90591,     0.90691,     0.90791,     0.90891,     0.90991,     0.91091,     0.91191,\n",
      "           0.91291,     0.91391,     0.91491,     0.91592,     0.91692,     0.91792,     0.91892,     0.91992,     0.92092,     0.92192,     0.92292,     0.92392,     0.92492,     0.92593,     0.92693,     0.92793,     0.92893,     0.92993,     0.93093,     0.93193,     0.93293,     0.93393,     0.93493,     0.93594,\n",
      "           0.93694,     0.93794,     0.93894,     0.93994,     0.94094,     0.94194,     0.94294,     0.94394,     0.94494,     0.94595,     0.94695,     0.94795,     0.94895,     0.94995,     0.95095,     0.95195,     0.95295,     0.95395,     0.95495,     0.95596,     0.95696,     0.95796,     0.95896,     0.95996,\n",
      "           0.96096,     0.96196,     0.96296,     0.96396,     0.96496,     0.96597,     0.96697,     0.96797,     0.96897,     0.96997,     0.97097,     0.97197,     0.97297,     0.97397,     0.97497,     0.97598,     0.97698,     0.97798,     0.97898,     0.97998,     0.98098,     0.98198,     0.98298,     0.98398,\n",
      "           0.98498,     0.98599,     0.98699,     0.98799,     0.98899,     0.98999,     0.99099,     0.99199,     0.99299,     0.99399,     0.99499,       0.996,       0.997,       0.998,       0.999,           1]), array([[    0.90851,     0.90842,     0.90526, ...,           0,           0,           0],\n",
      "       [    0.76433,     0.76433,     0.75478, ...,           0,           0,           0],\n",
      "       [    0.83681,     0.83681,     0.82795, ...,           0,           0,           0],\n",
      "       ...,\n",
      "       [    0.84211,     0.84211,     0.83158, ...,           0,           0,           0],\n",
      "       [    0.18182,     0.18182,    0.090909, ...,           0,           0,           0],\n",
      "       [    0.66667,     0.66667,     0.61404, ...,           0,           0,           0]]), 'Confidence', 'Recall']]\n",
      "fitness: np.float64(0.3865797246377572)\n",
      "keys: ['metrics/precision(B)', 'metrics/recall(B)', 'metrics/mAP50(B)', 'metrics/mAP50-95(B)']\n",
      "maps: array([    0.51467,     0.26419,     0.36488,     0.41441,     0.65329,     0.61988,     0.64684,     0.29481,     0.20976,     0.21214,      0.6149,     0.63093,     0.44095,     0.19437,      0.2773,     0.65238,      0.5929,      0.5248,     0.46012,     0.49008,     0.62886,     0.68889,     0.65796,     0.68443,\n",
      "           0.10131,     0.36188,     0.08591,     0.26899,     0.34339,     0.58372,     0.18863,     0.26756,     0.33208,      0.3803,     0.21909,      0.3031,     0.45211,     0.30919,      0.3961,     0.29818,     0.26977,     0.35105,     0.26375,     0.10628,    0.098801,     0.39179,     0.23317,     0.15573,\n",
      "           0.34886,     0.28105,     0.20844,     0.18907,     0.36409,     0.50284,     0.40758,     0.29267,     0.25733,     0.43379,     0.22605,      0.4285,     0.29314,     0.64145,     0.55335,     0.57958,     0.53072,     0.16273,     0.48169,     0.27988,      0.5135,     0.35041,     0.31611,     0.33697,\n",
      "           0.51112,    0.097277,     0.45873,     0.32157,     0.27781,     0.41861,   0.0037759,     0.16501])\n",
      "names: {0: 'person', 1: 'bicycle', 2: 'car', 3: 'motorcycle', 4: 'airplane', 5: 'bus', 6: 'train', 7: 'truck', 8: 'boat', 9: 'traffic light', 10: 'fire hydrant', 11: 'stop sign', 12: 'parking meter', 13: 'bench', 14: 'bird', 15: 'cat', 16: 'dog', 17: 'horse', 18: 'sheep', 19: 'cow', 20: 'elephant', 21: 'bear', 22: 'zebra', 23: 'giraffe', 24: 'backpack', 25: 'umbrella', 26: 'handbag', 27: 'tie', 28: 'suitcase', 29: 'frisbee', 30: 'skis', 31: 'snowboard', 32: 'sports ball', 33: 'kite', 34: 'baseball bat', 35: 'baseball glove', 36: 'skateboard', 37: 'surfboard', 38: 'tennis racket', 39: 'bottle', 40: 'wine glass', 41: 'cup', 42: 'fork', 43: 'knife', 44: 'spoon', 45: 'bowl', 46: 'banana', 47: 'apple', 48: 'sandwich', 49: 'orange', 50: 'broccoli', 51: 'carrot', 52: 'hot dog', 53: 'pizza', 54: 'donut', 55: 'cake', 56: 'chair', 57: 'couch', 58: 'potted plant', 59: 'bed', 60: 'dining table', 61: 'toilet', 62: 'tv', 63: 'laptop', 64: 'mouse', 65: 'remote', 66: 'keyboard', 67: 'cell phone', 68: 'microwave', 69: 'oven', 70: 'toaster', 71: 'sink', 72: 'refrigerator', 73: 'book', 74: 'clock', 75: 'vase', 76: 'scissors', 77: 'teddy bear', 78: 'hair drier', 79: 'toothbrush'}\n",
      "nt_per_class: array([10777,   314,  1918,   367,   143,   283,   190,   414,   424,   634,   101,    75,    60,   411,   427,   202,   218,   272,   354,   372,   252,    71,   266,   232,   371,   407,   540,   252,   299,   115,   241,    69,   260,   327,   145,   148,   179,   267,   225,  1013,   341,   895,   215,   325,\n",
      "         253,   623,   370,   236,   177,   285,   312,   365,   125,   284,   328,   310,  1771,   261,   342,   163,   695,   179,   288,   231,   106,   283,   153,   262,    55,   143,     9,   225,   126,  1129,   267,   274,    36,   190,    11,    57])\n",
      "nt_per_image: array([2693,  149,  535,  159,   97,  189,  157,  250,  121,  191,   86,   69,   37,  235,  125,  184,  177,  128,   65,   87,   89,   49,   85,  101,  228,  174,  292,  145,  105,   84,  120,   49,  169,   91,   97,  100,  127,  149,  167,  379,  110,  390,  155,  181,  153,  314,  103,   76,   98,   85,   71,   81,\n",
      "         51,  153,   62,  124,  580,  195,  172,  149,  501,  149,  207,  183,   88,  145,  106,  214,   54,  115,    8,  187,  101,  230,  204,  137,   28,   94,    9,   34])\n",
      "results_dict: {'metrics/precision(B)': np.float64(0.6342722653210648), 'metrics/recall(B)': np.float64(0.4745721505429204), 'metrics/mAP50(B)': np.float64(0.5212459714044902), 'metrics/mAP50-95(B)': np.float64(0.3716168083303424), 'fitness': np.float64(0.3865797246377572)}\n",
      "save_dir: PosixPath('runs/detect/val')\n",
      "speed: {'preprocess': 0.29448680039949976, 'inference': 3.175575202800383, 'loss': 0.0011327554000672535, 'postprocess': 1.661867880799855}\n",
      "stats: {'tp': [], 'conf': [], 'pred_cls': [], 'target_cls': [], 'target_img': []}\n",
      "task: 'detect'\n"
     ]
    }
   ],
   "source": [
    "from ultralytics import YOLO\n",
    "\n",
    "# Load a pre-trained YOLOv8n model\n",
    "model = YOLO('yolov8n.pt')\n",
    "\n",
    "# Evaluate the model on the test set\n",
    "evaluation_results = model.val()\n",
    "\n",
    "# Print the evaluation results\n",
    "print(evaluation_results)"
   ]
  },
  {
   "cell_type": "code",
   "execution_count": null,
   "metadata": {
    "colab": {
     "base_uri": "https://localhost:8080/",
     "height": 356
    },
    "executionInfo": {
     "elapsed": 92,
     "status": "error",
     "timestamp": 1752743313878,
     "user": {
      "displayName": "sadat rahman",
      "userId": "00315844507455805433"
     },
     "user_tz": -360
    },
    "id": "51d5b7f6",
    "outputId": "d341d7ba-76ef-4128-c3ca-c743825ef4bf"
   },
   "outputs": [
    {
     "name": "stdout",
     "output_type": "stream",
     "text": [
      "\n"
     ]
    },
    {
     "ename": "FileNotFoundError",
     "evalue": "/tmp/yolov8_data/test/images does not exist",
     "output_type": "error",
     "traceback": [
      "\u001b[0;31m---------------------------------------------------------------------------\u001b[0m",
      "\u001b[0;31mFileNotFoundError\u001b[0m                         Traceback (most recent call last)",
      "\u001b[0;32m/tmp/ipython-input-5-3364594197.py\u001b[0m in \u001b[0;36m<cell line: 0>\u001b[0;34m()\u001b[0m\n\u001b[1;32m      1\u001b[0m \u001b[0;31m# Generate predictions on the test set\u001b[0m\u001b[0;34m\u001b[0m\u001b[0;34m\u001b[0m\u001b[0m\n\u001b[0;32m----> 2\u001b[0;31m \u001b[0mtest_yolo_predictions\u001b[0m \u001b[0;34m=\u001b[0m \u001b[0mmodel\u001b[0m\u001b[0;34m(\u001b[0m\u001b[0;34m'/tmp/yolov8_data/test/images'\u001b[0m\u001b[0;34m)\u001b[0m\u001b[0;34m\u001b[0m\u001b[0;34m\u001b[0m\u001b[0m\n\u001b[0m",
      "\u001b[0;32m/usr/local/lib/python3.11/dist-packages/ultralytics/engine/model.py\u001b[0m in \u001b[0;36m__call__\u001b[0;34m(self, source, stream, **kwargs)\u001b[0m\n\u001b[1;32m    183\u001b[0m             \u001b[0;34m...\u001b[0m     \u001b[0mprint\u001b[0m\u001b[0;34m(\u001b[0m\u001b[0;34mf\"Detected {len(r)} objects in image\"\u001b[0m\u001b[0;34m)\u001b[0m\u001b[0;34m\u001b[0m\u001b[0;34m\u001b[0m\u001b[0m\n\u001b[1;32m    184\u001b[0m         \"\"\"\n\u001b[0;32m--> 185\u001b[0;31m         \u001b[0;32mreturn\u001b[0m \u001b[0mself\u001b[0m\u001b[0;34m.\u001b[0m\u001b[0mpredict\u001b[0m\u001b[0;34m(\u001b[0m\u001b[0msource\u001b[0m\u001b[0;34m,\u001b[0m \u001b[0mstream\u001b[0m\u001b[0;34m,\u001b[0m \u001b[0;34m**\u001b[0m\u001b[0mkwargs\u001b[0m\u001b[0;34m)\u001b[0m\u001b[0;34m\u001b[0m\u001b[0;34m\u001b[0m\u001b[0m\n\u001b[0m\u001b[1;32m    186\u001b[0m \u001b[0;34m\u001b[0m\u001b[0m\n\u001b[1;32m    187\u001b[0m     \u001b[0;34m@\u001b[0m\u001b[0mstaticmethod\u001b[0m\u001b[0;34m\u001b[0m\u001b[0;34m\u001b[0m\u001b[0m\n",
      "\u001b[0;32m/usr/local/lib/python3.11/dist-packages/ultralytics/engine/model.py\u001b[0m in \u001b[0;36mpredict\u001b[0;34m(self, source, stream, predictor, **kwargs)\u001b[0m\n\u001b[1;32m    553\u001b[0m         \u001b[0;32mif\u001b[0m \u001b[0mprompts\u001b[0m \u001b[0;32mand\u001b[0m \u001b[0mhasattr\u001b[0m\u001b[0;34m(\u001b[0m\u001b[0mself\u001b[0m\u001b[0;34m.\u001b[0m\u001b[0mpredictor\u001b[0m\u001b[0;34m,\u001b[0m \u001b[0;34m\"set_prompts\"\u001b[0m\u001b[0;34m)\u001b[0m\u001b[0;34m:\u001b[0m  \u001b[0;31m# for SAM-type models\u001b[0m\u001b[0;34m\u001b[0m\u001b[0;34m\u001b[0m\u001b[0m\n\u001b[1;32m    554\u001b[0m             \u001b[0mself\u001b[0m\u001b[0;34m.\u001b[0m\u001b[0mpredictor\u001b[0m\u001b[0;34m.\u001b[0m\u001b[0mset_prompts\u001b[0m\u001b[0;34m(\u001b[0m\u001b[0mprompts\u001b[0m\u001b[0;34m)\u001b[0m\u001b[0;34m\u001b[0m\u001b[0;34m\u001b[0m\u001b[0m\n\u001b[0;32m--> 555\u001b[0;31m         \u001b[0;32mreturn\u001b[0m \u001b[0mself\u001b[0m\u001b[0;34m.\u001b[0m\u001b[0mpredictor\u001b[0m\u001b[0;34m.\u001b[0m\u001b[0mpredict_cli\u001b[0m\u001b[0;34m(\u001b[0m\u001b[0msource\u001b[0m\u001b[0;34m=\u001b[0m\u001b[0msource\u001b[0m\u001b[0;34m)\u001b[0m \u001b[0;32mif\u001b[0m \u001b[0mis_cli\u001b[0m \u001b[0;32melse\u001b[0m \u001b[0mself\u001b[0m\u001b[0;34m.\u001b[0m\u001b[0mpredictor\u001b[0m\u001b[0;34m(\u001b[0m\u001b[0msource\u001b[0m\u001b[0;34m=\u001b[0m\u001b[0msource\u001b[0m\u001b[0;34m,\u001b[0m \u001b[0mstream\u001b[0m\u001b[0;34m=\u001b[0m\u001b[0mstream\u001b[0m\u001b[0;34m)\u001b[0m\u001b[0;34m\u001b[0m\u001b[0;34m\u001b[0m\u001b[0m\n\u001b[0m\u001b[1;32m    556\u001b[0m \u001b[0;34m\u001b[0m\u001b[0m\n\u001b[1;32m    557\u001b[0m     def track(\n",
      "\u001b[0;32m/usr/local/lib/python3.11/dist-packages/ultralytics/engine/predictor.py\u001b[0m in \u001b[0;36m__call__\u001b[0;34m(self, source, model, stream, *args, **kwargs)\u001b[0m\n\u001b[1;32m    225\u001b[0m             \u001b[0;32mreturn\u001b[0m \u001b[0mself\u001b[0m\u001b[0;34m.\u001b[0m\u001b[0mstream_inference\u001b[0m\u001b[0;34m(\u001b[0m\u001b[0msource\u001b[0m\u001b[0;34m,\u001b[0m \u001b[0mmodel\u001b[0m\u001b[0;34m,\u001b[0m \u001b[0;34m*\u001b[0m\u001b[0margs\u001b[0m\u001b[0;34m,\u001b[0m \u001b[0;34m**\u001b[0m\u001b[0mkwargs\u001b[0m\u001b[0;34m)\u001b[0m\u001b[0;34m\u001b[0m\u001b[0;34m\u001b[0m\u001b[0m\n\u001b[1;32m    226\u001b[0m         \u001b[0;32melse\u001b[0m\u001b[0;34m:\u001b[0m\u001b[0;34m\u001b[0m\u001b[0;34m\u001b[0m\u001b[0m\n\u001b[0;32m--> 227\u001b[0;31m             \u001b[0;32mreturn\u001b[0m \u001b[0mlist\u001b[0m\u001b[0;34m(\u001b[0m\u001b[0mself\u001b[0m\u001b[0;34m.\u001b[0m\u001b[0mstream_inference\u001b[0m\u001b[0;34m(\u001b[0m\u001b[0msource\u001b[0m\u001b[0;34m,\u001b[0m \u001b[0mmodel\u001b[0m\u001b[0;34m,\u001b[0m \u001b[0;34m*\u001b[0m\u001b[0margs\u001b[0m\u001b[0;34m,\u001b[0m \u001b[0;34m**\u001b[0m\u001b[0mkwargs\u001b[0m\u001b[0;34m)\u001b[0m\u001b[0;34m)\u001b[0m  \u001b[0;31m# merge list of Result into one\u001b[0m\u001b[0;34m\u001b[0m\u001b[0;34m\u001b[0m\u001b[0m\n\u001b[0m\u001b[1;32m    228\u001b[0m \u001b[0;34m\u001b[0m\u001b[0m\n\u001b[1;32m    229\u001b[0m     \u001b[0;32mdef\u001b[0m \u001b[0mpredict_cli\u001b[0m\u001b[0;34m(\u001b[0m\u001b[0mself\u001b[0m\u001b[0;34m,\u001b[0m \u001b[0msource\u001b[0m\u001b[0;34m=\u001b[0m\u001b[0;32mNone\u001b[0m\u001b[0;34m,\u001b[0m \u001b[0mmodel\u001b[0m\u001b[0;34m=\u001b[0m\u001b[0;32mNone\u001b[0m\u001b[0;34m)\u001b[0m\u001b[0;34m:\u001b[0m\u001b[0;34m\u001b[0m\u001b[0;34m\u001b[0m\u001b[0m\n",
      "\u001b[0;32m/usr/local/lib/python3.11/dist-packages/torch/utils/_contextlib.py\u001b[0m in \u001b[0;36mgenerator_context\u001b[0;34m(*args, **kwargs)\u001b[0m\n\u001b[1;32m     34\u001b[0m             \u001b[0;31m# Issuing `None` to a generator fires it up\u001b[0m\u001b[0;34m\u001b[0m\u001b[0;34m\u001b[0m\u001b[0m\n\u001b[1;32m     35\u001b[0m             \u001b[0;32mwith\u001b[0m \u001b[0mctx_factory\u001b[0m\u001b[0;34m(\u001b[0m\u001b[0;34m)\u001b[0m\u001b[0;34m:\u001b[0m\u001b[0;34m\u001b[0m\u001b[0;34m\u001b[0m\u001b[0m\n\u001b[0;32m---> 36\u001b[0;31m                 \u001b[0mresponse\u001b[0m \u001b[0;34m=\u001b[0m \u001b[0mgen\u001b[0m\u001b[0;34m.\u001b[0m\u001b[0msend\u001b[0m\u001b[0;34m(\u001b[0m\u001b[0;32mNone\u001b[0m\u001b[0;34m)\u001b[0m\u001b[0;34m\u001b[0m\u001b[0;34m\u001b[0m\u001b[0m\n\u001b[0m\u001b[1;32m     37\u001b[0m \u001b[0;34m\u001b[0m\u001b[0m\n\u001b[1;32m     38\u001b[0m             \u001b[0;32mwhile\u001b[0m \u001b[0;32mTrue\u001b[0m\u001b[0;34m:\u001b[0m\u001b[0;34m\u001b[0m\u001b[0;34m\u001b[0m\u001b[0m\n",
      "\u001b[0;32m/usr/local/lib/python3.11/dist-packages/ultralytics/engine/predictor.py\u001b[0m in \u001b[0;36mstream_inference\u001b[0;34m(self, source, model, *args, **kwargs)\u001b[0m\n\u001b[1;32m    298\u001b[0m         \u001b[0;32mwith\u001b[0m \u001b[0mself\u001b[0m\u001b[0;34m.\u001b[0m\u001b[0m_lock\u001b[0m\u001b[0;34m:\u001b[0m  \u001b[0;31m# for thread-safe inference\u001b[0m\u001b[0;34m\u001b[0m\u001b[0;34m\u001b[0m\u001b[0m\n\u001b[1;32m    299\u001b[0m             \u001b[0;31m# Setup source every time predict is called\u001b[0m\u001b[0;34m\u001b[0m\u001b[0;34m\u001b[0m\u001b[0m\n\u001b[0;32m--> 300\u001b[0;31m             \u001b[0mself\u001b[0m\u001b[0;34m.\u001b[0m\u001b[0msetup_source\u001b[0m\u001b[0;34m(\u001b[0m\u001b[0msource\u001b[0m \u001b[0;32mif\u001b[0m \u001b[0msource\u001b[0m \u001b[0;32mis\u001b[0m \u001b[0;32mnot\u001b[0m \u001b[0;32mNone\u001b[0m \u001b[0;32melse\u001b[0m \u001b[0mself\u001b[0m\u001b[0;34m.\u001b[0m\u001b[0margs\u001b[0m\u001b[0;34m.\u001b[0m\u001b[0msource\u001b[0m\u001b[0;34m)\u001b[0m\u001b[0;34m\u001b[0m\u001b[0;34m\u001b[0m\u001b[0m\n\u001b[0m\u001b[1;32m    301\u001b[0m \u001b[0;34m\u001b[0m\u001b[0m\n\u001b[1;32m    302\u001b[0m             \u001b[0;31m# Check if save_dir/ label file exists\u001b[0m\u001b[0;34m\u001b[0m\u001b[0;34m\u001b[0m\u001b[0m\n",
      "\u001b[0;32m/usr/local/lib/python3.11/dist-packages/ultralytics/engine/predictor.py\u001b[0m in \u001b[0;36msetup_source\u001b[0;34m(self, source)\u001b[0m\n\u001b[1;32m    257\u001b[0m         \"\"\"\n\u001b[1;32m    258\u001b[0m         \u001b[0mself\u001b[0m\u001b[0;34m.\u001b[0m\u001b[0mimgsz\u001b[0m \u001b[0;34m=\u001b[0m \u001b[0mcheck_imgsz\u001b[0m\u001b[0;34m(\u001b[0m\u001b[0mself\u001b[0m\u001b[0;34m.\u001b[0m\u001b[0margs\u001b[0m\u001b[0;34m.\u001b[0m\u001b[0mimgsz\u001b[0m\u001b[0;34m,\u001b[0m \u001b[0mstride\u001b[0m\u001b[0;34m=\u001b[0m\u001b[0mself\u001b[0m\u001b[0;34m.\u001b[0m\u001b[0mmodel\u001b[0m\u001b[0;34m.\u001b[0m\u001b[0mstride\u001b[0m\u001b[0;34m,\u001b[0m \u001b[0mmin_dim\u001b[0m\u001b[0;34m=\u001b[0m\u001b[0;36m2\u001b[0m\u001b[0;34m)\u001b[0m  \u001b[0;31m# check image size\u001b[0m\u001b[0;34m\u001b[0m\u001b[0;34m\u001b[0m\u001b[0m\n\u001b[0;32m--> 259\u001b[0;31m         self.dataset = load_inference_source(\n\u001b[0m\u001b[1;32m    260\u001b[0m             \u001b[0msource\u001b[0m\u001b[0;34m=\u001b[0m\u001b[0msource\u001b[0m\u001b[0;34m,\u001b[0m\u001b[0;34m\u001b[0m\u001b[0;34m\u001b[0m\u001b[0m\n\u001b[1;32m    261\u001b[0m             \u001b[0mbatch\u001b[0m\u001b[0;34m=\u001b[0m\u001b[0mself\u001b[0m\u001b[0;34m.\u001b[0m\u001b[0margs\u001b[0m\u001b[0;34m.\u001b[0m\u001b[0mbatch\u001b[0m\u001b[0;34m,\u001b[0m\u001b[0;34m\u001b[0m\u001b[0;34m\u001b[0m\u001b[0m\n",
      "\u001b[0;32m/usr/local/lib/python3.11/dist-packages/ultralytics/data/build.py\u001b[0m in \u001b[0;36mload_inference_source\u001b[0;34m(source, batch, vid_stride, buffer, channels)\u001b[0m\n\u001b[1;32m    298\u001b[0m         \u001b[0mdataset\u001b[0m \u001b[0;34m=\u001b[0m \u001b[0mLoadPilAndNumpy\u001b[0m\u001b[0;34m(\u001b[0m\u001b[0msource\u001b[0m\u001b[0;34m,\u001b[0m \u001b[0mchannels\u001b[0m\u001b[0;34m=\u001b[0m\u001b[0mchannels\u001b[0m\u001b[0;34m)\u001b[0m\u001b[0;34m\u001b[0m\u001b[0;34m\u001b[0m\u001b[0m\n\u001b[1;32m    299\u001b[0m     \u001b[0;32melse\u001b[0m\u001b[0;34m:\u001b[0m\u001b[0;34m\u001b[0m\u001b[0;34m\u001b[0m\u001b[0m\n\u001b[0;32m--> 300\u001b[0;31m         \u001b[0mdataset\u001b[0m \u001b[0;34m=\u001b[0m \u001b[0mLoadImagesAndVideos\u001b[0m\u001b[0;34m(\u001b[0m\u001b[0msource\u001b[0m\u001b[0;34m,\u001b[0m \u001b[0mbatch\u001b[0m\u001b[0;34m=\u001b[0m\u001b[0mbatch\u001b[0m\u001b[0;34m,\u001b[0m \u001b[0mvid_stride\u001b[0m\u001b[0;34m=\u001b[0m\u001b[0mvid_stride\u001b[0m\u001b[0;34m,\u001b[0m \u001b[0mchannels\u001b[0m\u001b[0;34m=\u001b[0m\u001b[0mchannels\u001b[0m\u001b[0;34m)\u001b[0m\u001b[0;34m\u001b[0m\u001b[0;34m\u001b[0m\u001b[0m\n\u001b[0m\u001b[1;32m    301\u001b[0m \u001b[0;34m\u001b[0m\u001b[0m\n\u001b[1;32m    302\u001b[0m     \u001b[0;31m# Attach source types to the dataset\u001b[0m\u001b[0;34m\u001b[0m\u001b[0;34m\u001b[0m\u001b[0m\n",
      "\u001b[0;32m/usr/local/lib/python3.11/dist-packages/ultralytics/data/loaders.py\u001b[0m in \u001b[0;36m__init__\u001b[0;34m(self, path, batch, vid_stride, channels)\u001b[0m\n\u001b[1;32m    371\u001b[0m                 \u001b[0mfiles\u001b[0m\u001b[0;34m.\u001b[0m\u001b[0mappend\u001b[0m\u001b[0;34m(\u001b[0m\u001b[0mstr\u001b[0m\u001b[0;34m(\u001b[0m\u001b[0;34m(\u001b[0m\u001b[0mparent\u001b[0m \u001b[0;34m/\u001b[0m \u001b[0mp\u001b[0m\u001b[0;34m)\u001b[0m\u001b[0;34m.\u001b[0m\u001b[0mabsolute\u001b[0m\u001b[0;34m(\u001b[0m\u001b[0;34m)\u001b[0m\u001b[0;34m)\u001b[0m\u001b[0;34m)\u001b[0m  \u001b[0;31m# files (relative to *.txt file parent)\u001b[0m\u001b[0;34m\u001b[0m\u001b[0;34m\u001b[0m\u001b[0m\n\u001b[1;32m    372\u001b[0m             \u001b[0;32melse\u001b[0m\u001b[0;34m:\u001b[0m\u001b[0;34m\u001b[0m\u001b[0;34m\u001b[0m\u001b[0m\n\u001b[0;32m--> 373\u001b[0;31m                 \u001b[0;32mraise\u001b[0m \u001b[0mFileNotFoundError\u001b[0m\u001b[0;34m(\u001b[0m\u001b[0;34mf\"{p} does not exist\"\u001b[0m\u001b[0;34m)\u001b[0m\u001b[0;34m\u001b[0m\u001b[0;34m\u001b[0m\u001b[0m\n\u001b[0m\u001b[1;32m    374\u001b[0m \u001b[0;34m\u001b[0m\u001b[0m\n\u001b[1;32m    375\u001b[0m         \u001b[0;31m# Define files as images or videos\u001b[0m\u001b[0;34m\u001b[0m\u001b[0;34m\u001b[0m\u001b[0m\n",
      "\u001b[0;31mFileNotFoundError\u001b[0m: /tmp/yolov8_data/test/images does not exist"
     ]
    }
   ],
   "source": [
    "# Generate predictions on the test set\n",
    "test_yolo_predictions = model('/tmp/yolov8_data/test/images')"
   ]
  },
  {
   "cell_type": "code",
   "execution_count": null,
   "metadata": {
    "colab": {
     "base_uri": "https://localhost:8080/"
    },
    "executionInfo": {
     "elapsed": 41737,
     "status": "ok",
     "timestamp": 1752743371185,
     "user": {
      "displayName": "sadat rahman",
      "userId": "00315844507455805433"
     },
     "user_tz": -360
    },
    "id": "eb1e7899",
    "outputId": "bf74ccd5-0195-4a07-be93-a06977f2921e"
   },
   "outputs": [
    {
     "name": "stdout",
     "output_type": "stream",
     "text": [
      "Mounted at /content/drive\n",
      "Dataset converted to YOLOv8 format and saved in /tmp/yolov8_data\n"
     ]
    }
   ],
   "source": [
    "from google.colab import drive\n",
    "import os\n",
    "import random\n",
    "import shutil\n",
    "from zipfile import ZipFile\n",
    "\n",
    "# Mount Google Drive\n",
    "drive.mount('/content/drive')\n",
    "\n",
    "# Extract the zip file\n",
    "zipFilePath='/content/drive/MyDrive/DIP/datasetmain.zip' # place the zip file link here\n",
    "zipFileObj=ZipFile(file=zipFilePath)\n",
    "zipFileObj.extractall('/tmp')\n",
    "\n",
    "# Data splitting function\n",
    "def split_data(source_folder1, source_folder2, train_folder, test_folder, split_ratio=0.8):\n",
    "    # Create train and test folders if they don't exist, and remove existing contents\n",
    "    for folder in [train_folder, test_folder]:\n",
    "        if os.path.exists(folder):\n",
    "            shutil.rmtree(folder) # Remove existing folders to ensure a clean split\n",
    "        os.makedirs(folder)\n",
    "        os.makedirs(os.path.join(folder, 'normal-pylorus'))\n",
    "        os.makedirs(os.path.join(folder, 'polyps'))\n",
    "\n",
    "    # List files from both source folders\n",
    "    files_folder1 = os.listdir(source_folder1)\n",
    "    files_folder2 = os.listdir(source_folder2)\n",
    "\n",
    "    # Calculate the number of files to move to the train folder\n",
    "    num_train_folder1 = int(split_ratio * len(files_folder1))\n",
    "    num_train_folder2 = int(split_ratio * len(files_folder2))\n",
    "\n",
    "    # Randomly select files for the train folder\n",
    "    train_files_folder1 = random.sample(files_folder1, num_train_folder1)\n",
    "    train_files_folder2 = random.sample(files_folder2, num_train_folder2)\n",
    "\n",
    "    # Move files to the train folder\n",
    "    for filename in train_files_folder1:\n",
    "        source_path = os.path.join(source_folder1, filename)\n",
    "        destination_path = os.path.join(f'{train_folder}/normal-pylorus', filename)\n",
    "        shutil.copy2(source_path, destination_path)\n",
    "\n",
    "    for filename in train_files_folder2:\n",
    "        source_path = os.path.join(source_folder2, filename)\n",
    "        destination_path = os.path.join(f'{train_folder}/polyps', filename)\n",
    "        shutil.copy2(source_path, destination_path)\n",
    "\n",
    "    # Move the remaining files to the test folder\n",
    "    for filename in files_folder1:\n",
    "        if filename not in train_files_folder1:\n",
    "            source_path = os.path.join(source_folder1, filename)\n",
    "            destination_path = os.path.join(f'{test_folder}/normal-pylorus', filename)\n",
    "            shutil.copy2(source_path, destination_path)\n",
    "\n",
    "    for filename in files_folder2:\n",
    "        if filename not in train_files_folder2:\n",
    "            source_path = os.path.join(source_folder2, filename)\n",
    "            destination_path = os.path.join(f'{test_folder}/polyps', filename)\n",
    "            shutil.copy2(source_path, destination_path)\n",
    "\n",
    "# Example usage\n",
    "source_folder1 = '/tmp/datasetmain/train/normal'\n",
    "source_folder2 = '/tmp/datasetmain/train/adnormal'\n",
    "train_folder = '/tmp/train'\n",
    "test_folder = '/tmp/test'\n",
    "\n",
    "split_data(source_folder1, source_folder2, train_folder, test_folder, split_ratio=0.8)\n",
    "\n",
    "# Define source and destination directories for YOLOv8\n",
    "source_train_normal = '/tmp/train/normal-pylorus'\n",
    "source_train_adnormal = '/tmp/train/polyps'\n",
    "source_test_normal = '/tmp/test/normal-pylorus'\n",
    "source_test_adnormal = '/tmp/test/polyps'\n",
    "\n",
    "yolo_train_images = '/tmp/yolov8_data/train/images'\n",
    "yolo_train_labels = '/tmp/yolov8_data/train/labels'\n",
    "yolo_test_images = '/tmp/yolov8_data/test/images'\n",
    "yolo_test_labels = '/tmp/yolov8_data/test/labels'\n",
    "\n",
    "# Create YOLOv8 directory structure\n",
    "for directory in [yolo_train_images, yolo_train_labels, yolo_test_images, yolo_test_labels]:\n",
    "    os.makedirs(directory, exist_ok=True)\n",
    "\n",
    "# Function to convert and copy images and create label files\n",
    "def convert_and_copy(source_folder, image_dest_folder, label_dest_folder, class_id):\n",
    "    for filename in os.listdir(source_folder):\n",
    "        if filename.lower().endswith(('.png', '.jpg', '.jpeg')):\n",
    "            # Copy image\n",
    "            source_path = os.path.join(source_folder, filename)\n",
    "            destination_image_path = os.path.join(image_dest_folder, filename)\n",
    "            shutil.copy2(source_path, destination_image_path)\n",
    "\n",
    "            # Create label file\n",
    "            label_filename = os.path.splitext(filename)[0] + '.txt'\n",
    "            destination_label_path = os.path.join(label_dest_folder, label_filename)\n",
    "\n",
    "            # Write dummy bounding box (center_x, center_y, width, height) in YOLO format\n",
    "            # Assuming a single object covering the entire image for classification\n",
    "            with open(destination_label_path, 'w') as f:\n",
    "                f.write(f'{class_id} 0.5 0.5 1.0 1.0\\n')\n",
    "\n",
    "# Convert and copy training data\n",
    "convert_and_copy(source_train_normal, yolo_train_images, yolo_train_labels, 0) # Class 0 for normal\n",
    "convert_and_copy(source_train_adnormal, yolo_train_images, yolo_train_labels, 1) # Class 1 for adnormal/polyps\n",
    "\n",
    "# Convert and copy testing data\n",
    "convert_and_copy(source_test_normal, yolo_test_images, yolo_test_labels, 0) # Class 0 for normal\n",
    "convert_and_copy(source_test_adnormal, yolo_test_images, yolo_test_labels, 1) # Class 1 for adnormal/polyps\n",
    "\n",
    "print(\"Dataset converted to YOLOv8 format and saved in /tmp/yolov8_data\")"
   ]
  },
  {
   "cell_type": "code",
   "execution_count": null,
   "metadata": {
    "colab": {
     "base_uri": "https://localhost:8080/"
    },
    "executionInfo": {
     "elapsed": 6164,
     "status": "ok",
     "timestamp": 1752743399226,
     "user": {
      "displayName": "sadat rahman",
      "userId": "00315844507455805433"
     },
     "user_tz": -360
    },
    "id": "457cb866",
    "outputId": "c5fa8ca4-afd0-43ad-d34e-153677fe6aa6"
   },
   "outputs": [
    {
     "name": "stdout",
     "output_type": "stream",
     "text": [
      "\n",
      "image 1/320 /tmp/yolov8_data/test/images/008aa3ed-1812-4854-954c-120ae85bb6bd.jpg: 512x640 1 person, 1 bed, 41.9ms\n",
      "image 2/320 /tmp/yolov8_data/test/images/00b1b20b-ce2b-449c-93fc-6df854e3ab33.jpg: 512x640 1 cake, 6.6ms\n",
      "image 3/320 /tmp/yolov8_data/test/images/01507fbd-4d38-4525-9768-7754710f507c.jpg: 512x640 (no detections), 6.5ms\n",
      "image 4/320 /tmp/yolov8_data/test/images/01af3454-037f-4708-b73c-6ec4423b6a61.jpg: 512x640 (no detections), 6.4ms\n",
      "image 5/320 /tmp/yolov8_data/test/images/01c48bf5-3f79-45dd-9390-add72a6da946.jpg: 512x640 (no detections), 6.4ms\n",
      "image 6/320 /tmp/yolov8_data/test/images/01e023db-5c76-4c28-91ab-06e36cd31495.jpg: 512x640 (no detections), 6.5ms\n",
      "image 7/320 /tmp/yolov8_data/test/images/0216181d-8f5d-4c59-a08d-c879939ca53a.jpg: 512x640 1 clock, 6.4ms\n",
      "image 8/320 /tmp/yolov8_data/test/images/029c1dcc-3081-4382-bfb4-85f0ed69c04c.jpg: 512x640 1 bowl, 1 banana, 6.9ms\n",
      "image 9/320 /tmp/yolov8_data/test/images/02b728cd-f151-44ba-8014-b7772949eb15.jpg: 512x640 (no detections), 6.4ms\n",
      "image 10/320 /tmp/yolov8_data/test/images/02c10865-9d23-4f6b-aa5d-f73b63b6d67f.jpg: 512x640 1 person, 1 bed, 7.7ms\n",
      "image 11/320 /tmp/yolov8_data/test/images/03ee341c-3fa0-4dfd-8158-d9eb1b0dbb78.jpg: 512x640 1 cat, 6.5ms\n",
      "image 12/320 /tmp/yolov8_data/test/images/051b0c4e-f7ad-417b-8f4f-2e76c2d6d6e7.jpg: 512x640 1 bowl, 6.4ms\n",
      "image 13/320 /tmp/yolov8_data/test/images/05d46164-a485-4e6d-8ae7-c73dab014b91.jpg: 512x640 (no detections), 6.4ms\n",
      "image 14/320 /tmp/yolov8_data/test/images/068d3dac-066b-47c2-8057-c5e9ceb48262.jpg: 512x640 (no detections), 6.4ms\n",
      "image 15/320 /tmp/yolov8_data/test/images/0714e5ee-8308-43b2-8092-cc2c7b3378fd.jpg: 512x640 1 bowl, 6.6ms\n",
      "image 16/320 /tmp/yolov8_data/test/images/07270b1b-84de-40d2-bbff-698bf3b91512.jpg: 512x640 (no detections), 6.2ms\n",
      "image 17/320 /tmp/yolov8_data/test/images/079c1eaa-541b-456c-8e42-3e408a3d29ec.jpg: 512x640 1 cake, 6.2ms\n",
      "image 18/320 /tmp/yolov8_data/test/images/08509852-29f4-452c-a4a6-e310edaa852d.jpg: 512x640 2 bowls, 6.2ms\n",
      "image 19/320 /tmp/yolov8_data/test/images/08796650-00da-45fc-800b-5e4407bc93ad.jpg: 512x640 (no detections), 6.2ms\n",
      "image 20/320 /tmp/yolov8_data/test/images/09b7e0c1-feee-4f70-a351-5a122ce92a1e.jpg: 512x640 (no detections), 6.3ms\n",
      "image 21/320 /tmp/yolov8_data/test/images/09c54f81-dbc0-4e30-abbc-a617102f6fc8.jpg: 512x640 1 cake, 6.2ms\n",
      "image 22/320 /tmp/yolov8_data/test/images/0a705c2b-b8eb-4b13-bc0c-63bb4a2fd166.jpg: 512x640 (no detections), 7.4ms\n",
      "image 23/320 /tmp/yolov8_data/test/images/0b987b88-9c1b-41f6-b54e-9536480312a5.jpg: 512x640 1 person, 6.2ms\n",
      "image 24/320 /tmp/yolov8_data/test/images/0c35f6e7-253c-4f2d-a7ce-b9ad244289ce.jpg: 512x640 (no detections), 6.2ms\n",
      "image 25/320 /tmp/yolov8_data/test/images/0c9420a5-7276-4269-81ec-36352b34ee41.jpg: 512x640 1 bowl, 1 donut, 6.2ms\n",
      "image 26/320 /tmp/yolov8_data/test/images/0d3d3ca3-4d84-4ee0-969f-496f81cca359.jpg: 512x640 1 donut, 1 cake, 6.4ms\n",
      "image 27/320 /tmp/yolov8_data/test/images/0d4d1e3d-c588-4cc0-9e3b-e30c0164f630.jpg: 512x640 1 person, 6.6ms\n",
      "image 28/320 /tmp/yolov8_data/test/images/0da502e2-08a1-4764-9e3e-ce5d3f4b0ffa.jpg: 512x640 1 cat, 1 donut, 6.2ms\n",
      "image 29/320 /tmp/yolov8_data/test/images/0f5635b7-a6b4-4800-b307-7c11ee9b6dfa.jpg: 512x640 (no detections), 6.1ms\n",
      "image 30/320 /tmp/yolov8_data/test/images/119c9e8d-3214-4179-b23f-7b40c60f071c.jpg: 512x640 (no detections), 5.9ms\n",
      "image 31/320 /tmp/yolov8_data/test/images/119d496d-8cf8-44cd-bf4a-2b5e5a737bce.jpg: 512x640 1 person, 6.2ms\n",
      "image 32/320 /tmp/yolov8_data/test/images/129a68e1-4547-4863-b6ed-ddd51c332546.jpg: 512x640 (no detections), 6.0ms\n",
      "image 33/320 /tmp/yolov8_data/test/images/1391693a-68b0-406f-83b4-ef4238e9e6d7.jpg: 512x640 1 cake, 6.0ms\n",
      "image 34/320 /tmp/yolov8_data/test/images/1392de5a-9a8d-4400-9236-d4734d9ebd2c.jpg: 512x640 1 bed, 5.9ms\n",
      "image 35/320 /tmp/yolov8_data/test/images/13a2abae-4c38-4c0a-936c-500b6c97a3cd.jpg: 512x640 (no detections), 5.8ms\n",
      "image 36/320 /tmp/yolov8_data/test/images/14177494-4eda-4ee2-ba8a-0ffe6033d4e3.jpg: 512x640 (no detections), 5.8ms\n",
      "image 37/320 /tmp/yolov8_data/test/images/141b4b51-34b2-4bb8-a968-bf352b9c50c9.jpg: 512x640 (no detections), 5.8ms\n",
      "image 38/320 /tmp/yolov8_data/test/images/1476c16a-2bec-40f0-ad30-06cbffa09187.jpg: 512x640 (no detections), 6.1ms\n",
      "image 39/320 /tmp/yolov8_data/test/images/1567b54f-28ac-438c-802e-31ffbeee562d.jpg: 512x640 (no detections), 6.1ms\n",
      "image 40/320 /tmp/yolov8_data/test/images/15c16a92-9d38-4b66-940d-df2ecc34b286.jpg: 512x640 1 cake, 9.0ms\n",
      "image 41/320 /tmp/yolov8_data/test/images/15e3ebb7-8dc7-4b2b-b93d-1b5731185c97.jpg: 512x640 1 cake, 5.8ms\n",
      "image 42/320 /tmp/yolov8_data/test/images/1677cdfd-0044-4ee5-8bcd-33a0c7b82ad8.jpg: 512x640 (no detections), 5.9ms\n",
      "image 43/320 /tmp/yolov8_data/test/images/18c735fd-d275-46af-a0f1-1f4fc2fef606.jpg: 512x640 (no detections), 6.1ms\n",
      "image 44/320 /tmp/yolov8_data/test/images/18e5d93b-50c5-4bae-bf8e-da14bd4c8a39.jpg: 512x640 1 person, 5.8ms\n",
      "image 45/320 /tmp/yolov8_data/test/images/19611980-f69f-4508-b358-6a828515ac90.jpg: 512x640 (no detections), 5.8ms\n",
      "image 46/320 /tmp/yolov8_data/test/images/197926f0-ede5-4391-bedd-12e66d655159.jpg: 512x640 1 person, 5.8ms\n",
      "image 47/320 /tmp/yolov8_data/test/images/19950a80-dfbb-4f72-903c-8b48e205dc9f.jpg: 512x640 1 cake, 5.8ms\n",
      "image 48/320 /tmp/yolov8_data/test/images/19ccf60f-7ada-42d8-b47c-a0e8054c5a9b.jpg: 512x640 1 cake, 5.8ms\n",
      "image 49/320 /tmp/yolov8_data/test/images/19f80c38-91a3-4d0f-aa3d-198ae4f7e30f.jpg: 512x640 1 banana, 5.8ms\n",
      "image 50/320 /tmp/yolov8_data/test/images/1a52b990-5326-4be3-be18-7e832d476343.jpg: 512x640 1 cake, 6.1ms\n",
      "image 51/320 /tmp/yolov8_data/test/images/1a5d6a2e-8c50-4590-b90a-f90d789da097.jpg: 512x640 (no detections), 6.7ms\n",
      "image 52/320 /tmp/yolov8_data/test/images/1a6f3432-be38-40c9-bc37-a98c60b28aed.jpg: 512x640 1 donut, 5.9ms\n",
      "image 53/320 /tmp/yolov8_data/test/images/1a97ff49-0725-4037-b533-5e1e44be3dfd.jpg: 512x640 (no detections), 5.9ms\n",
      "image 54/320 /tmp/yolov8_data/test/images/1b8086a8-54a7-40d6-9c29-54d23a9c2c6f.jpg: 512x640 (no detections), 6.1ms\n",
      "image 55/320 /tmp/yolov8_data/test/images/1b996aa4-c81b-4157-93e0-55a0aaa78089.jpg: 512x640 2 donuts, 6.1ms\n",
      "image 56/320 /tmp/yolov8_data/test/images/1bbf25b7-be2c-4d54-9166-59feeff9c234.jpg: 512x640 1 knife, 1 cake, 6.0ms\n",
      "image 57/320 /tmp/yolov8_data/test/images/1c4ddbcb-889e-4485-9d3e-35d861888c53.jpg: 512x640 1 donut, 11.5ms\n",
      "image 58/320 /tmp/yolov8_data/test/images/1c6cc338-6c81-443f-b775-a4e8eb8f05ca.jpg: 512x640 (no detections), 6.3ms\n",
      "image 59/320 /tmp/yolov8_data/test/images/1ca9f860-42e7-49bd-a90b-21cde711dd40.jpg: 512x640 1 cake, 7.3ms\n",
      "image 60/320 /tmp/yolov8_data/test/images/1d119601-469e-4685-b6e6-6f9501b5a331.jpg: 512x640 (no detections), 6.8ms\n",
      "image 61/320 /tmp/yolov8_data/test/images/1d41b7d6-48a9-49c8-9130-55e448ac46a8.jpg: 512x640 (no detections), 6.2ms\n",
      "image 62/320 /tmp/yolov8_data/test/images/1d97212b-7466-41f5-a119-723f8f161086.jpg: 512x640 (no detections), 5.9ms\n",
      "image 63/320 /tmp/yolov8_data/test/images/1dba6b4b-6d67-43ba-a3c2-928e9a8e95d4.jpg: 512x640 1 person, 5.9ms\n",
      "image 64/320 /tmp/yolov8_data/test/images/1e03a773-0ccf-4360-889f-328b0720b878.jpg: 512x640 1 cake, 6.6ms\n",
      "image 65/320 /tmp/yolov8_data/test/images/1e0651ae-2c14-49d5-b443-e4f1014d7df1.jpg: 512x640 (no detections), 5.9ms\n",
      "image 66/320 /tmp/yolov8_data/test/images/1f171e07-ed73-4e39-b17e-9e6fc95459c9.jpg: 512x640 (no detections), 5.8ms\n",
      "image 67/320 /tmp/yolov8_data/test/images/1fd2612b-18d5-4155-b426-72abaa45fac4.jpg: 512x640 1 bowl, 5.9ms\n",
      "image 68/320 /tmp/yolov8_data/test/images/2029d77f-86c4-49ee-bfe8-352d7deb171e.jpg: 512x640 (no detections), 5.9ms\n",
      "image 69/320 /tmp/yolov8_data/test/images/219aa4c7-4948-4a64-8224-17c41e9fea82.jpg: 512x640 (no detections), 6.7ms\n",
      "image 70/320 /tmp/yolov8_data/test/images/21d9d0f5-0003-4383-8c1d-dbd2867b9ea4.jpg: 512x640 (no detections), 5.9ms\n",
      "image 71/320 /tmp/yolov8_data/test/images/21f1c841-f5ad-43cc-9c62-3fc1a1658cc5.jpg: 512x640 (no detections), 6.0ms\n",
      "image 72/320 /tmp/yolov8_data/test/images/2248f4a1-3827-47a8-922e-1884cad3649d.jpg: 512x640 (no detections), 5.8ms\n",
      "image 73/320 /tmp/yolov8_data/test/images/2301e1bd-9d61-4159-89f9-2382043c4e0a.jpg: 512x640 (no detections), 5.8ms\n",
      "image 74/320 /tmp/yolov8_data/test/images/238e76e9-d1fc-4c83-8418-e9a268cb66e0.jpg: 512x640 1 cake, 5.9ms\n",
      "image 75/320 /tmp/yolov8_data/test/images/249777ea-7b95-4286-9337-c710d010e787.jpg: 512x640 1 person, 6.0ms\n",
      "image 76/320 /tmp/yolov8_data/test/images/249eb342-8e7d-4dab-9813-cc6983538d6c.jpg: 512x640 (no detections), 6.0ms\n",
      "image 77/320 /tmp/yolov8_data/test/images/2608470f-6d89-4d33-83a8-de62c1e72b3a.jpg: 512x640 1 cat, 6.2ms\n",
      "image 78/320 /tmp/yolov8_data/test/images/273e99cc-b078-4568-a393-55e0ab869fb0.jpg: 512x640 3 teddy bears, 6.2ms\n",
      "image 79/320 /tmp/yolov8_data/test/images/27437eac-cee2-4640-bcc0-e5ed89d03e7e.jpg: 512x640 1 hot dog, 5.8ms\n",
      "image 80/320 /tmp/yolov8_data/test/images/2788e767-1654-4b21-8d06-22c4a8f3f22b.jpg: 512x640 (no detections), 10.9ms\n",
      "image 81/320 /tmp/yolov8_data/test/images/28419d9a-cafb-41dc-967d-d23ff415db23.jpg: 512x640 1 cake, 9.9ms\n",
      "image 82/320 /tmp/yolov8_data/test/images/2842485f-28e7-4061-826a-f5abbb43f16c.jpg: 512x640 1 donut, 10.5ms\n",
      "image 83/320 /tmp/yolov8_data/test/images/285d4828-1400-43a1-99f7-03f5b2f84ba1.jpg: 512x640 1 cake, 10.1ms\n",
      "image 84/320 /tmp/yolov8_data/test/images/288a099f-8902-46ff-89c3-8475d71f70e8.jpg: 512x640 1 cake, 10.5ms\n",
      "image 85/320 /tmp/yolov8_data/test/images/296d0174-71f2-4022-9cad-5f14517ddd43.jpg: 512x640 (no detections), 8.2ms\n",
      "image 86/320 /tmp/yolov8_data/test/images/29d0baf9-5e97-401e-a788-ac46d55f93c9.jpg: 512x640 1 bowl, 1 carrot, 12.1ms\n",
      "image 87/320 /tmp/yolov8_data/test/images/2a9ff8dc-9def-4626-9d23-70b23e3e042e.jpg: 512x640 (no detections), 9.5ms\n",
      "image 88/320 /tmp/yolov8_data/test/images/2b4f4b47-38af-456d-a718-5aa60c8eb86d.jpg: 512x640 (no detections), 7.0ms\n",
      "image 89/320 /tmp/yolov8_data/test/images/2bd8410d-b584-4be0-9760-1985f49f508d.jpg: 512x640 1 banana, 9.2ms\n",
      "image 90/320 /tmp/yolov8_data/test/images/2c3d00a1-22a5-48e6-bf4f-737606d98a34.jpg: 512x640 (no detections), 10.8ms\n",
      "image 91/320 /tmp/yolov8_data/test/images/2cfafe68-7e08-4e01-8e96-0421dadc3e37.jpg: 512x640 (no detections), 12.7ms\n",
      "image 92/320 /tmp/yolov8_data/test/images/2d0ab1d2-fec4-4704-90d5-556f2dff9d18.jpg: 512x640 (no detections), 7.4ms\n",
      "image 93/320 /tmp/yolov8_data/test/images/2e122e62-d4a2-4096-a0b6-f4f72fb1af70.jpg: 512x640 1 person, 1 orange, 7.4ms\n",
      "image 94/320 /tmp/yolov8_data/test/images/2f90b37f-c482-471c-8a4a-10f1ffa3a7eb.jpg: 512x640 1 sandwich, 1 donut, 11.8ms\n",
      "image 95/320 /tmp/yolov8_data/test/images/301718e9-bbdf-4cdd-a665-908c36ae31ea.jpg: 512x640 (no detections), 7.7ms\n",
      "image 96/320 /tmp/yolov8_data/test/images/3053ab7e-4ff3-42d0-960c-09e889381dab.jpg: 512x640 1 cake, 7.4ms\n",
      "image 97/320 /tmp/yolov8_data/test/images/30d4d435-cce4-4788-a544-948a8c98cd5f.jpg: 512x640 1 bowl, 7.3ms\n",
      "image 98/320 /tmp/yolov8_data/test/images/3124302b-9fe9-46f4-a346-f1e6945872d2.jpg: 512x640 (no detections), 7.0ms\n",
      "image 99/320 /tmp/yolov8_data/test/images/31bd6814-46f4-4296-a8ad-22c5ee4206dd.jpg: 512x640 1 cake, 10.1ms\n",
      "image 100/320 /tmp/yolov8_data/test/images/3260e502-31c8-4e26-b614-cba6ee9a1500.jpg: 512x640 (no detections), 7.4ms\n",
      "image 101/320 /tmp/yolov8_data/test/images/32f1e163-9019-43e5-a2e8-54be53402202.jpg: 512x640 1 tie, 1 laptop, 7.5ms\n",
      "image 102/320 /tmp/yolov8_data/test/images/352ba951-2d87-4772-89f6-49c3bb06db3e.jpg: 512x640 (no detections), 7.5ms\n",
      "image 103/320 /tmp/yolov8_data/test/images/357c5c4a-31fa-47c3-920f-50ac376e4c2a.jpg: 512x640 1 person, 7.7ms\n",
      "image 104/320 /tmp/yolov8_data/test/images/364c7d9c-f5f2-4af4-9a7e-62f8381d61fa.jpg: 512x640 (no detections), 12.7ms\n",
      "image 105/320 /tmp/yolov8_data/test/images/366ba7d3-b0ac-4a31-99a9-ad2635beed40.jpg: 512x640 (no detections), 9.0ms\n",
      "image 106/320 /tmp/yolov8_data/test/images/37ab3ed0-ff57-4138-bfbc-559cacb2fad5.jpg: 512x640 1 person, 7.4ms\n",
      "image 107/320 /tmp/yolov8_data/test/images/37d19413-4d04-48ca-bc3a-b616e23e4ecf.jpg: 512x640 (no detections), 7.4ms\n",
      "image 108/320 /tmp/yolov8_data/test/images/37e21c86-d49e-45ff-82d6-b9ba47709738.jpg: 512x640 (no detections), 7.8ms\n",
      "image 109/320 /tmp/yolov8_data/test/images/38ccd3a2-ce3e-4b87-84b5-5161c4aa2797.jpg: 512x640 (no detections), 7.6ms\n",
      "image 110/320 /tmp/yolov8_data/test/images/3a8cc8a8-2ca6-45dd-97aa-375c72a1e190.jpg: 512x640 1 pizza, 1 cake, 11.2ms\n",
      "image 111/320 /tmp/yolov8_data/test/images/3aeb1ebc-1274-4fe8-ae59-940c583a83bd.jpg: 512x640 (no detections), 7.6ms\n",
      "image 112/320 /tmp/yolov8_data/test/images/3b0e5d79-7136-4d64-809f-a75a7ce4458d.jpg: 512x640 (no detections), 9.5ms\n",
      "image 113/320 /tmp/yolov8_data/test/images/3b38e82c-3f44-45ab-a4ad-1cbd1b7fbdc2.jpg: 512x640 1 cake, 10.1ms\n",
      "image 114/320 /tmp/yolov8_data/test/images/3b3d6a91-9713-417e-adb7-5c3a2d65655c.jpg: 512x640 1 donut, 7.8ms\n",
      "image 115/320 /tmp/yolov8_data/test/images/3b77b2f5-5a77-47b9-9475-477c26ec78d7.jpg: 512x640 1 person, 7.7ms\n",
      "image 116/320 /tmp/yolov8_data/test/images/3bf2985c-07ae-4415-be36-e69712bdba24.jpg: 512x640 1 donut, 14.9ms\n",
      "image 117/320 /tmp/yolov8_data/test/images/3d266fb8-1d98-4e93-afd8-d339f4ad57bf.jpg: 512x640 (no detections), 7.5ms\n",
      "image 118/320 /tmp/yolov8_data/test/images/3d3e760a-b3d2-4f91-ab6e-4cc554393df3.jpg: 512x640 1 person, 7.4ms\n",
      "image 119/320 /tmp/yolov8_data/test/images/3e41b720-3049-41d4-8d7c-f25c0c3c7bd9.jpg: 512x640 1 donut, 1 cake, 7.6ms\n",
      "image 120/320 /tmp/yolov8_data/test/images/3f1a68b4-9a63-40d5-8375-f9bc7fc2fb5b.jpg: 512x640 (no detections), 7.3ms\n",
      "image 121/320 /tmp/yolov8_data/test/images/3f3eacce-e63b-45f4-a890-ade671eb1135.jpg: 512x640 (no detections), 10.4ms\n",
      "image 122/320 /tmp/yolov8_data/test/images/3fa22fba-ae0c-4502-a314-1c0c421b9127.jpg: 512x640 1 tv, 11.0ms\n",
      "image 123/320 /tmp/yolov8_data/test/images/3fe68ea3-2c1c-4577-99b6-43c03e853848.jpg: 512x640 1 banana, 8.0ms\n",
      "image 124/320 /tmp/yolov8_data/test/images/3fff713a-a007-4ac9-a67d-e646098c5231.jpg: 512x640 1 sandwich, 1 hot dog, 7.1ms\n",
      "image 125/320 /tmp/yolov8_data/test/images/40fd44ce-9d2a-406b-9e01-a961a5fc9687.jpg: 512x640 (no detections), 6.9ms\n",
      "image 126/320 /tmp/yolov8_data/test/images/4145f8a7-d4a5-4416-ba7f-ee692d0f764e.jpg: 512x640 1 vase, 7.5ms\n",
      "image 127/320 /tmp/yolov8_data/test/images/420e19d8-69d2-4157-a6ca-656206886cde.jpg: 512x640 1 donut, 7.0ms\n",
      "image 128/320 /tmp/yolov8_data/test/images/42f193b1-8cff-4b91-987a-5d0bdf9a1380.jpg: 512x640 1 pizza, 1 cake, 7.1ms\n",
      "image 129/320 /tmp/yolov8_data/test/images/4461f03b-cd75-4b2f-8634-b90d0b61c829.jpg: 512x640 1 person, 8.4ms\n",
      "image 130/320 /tmp/yolov8_data/test/images/44c2002a-abd6-42d9-8122-a131040e154c.jpg: 512x640 (no detections), 7.6ms\n",
      "image 131/320 /tmp/yolov8_data/test/images/46c77000-41c4-4bea-b252-6fa56cdb70e9.jpg: 512x640 1 carrot, 6.9ms\n",
      "image 132/320 /tmp/yolov8_data/test/images/47fefa1d-19a3-480c-92fd-2fb24d972e49.jpg: 512x640 1 bowl, 1 donut, 7.4ms\n",
      "image 133/320 /tmp/yolov8_data/test/images/4982f08b-975e-4570-8674-eeed7dca5f05.jpg: 512x640 1 fire hydrant, 7.0ms\n",
      "image 134/320 /tmp/yolov8_data/test/images/4b781702-e434-418e-8b62-7519aefa8b71.jpg: 512x640 1 bed, 7.7ms\n",
      "image 135/320 /tmp/yolov8_data/test/images/4b80a36d-6b50-4315-a3e1-3e35a9293f24.jpg: 512x640 (no detections), 8.4ms\n",
      "image 136/320 /tmp/yolov8_data/test/images/4c092662-b8cf-4cd5-ade1-4e1ac80ad8f8.jpg: 512x640 1 sandwich, 7.0ms\n",
      "image 137/320 /tmp/yolov8_data/test/images/4c42ed3a-a609-44c8-bf79-8f9657a235b2.jpg: 512x640 (no detections), 8.1ms\n",
      "image 138/320 /tmp/yolov8_data/test/images/4c653e67-57f6-49c5-a139-20de06ce4938.jpg: 512x640 (no detections), 7.0ms\n",
      "image 139/320 /tmp/yolov8_data/test/images/4c87c996-254a-477e-9383-3a0a31c38ba0.jpg: 512x640 (no detections), 7.0ms\n",
      "image 140/320 /tmp/yolov8_data/test/images/4e4074f7-1fc7-46ac-9d13-95a67f25e73a.jpg: 512x640 1 person, 7.0ms\n",
      "image 141/320 /tmp/yolov8_data/test/images/4ef28303-6912-4aac-aa8f-b36ae3697096.jpg: 512x640 1 bed, 1 teddy bear, 7.1ms\n",
      "image 142/320 /tmp/yolov8_data/test/images/4ef59be5-4f68-40c1-b25f-fa0af4cb97d0.jpg: 512x640 (no detections), 7.0ms\n",
      "image 143/320 /tmp/yolov8_data/test/images/501681e0-6c59-4e89-8170-36d2ab45f254.jpg: 512x640 1 donut, 7.1ms\n",
      "image 144/320 /tmp/yolov8_data/test/images/50964a22-20e1-467a-8d12-f54bc4e9bc65.jpg: 512x640 (no detections), 7.3ms\n",
      "image 145/320 /tmp/yolov8_data/test/images/51327bda-1c91-4a09-a896-e4a3c7221396.jpg: 512x640 1 carrot, 7.1ms\n",
      "image 146/320 /tmp/yolov8_data/test/images/51350013-5a58-4976-8e28-0872c9b92a3f.jpg: 512x640 1 banana, 1 cake, 7.1ms\n",
      "image 147/320 /tmp/yolov8_data/test/images/51cacc12-b4f0-4f29-b7f5-20706932a617.jpg: 512x640 1 person, 1 laptop, 8.3ms\n",
      "image 148/320 /tmp/yolov8_data/test/images/51dd6678-6401-4bb8-9edc-efd67f985756.jpg: 512x640 (no detections), 7.1ms\n",
      "image 149/320 /tmp/yolov8_data/test/images/52134412-ab36-4fdb-84ef-225f60693245.jpg: 512x640 1 person, 10.4ms\n",
      "image 150/320 /tmp/yolov8_data/test/images/5269c5eb-a1f7-45e1-9537-6827a9b3d244.jpg: 512x640 1 cake, 10.4ms\n",
      "image 151/320 /tmp/yolov8_data/test/images/52eb18e9-b328-461f-8961-280bc421104d.jpg: 512x640 (no detections), 10.6ms\n",
      "image 152/320 /tmp/yolov8_data/test/images/533392c4-eb09-48c8-b68d-2a0c442d1756.jpg: 512x640 2 persons, 9.5ms\n",
      "image 153/320 /tmp/yolov8_data/test/images/53933f5b-f849-40de-81ff-34abec265f8f.jpg: 512x640 (no detections), 7.9ms\n",
      "image 154/320 /tmp/yolov8_data/test/images/53a6b3c5-94a8-4701-a783-f9e705389983.jpg: 512x640 (no detections), 9.9ms\n",
      "image 155/320 /tmp/yolov8_data/test/images/57326cc4-a5e6-4159-8efa-3c5721236fac.jpg: 512x640 1 elephant, 1 bowl, 7.6ms\n",
      "image 156/320 /tmp/yolov8_data/test/images/577b7101-e4c9-414f-b733-798e32aea526.jpg: 512x640 (no detections), 7.6ms\n",
      "image 157/320 /tmp/yolov8_data/test/images/577d08fc-2465-4c9b-b31b-da2b4908952f.jpg: 512x640 1 apple, 7.6ms\n",
      "image 158/320 /tmp/yolov8_data/test/images/5832f712-73e0-4e05-ba9c-7f8791378f07.jpg: 512x640 1 bottle, 1 cake, 7.9ms\n",
      "image 159/320 /tmp/yolov8_data/test/images/592cdec4-d325-4c88-abc9-1b51a62b610c.jpg: 512x640 1 person, 7.4ms\n",
      "image 160/320 /tmp/yolov8_data/test/images/5a41b0e5-667c-4ba0-83a1-7a7b59be72a9.jpg: 512x640 (no detections), 9.4ms\n",
      "image 161/320 /tmp/yolov8_data/test/images/5b41e2b1-7211-476b-8503-d69e0a4ac65b.jpg: 512x640 (no detections), 7.5ms\n",
      "image 162/320 /tmp/yolov8_data/test/images/5b4983dc-f6a5-460c-8a82-ca4bf72228a8.jpg: 512x640 (no detections), 10.7ms\n",
      "image 163/320 /tmp/yolov8_data/test/images/5bbc2a59-aa26-4069-a48f-10911317e5c1.jpg: 512x640 1 cake, 11.2ms\n",
      "image 164/320 /tmp/yolov8_data/test/images/5bea89c7-3057-467e-bcc6-466f8b87e668.jpg: 512x640 1 orange, 8.7ms\n",
      "image 165/320 /tmp/yolov8_data/test/images/5c7b4d18-acce-4c7e-89e1-8f76e01705d5.jpg: 512x640 (no detections), 7.4ms\n",
      "image 166/320 /tmp/yolov8_data/test/images/5e5d7249-468c-4cdf-ba79-42d4802903c3.jpg: 512x640 (no detections), 7.4ms\n",
      "image 167/320 /tmp/yolov8_data/test/images/5e73a118-4d47-495e-bd89-98df4c156533.jpg: 512x640 (no detections), 7.8ms\n",
      "image 168/320 /tmp/yolov8_data/test/images/5e7799a3-4d78-4267-8d3f-e038c2441160.jpg: 512x640 (no detections), 7.4ms\n",
      "image 169/320 /tmp/yolov8_data/test/images/5e8eeff6-7790-428e-a220-4d1eee4f96f8.jpg: 512x640 (no detections), 7.4ms\n",
      "image 170/320 /tmp/yolov8_data/test/images/5f4cd3f2-9249-4c3c-bf50-670c91495fd7.jpg: 512x640 (no detections), 7.3ms\n",
      "image 171/320 /tmp/yolov8_data/test/images/604623b3-e75f-478d-a4e3-7b156209c743.jpg: 512x640 (no detections), 7.4ms\n",
      "image 172/320 /tmp/yolov8_data/test/images/604f920c-05d2-4481-94a9-d8d5978654ab.jpg: 512x640 (no detections), 9.8ms\n",
      "image 173/320 /tmp/yolov8_data/test/images/607347c8-de2e-4e4f-a2fd-b09a7c898d24.jpg: 512x640 1 carrot, 9.8ms\n",
      "image 174/320 /tmp/yolov8_data/test/images/6108778c-c5c0-43c6-82b2-8855532c0127.jpg: 512x640 1 donut, 7.0ms\n",
      "image 175/320 /tmp/yolov8_data/test/images/61324eab-b29f-4299-ba41-024ec5e21fc5.jpg: 512x640 (no detections), 7.0ms\n",
      "image 176/320 /tmp/yolov8_data/test/images/6547bda5-4e19-4354-a06b-34ca97053b97.jpg: 512x640 1 cake, 1 tv, 7.0ms\n",
      "image 177/320 /tmp/yolov8_data/test/images/659e1249-3863-4f9c-bd8c-460fbaababf2.jpg: 512x640 (no detections), 7.0ms\n",
      "image 178/320 /tmp/yolov8_data/test/images/66403950-f8a2-4e01-9328-3ee9c2d9d0ec.jpg: 512x640 (no detections), 8.3ms\n",
      "image 179/320 /tmp/yolov8_data/test/images/665efa87-cf99-48b4-a391-eb39bf376d70.jpg: 512x640 1 cake, 7.0ms\n",
      "image 180/320 /tmp/yolov8_data/test/images/66b35394-7de2-4c06-b302-61ae1b48de2a.jpg: 512x640 (no detections), 9.5ms\n",
      "image 181/320 /tmp/yolov8_data/test/images/683c2b9b-7e3a-4331-b833-74010b8e81f7.jpg: 512x640 1 donut, 7.1ms\n",
      "image 182/320 /tmp/yolov8_data/test/images/69ce34fe-e87a-43b3-84eb-ca6726c06f75.jpg: 512x640 1 person, 7.1ms\n",
      "image 183/320 /tmp/yolov8_data/test/images/6a0b6d4d-7450-4191-862b-b990301cf457.jpg: 512x640 1 teddy bear, 8.4ms\n",
      "image 184/320 /tmp/yolov8_data/test/images/6a3199aa-67eb-4a21-9da4-efad82c42be3.jpg: 512x640 1 cake, 7.1ms\n",
      "image 185/320 /tmp/yolov8_data/test/images/6b7e51ec-5139-49f8-9211-916c7dadbc7f.jpg: 512x640 (no detections), 7.9ms\n",
      "image 186/320 /tmp/yolov8_data/test/images/6c2c3822-8a1c-4088-8588-c2a7858bd7d2.jpg: 512x640 (no detections), 7.1ms\n",
      "image 187/320 /tmp/yolov8_data/test/images/6c8b7173-e655-4f43-a4fe-4ef6eda073d8.jpg: 512x640 (no detections), 8.0ms\n",
      "image 188/320 /tmp/yolov8_data/test/images/6cfecf81-c42c-44ed-8c34-5ad128e58734.jpg: 512x640 (no detections), 7.1ms\n",
      "image 189/320 /tmp/yolov8_data/test/images/6db58bca-a1b7-47e5-b354-951e062ae8e3.jpg: 512x640 (no detections), 7.1ms\n",
      "image 190/320 /tmp/yolov8_data/test/images/6e65bb10-5bad-43a5-a2b5-35d1888f6c57.jpg: 512x640 (no detections), 8.7ms\n",
      "image 191/320 /tmp/yolov8_data/test/images/6e713570-afd6-47dd-9a11-a56fa147f045.jpg: 512x640 1 orange, 1 donut, 10.5ms\n",
      "image 192/320 /tmp/yolov8_data/test/images/6ff201b7-5e71-456c-ae31-727d7fedb98f.jpg: 512x640 1 book, 8.3ms\n",
      "image 193/320 /tmp/yolov8_data/test/images/70191519-63ec-43ac-a7e2-7c01f11e2b3d.jpg: 512x640 1 cake, 13.7ms\n",
      "image 194/320 /tmp/yolov8_data/test/images/716d75fc-6dfe-400c-9149-4d20fa1b02e8.jpg: 512x640 (no detections), 10.2ms\n",
      "image 195/320 /tmp/yolov8_data/test/images/71ae264a-c991-41c2-a0ac-8766a8029ccd.jpg: 512x640 1 teddy bear, 7.5ms\n",
      "image 196/320 /tmp/yolov8_data/test/images/73843774-5d9e-492d-b113-e2d4e0cdfd32.jpg: 512x640 1 cake, 7.6ms\n",
      "image 197/320 /tmp/yolov8_data/test/images/768a17e9-d8de-40e1-8384-c22ba2ecad3d.jpg: 512x640 1 apple, 8.8ms\n",
      "image 198/320 /tmp/yolov8_data/test/images/770fa1a7-b493-4bba-add5-446689911724.jpg: 512x640 1 donut, 1 cake, 10.5ms\n",
      "image 199/320 /tmp/yolov8_data/test/images/7714ccab-d269-4ffa-b40d-7125f056e3f7.jpg: 512x640 2 donuts, 8.3ms\n",
      "image 200/320 /tmp/yolov8_data/test/images/772b410f-6a90-4287-8f65-77b63ab7528f.jpg: 512x640 (no detections), 10.5ms\n",
      "image 201/320 /tmp/yolov8_data/test/images/7756dc68-5afc-4954-bb3f-ff222eadd390.jpg: 512x640 1 banana, 10.6ms\n",
      "image 202/320 /tmp/yolov8_data/test/images/78687b1c-e395-4fc1-a719-d51ba8c586d4.jpg: 512x640 (no detections), 8.5ms\n",
      "image 203/320 /tmp/yolov8_data/test/images/78ecb587-0d61-4842-a049-ae134f3fff6a.jpg: 512x640 1 teddy bear, 12.4ms\n",
      "image 204/320 /tmp/yolov8_data/test/images/794beba5-bd66-4275-a8ff-c1c1e800daf2.jpg: 512x640 (no detections), 11.8ms\n",
      "image 205/320 /tmp/yolov8_data/test/images/79ee1d4f-61ba-4151-bca7-fb2403ebcd1c.jpg: 512x640 1 orange, 12.7ms\n",
      "image 206/320 /tmp/yolov8_data/test/images/7a57d580-f1e6-403d-a844-9ec23a8c82a6.jpg: 512x640 1 person, 10.1ms\n",
      "image 207/320 /tmp/yolov8_data/test/images/7ba07af9-bc37-4337-ae33-42231c7febe1.jpg: 512x640 1 person, 7.7ms\n",
      "image 208/320 /tmp/yolov8_data/test/images/7bf95fdd-0f8b-44f7-976d-fa91185ae8bc.jpg: 512x640 (no detections), 10.4ms\n",
      "image 209/320 /tmp/yolov8_data/test/images/7c259997-2e51-4943-bd75-52b4e99f47ed.jpg: 512x640 (no detections), 8.2ms\n",
      "image 210/320 /tmp/yolov8_data/test/images/7c8923ec-2a8b-4f65-96d9-1dbf458cc8bf.jpg: 512x640 (no detections), 7.1ms\n",
      "image 211/320 /tmp/yolov8_data/test/images/7de0e82c-7990-4ee2-9798-3c63fdade6d2.jpg: 512x640 (no detections), 10.3ms\n",
      "image 212/320 /tmp/yolov8_data/test/images/7dfe49b6-07f1-4e5a-ba52-bb2497d62d04.jpg: 512x640 (no detections), 17.9ms\n",
      "image 213/320 /tmp/yolov8_data/test/images/7e26c11d-ecfb-4a0b-a6e4-15c1c993e70b.jpg: 512x640 (no detections), 11.8ms\n",
      "image 214/320 /tmp/yolov8_data/test/images/7e9d71b4-dea9-4ab5-a2ca-d011ca65dfc3.jpg: 512x640 1 cake, 12.1ms\n",
      "image 215/320 /tmp/yolov8_data/test/images/7fdcd68e-e2cb-4bae-abbc-566823763118.jpg: 512x640 1 person, 11.0ms\n",
      "image 216/320 /tmp/yolov8_data/test/images/80145f3c-94ed-4b02-93ff-f884977e0b55.jpg: 512x640 1 cake, 10.4ms\n",
      "image 217/320 /tmp/yolov8_data/test/images/803b682d-7517-4224-bb19-f86b8f8bd6e9.jpg: 512x640 (no detections), 8.3ms\n",
      "image 218/320 /tmp/yolov8_data/test/images/806b485d-f403-4eab-b405-14d19bd9665e.jpg: 512x640 1 cake, 8.7ms\n",
      "image 219/320 /tmp/yolov8_data/test/images/80eb467c-9ba0-4f59-a9c0-267438a9d389.jpg: 512x640 1 cat, 7.1ms\n",
      "image 220/320 /tmp/yolov8_data/test/images/812689d5-df75-4175-a61c-0e9cac66c93f.jpg: 512x640 (no detections), 10.1ms\n",
      "image 221/320 /tmp/yolov8_data/test/images/816bd254-13e6-4760-b48b-44c71fc54944.jpg: 512x640 1 teddy bear, 9.8ms\n",
      "image 222/320 /tmp/yolov8_data/test/images/81b67cd4-2bb8-4240-b986-7a0b5ab0cf32.jpg: 512x640 1 bowl, 10.8ms\n",
      "image 223/320 /tmp/yolov8_data/test/images/81d3d616-566a-4d6e-babb-dbd92b205adc.jpg: 512x640 (no detections), 10.7ms\n",
      "image 224/320 /tmp/yolov8_data/test/images/81dd64d9-7fc8-4ddc-b86b-9c45f42876b0.jpg: 512x640 1 person, 1 laptop, 11.3ms\n",
      "image 225/320 /tmp/yolov8_data/test/images/81f19330-a09f-4022-b697-819e66a5d6e9.jpg: 512x640 (no detections), 10.7ms\n",
      "image 226/320 /tmp/yolov8_data/test/images/82315326-4999-4ecb-99f4-400d894fc6f8.jpg: 512x640 (no detections), 11.5ms\n",
      "image 227/320 /tmp/yolov8_data/test/images/82447158-b261-4128-896f-23dc0366d4da.jpg: 512x640 1 bowl, 1 cake, 10.5ms\n",
      "image 228/320 /tmp/yolov8_data/test/images/824d23e3-d425-4b3f-b6f8-3fb9a95bb412.jpg: 512x640 1 bed, 11.4ms\n",
      "image 229/320 /tmp/yolov8_data/test/images/82d4331d-89e2-497c-aa78-5f93121969da.jpg: 512x640 (no detections), 14.6ms\n",
      "image 230/320 /tmp/yolov8_data/test/images/84021430-f577-447f-b103-215b82e12843.jpg: 512x640 1 bowl, 11.5ms\n",
      "image 231/320 /tmp/yolov8_data/test/images/8435d203-4e3e-49e8-a3ab-484edfef3d07.jpg: 512x640 (no detections), 10.0ms\n",
      "image 232/320 /tmp/yolov8_data/test/images/87df4105-14f8-43ad-b371-aa64e5845be3.jpg: 512x640 1 sandwich, 6.4ms\n",
      "image 233/320 /tmp/yolov8_data/test/images/881783fa-8f0a-4ccd-83c8-5e9cba09385b.jpg: 512x640 1 bowl, 6.4ms\n",
      "image 234/320 /tmp/yolov8_data/test/images/88bac715-dafc-455c-a8ab-f286c1265802.jpg: 512x640 1 cake, 6.6ms\n",
      "image 235/320 /tmp/yolov8_data/test/images/890caec6-3831-481e-a90a-cfb023e46860.jpg: 512x640 3 bananas, 6.4ms\n",
      "image 236/320 /tmp/yolov8_data/test/images/8a5820e3-ac9c-40c6-9d8d-ff5085eb8506.jpg: 512x640 (no detections), 6.4ms\n",
      "image 237/320 /tmp/yolov8_data/test/images/8b178efc-08c2-43fd-bd77-e4c40f1786ca.jpg: 512x640 1 dog, 1 sports ball, 6.9ms\n",
      "image 238/320 /tmp/yolov8_data/test/images/8b4b05ec-4303-414f-970e-4503bd2e2491.jpg: 512x640 (no detections), 6.4ms\n",
      "image 239/320 /tmp/yolov8_data/test/images/8ba3968c-e27d-4536-ad92-8591883e1571.jpg: 512x640 (no detections), 6.4ms\n",
      "image 240/320 /tmp/yolov8_data/test/images/8ba72788-7171-4875-9ee2-831408110721.jpg: 512x640 1 bowl, 6.5ms\n",
      "image 241/320 /tmp/yolov8_data/test/images/8be7421d-5217-442c-9376-81975b1a4533.jpg: 512x640 1 hot dog, 6.4ms\n",
      "image 242/320 /tmp/yolov8_data/test/images/8c24abe1-240c-4633-89a2-eec6ea2f55f5.jpg: 512x640 1 cake, 7.0ms\n",
      "image 243/320 /tmp/yolov8_data/test/images/8ca2c552-85bd-4f37-bac1-ba55913f242d.jpg: 512x640 (no detections), 6.6ms\n",
      "image 244/320 /tmp/yolov8_data/test/images/8cdf4232-e4a5-428a-871f-67758c041cbb.jpg: 512x640 1 bowl, 1 dining table, 1 book, 6.4ms\n",
      "image 245/320 /tmp/yolov8_data/test/images/8d3f0afb-c89b-4390-8ecf-623754232e64.jpg: 512x640 1 cake, 6.4ms\n",
      "image 246/320 /tmp/yolov8_data/test/images/8d59a679-a24d-409b-911f-d35e080bb990.jpg: 512x640 1 cake, 6.6ms\n",
      "image 247/320 /tmp/yolov8_data/test/images/8d8e53e6-2f73-45df-98f5-88cfb50958e7.jpg: 512x640 1 cake, 6.4ms\n",
      "image 248/320 /tmp/yolov8_data/test/images/8db29cc0-8f98-4986-b115-9901b33f3114.jpg: 512x640 (no detections), 7.5ms\n",
      "image 249/320 /tmp/yolov8_data/test/images/8ea05ad6-2986-42af-a856-ccc3ac9d704c.jpg: 512x640 (no detections), 7.6ms\n",
      "image 250/320 /tmp/yolov8_data/test/images/8fe1f15d-9423-4334-b63a-6446fbf2f59c.jpg: 512x640 (no detections), 5.9ms\n",
      "image 251/320 /tmp/yolov8_data/test/images/920d20ad-9c40-4be6-b2e1-506e0393887e.jpg: 512x640 1 cake, 5.9ms\n",
      "image 252/320 /tmp/yolov8_data/test/images/92115efe-9e92-4098-a84d-64a934f1b964.jpg: 512x640 1 person, 1 laptop, 6.2ms\n",
      "image 253/320 /tmp/yolov8_data/test/images/927bb7b7-7d03-475e-abde-3d1f4b691f7e.jpg: 512x640 (no detections), 7.1ms\n",
      "image 254/320 /tmp/yolov8_data/test/images/937a44fd-69c2-45bf-b232-157d561a7d75.jpg: 512x640 (no detections), 6.2ms\n",
      "image 255/320 /tmp/yolov8_data/test/images/93c4e9c1-43fb-461d-8398-b3aa8ba1ffa7.jpg: 512x640 1 person, 8.0ms\n",
      "image 256/320 /tmp/yolov8_data/test/images/9497a40e-4bc1-44f4-9ecd-c6f157dd0857.jpg: 512x640 (no detections), 5.9ms\n",
      "image 257/320 /tmp/yolov8_data/test/images/94cdebab-850b-4601-b68d-f0de7bc70f8f.jpg: 512x640 1 cake, 6.5ms\n",
      "image 258/320 /tmp/yolov8_data/test/images/953f4459-c1db-4d99-9783-1c3e9772214e.jpg: 512x640 1 banana, 1 cake, 1 tv, 6.1ms\n",
      "image 259/320 /tmp/yolov8_data/test/images/959c8a66-48fe-4eec-9dbd-d40c928d5ad6.jpg: 512x640 (no detections), 6.4ms\n",
      "image 260/320 /tmp/yolov8_data/test/images/968d0fc0-9e59-409c-b44e-6d9d491ed50b.jpg: 512x640 1 cake, 6.0ms\n",
      "image 261/320 /tmp/yolov8_data/test/images/96db4f1e-e0fa-4739-b291-53031bce6a44.jpg: 512x640 (no detections), 5.9ms\n",
      "image 262/320 /tmp/yolov8_data/test/images/9702b097-4548-400e-bfe3-3aa1d8cfb7a0.jpg: 512x640 (no detections), 6.0ms\n",
      "image 263/320 /tmp/yolov8_data/test/images/99615024-3048-4e38-bc5b-8f258f84cce8.jpg: 512x640 (no detections), 6.0ms\n",
      "image 264/320 /tmp/yolov8_data/test/images/9a4115fd-c56b-4298-b517-46ef0fdfbffd.jpg: 512x640 1 person, 1 banana, 5.9ms\n",
      "image 265/320 /tmp/yolov8_data/test/images/9ae430b7-7fcd-454e-9da3-25e1b0a125d0.jpg: 512x640 (no detections), 6.8ms\n",
      "image 266/320 /tmp/yolov8_data/test/images/9b26369a-22bd-4118-add3-16223837b40d.jpg: 512x640 (no detections), 6.0ms\n",
      "image 267/320 /tmp/yolov8_data/test/images/9b5b4ae6-ad01-41da-bd5c-539bd868a192.jpg: 512x640 1 bowl, 1 carrot, 1 donut, 10.3ms\n",
      "image 268/320 /tmp/yolov8_data/test/images/9b87c32e-ddad-4faa-b329-752ab7ed5d18.jpg: 512x640 1 pizza, 8.6ms\n",
      "image 269/320 /tmp/yolov8_data/test/images/9bd429fa-b80a-448a-90ef-dc8a5976c2d6.jpg: 512x640 1 donut, 6.0ms\n",
      "image 270/320 /tmp/yolov8_data/test/images/9be98edd-2993-43e4-abfd-85e69da69d47.jpg: 512x640 1 cake, 6.0ms\n",
      "image 271/320 /tmp/yolov8_data/test/images/9ced8b65-6c23-41ce-a347-ca72ba56fce2.jpg: 512x640 1 fire hydrant, 5.9ms\n",
      "image 272/320 /tmp/yolov8_data/test/images/9d23c2e9-3229-49fc-ad1e-519b9ded9ee4.jpg: 512x640 (no detections), 7.5ms\n",
      "image 273/320 /tmp/yolov8_data/test/images/9d680c6b-fe55-4c3e-8b8b-207830814daf.jpg: 512x640 (no detections), 6.0ms\n",
      "image 274/320 /tmp/yolov8_data/test/images/9f87c0b2-c0f9-4488-946c-fb38fc3e96b1.jpg: 512x640 1 bowl, 6.0ms\n",
      "image 275/320 /tmp/yolov8_data/test/images/9fa9ec67-42b3-42a1-8e96-c339394617df.jpg: 512x640 1 cake, 6.1ms\n",
      "image 276/320 /tmp/yolov8_data/test/images/a0859425-4b94-489e-93d0-afd67eff88f5.jpg: 512x640 1 hot dog, 7.1ms\n",
      "image 277/320 /tmp/yolov8_data/test/images/a25c1093-0f6c-4265-a6c3-6989700b2315.jpg: 512x640 (no detections), 6.2ms\n",
      "image 278/320 /tmp/yolov8_data/test/images/a25ece32-f0d1-4408-95ae-d003f71358f7.jpg: 512x640 (no detections), 5.9ms\n",
      "image 279/320 /tmp/yolov8_data/test/images/a2ce1e9d-1086-42ba-9596-73ceb9db4470.jpg: 512x640 1 bottle, 6.3ms\n",
      "image 280/320 /tmp/yolov8_data/test/images/a3f50f9f-e2c1-41fc-b52f-8c79e52f56d1.jpg: 512x640 1 bowl, 6.2ms\n",
      "image 281/320 /tmp/yolov8_data/test/images/a438893e-5870-4d11-9476-e47f63ef24b9.jpg: 512x640 1 sports ball, 7.1ms\n",
      "image 282/320 /tmp/yolov8_data/test/images/a4fc9093-b709-4c46-9bc1-55407d60911d.jpg: 512x640 (no detections), 6.1ms\n",
      "image 283/320 /tmp/yolov8_data/test/images/a5302d7a-18f8-4c15-9daa-9b0777f855eb.jpg: 512x640 1 apple, 6.2ms\n",
      "image 284/320 /tmp/yolov8_data/test/images/a5434a4a-53fe-4b03-a9d2-e3dfaf4f7092.jpg: 512x640 1 teddy bear, 6.2ms\n",
      "image 285/320 /tmp/yolov8_data/test/images/a672d9ad-7172-432a-a767-c3d3f4e895ee.jpg: 512x640 1 cake, 6.3ms\n",
      "image 286/320 /tmp/yolov8_data/test/images/a68486e4-d36c-4c3f-9cf1-277d8eb6fb5b.jpg: 512x640 (no detections), 6.2ms\n",
      "image 287/320 /tmp/yolov8_data/test/images/a70fecce-0464-4144-80d2-052ae4e98257.jpg: 512x640 (no detections), 6.0ms\n",
      "image 288/320 /tmp/yolov8_data/test/images/a7d04e67-33af-4f65-a6ac-7b9dc7973a5d.jpg: 512x640 1 cake, 6.3ms\n",
      "image 289/320 /tmp/yolov8_data/test/images/a82012c2-dfa2-4957-9cfc-6c77607caad5.jpg: 512x640 (no detections), 6.1ms\n",
      "image 290/320 /tmp/yolov8_data/test/images/aa3978e4-6885-4919-88bc-bede64743e00.jpg: 512x640 2 persons, 1 tv, 1 teddy bear, 6.8ms\n",
      "image 291/320 /tmp/yolov8_data/test/images/ad21d5f5-0719-4aa7-9609-4a11ed06fad0.jpg: 512x640 1 person, 1 apple, 6.0ms\n",
      "image 292/320 /tmp/yolov8_data/test/images/ad3253e9-34ef-40f3-b249-cc3796f7b1d3.jpg: 512x640 1 bowl, 1 donut, 1 cake, 6.0ms\n",
      "image 293/320 /tmp/yolov8_data/test/images/ad52c424-4141-4d23-a931-084f989f4e46.jpg: 512x640 1 bowl, 1 donut, 6.2ms\n",
      "image 294/320 /tmp/yolov8_data/test/images/ae064b94-fea0-406b-be53-3b248f6ba486.jpg: 512x640 1 teddy bear, 6.1ms\n",
      "image 295/320 /tmp/yolov8_data/test/images/af50d9e5-5590-4404-bba0-db478919a07a.jpg: 512x640 1 cake, 7.1ms\n",
      "image 296/320 /tmp/yolov8_data/test/images/af52d6a8-63b2-4822-a2aa-89ed5530b670.jpg: 512x640 (no detections), 6.0ms\n",
      "image 297/320 /tmp/yolov8_data/test/images/afa527b1-507f-4c1a-8935-cb383b711009.jpg: 512x640 (no detections), 6.6ms\n",
      "image 298/320 /tmp/yolov8_data/test/images/afea1233-5f38-4698-85f0-3ae98d1f7e59.jpg: 512x640 (no detections), 6.3ms\n",
      "image 299/320 /tmp/yolov8_data/test/images/b0f8f838-c09f-4c57-88c1-ec4a0f7d43c3.jpg: 512x640 (no detections), 6.4ms\n",
      "image 300/320 /tmp/yolov8_data/test/images/b14cfcc7-e73d-4a81-9fff-e2ebe024eb4a.jpg: 512x640 (no detections), 6.7ms\n",
      "image 301/320 /tmp/yolov8_data/test/images/b17c4984-2819-4281-893e-850c3117261e.jpg: 512x640 (no detections), 5.8ms\n",
      "image 302/320 /tmp/yolov8_data/test/images/b1ac6bfd-0b17-4b7a-95f5-6af210a6bf8b.jpg: 512x640 1 fork, 1 pizza, 5.8ms\n",
      "image 303/320 /tmp/yolov8_data/test/images/b2f78f3a-8216-4f9e-8412-545fcb4900c1.jpg: 512x640 (no detections), 6.2ms\n",
      "image 304/320 /tmp/yolov8_data/test/images/b43a4c4c-7b97-4af9-a31c-316fb28b43f3.jpg: 512x640 1 teddy bear, 6.8ms\n",
      "image 305/320 /tmp/yolov8_data/test/images/b4980816-74df-4cc0-9b08-cf40035ecc2a.jpg: 512x640 1 scissors, 7.5ms\n",
      "image 306/320 /tmp/yolov8_data/test/images/b49e6b93-4d8b-4cba-8ea1-c0626ed684a0.jpg: 512x640 (no detections), 5.9ms\n",
      "image 307/320 /tmp/yolov8_data/test/images/b8b87fd2-ff81-4284-86b0-2e5e208ce9bf.jpg: 512x640 2 bananas, 5.9ms\n",
      "image 308/320 /tmp/yolov8_data/test/images/b8e4cc4e-c4d7-4eaf-8dc5-ca2bab2fb96a.jpg: 512x640 (no detections), 5.8ms\n",
      "image 309/320 /tmp/yolov8_data/test/images/b9c57cf3-e2e3-494f-a154-35e87afe100e.jpg: 512x640 (no detections), 5.9ms\n",
      "image 310/320 /tmp/yolov8_data/test/images/ba03859d-d9f9-4dcf-b12b-12256e6c69e4.jpg: 512x640 1 person, 1 dog, 6.0ms\n",
      "image 311/320 /tmp/yolov8_data/test/images/bbbc853e-adeb-484e-bafc-3542d419c4bb.jpg: 512x640 1 tie, 5.8ms\n",
      "image 312/320 /tmp/yolov8_data/test/images/bbe1af96-7d4f-4624-bb58-eb88dba08b8a.jpg: 512x640 1 person, 7.9ms\n",
      "image 313/320 /tmp/yolov8_data/test/images/bc60b565-7acc-47ae-8da7-75e7e6d43fbf.jpg: 512x640 1 cake, 5.9ms\n",
      "image 314/320 /tmp/yolov8_data/test/images/bcda0184-b481-483b-89dd-a9b7441e60ff.jpg: 512x640 1 person, 8.5ms\n",
      "image 315/320 /tmp/yolov8_data/test/images/bec068b9-4ac2-4dd6-85f2-171e4b168c3a.jpg: 512x640 1 carrot, 6.2ms\n",
      "image 316/320 /tmp/yolov8_data/test/images/c127c300-7644-459a-9629-80f86ae93107.jpg: 512x640 (no detections), 5.9ms\n",
      "image 317/320 /tmp/yolov8_data/test/images/c151a8dc-64bf-47dc-8865-2fecfcbb612c.jpg: 512x640 1 bed, 5.8ms\n",
      "image 318/320 /tmp/yolov8_data/test/images/c38ae86e-4ae3-4c35-9b59-a2b602a4c76b.jpg: 512x640 (no detections), 7.2ms\n",
      "image 319/320 /tmp/yolov8_data/test/images/c64ec37c-bc16-4095-a60e-51bc3ea1c67f.jpg: 512x640 (no detections), 6.2ms\n",
      "image 320/320 /tmp/yolov8_data/test/images/c67f84a9-dcbd-4265-a2a8-52a683570376.jpg: 512x640 (no detections), 6.1ms\n",
      "Speed: 2.9ms preprocess, 7.7ms inference, 1.2ms postprocess per image at shape (1, 3, 512, 640)\n"
     ]
    }
   ],
   "source": [
    "# Generate predictions on the test set\n",
    "test_yolo_predictions = model('/tmp/yolov8_data/test/images')"
   ]
  },
  {
   "cell_type": "code",
   "execution_count": null,
   "metadata": {
    "colab": {
     "base_uri": "https://localhost:8080/",
     "height": 472
    },
    "executionInfo": {
     "elapsed": 282,
     "status": "ok",
     "timestamp": 1752743460901,
     "user": {
      "displayName": "sadat rahman",
      "userId": "00315844507455805433"
     },
     "user_tz": -360
    },
    "id": "80af145f",
    "outputId": "1f3edebc-0a3b-4610-c8b3-b420d639875f"
   },
   "outputs": [
    {
     "data": {
      "image/png": "[encoded data removed]",
      "text/plain": [
       "<Figure size 640x480 with 2 Axes>"
      ]
     },
     "metadata": {},
     "output_type": "display_data"
    }
   ],
   "source": [
    "import numpy as np\n",
    "from sklearn.metrics import confusion_matrix, ConfusionMatrixDisplay\n",
    "import matplotlib.pyplot as plt\n",
    "import os\n",
    "\n",
    "# Extract true labels and predicted labels from YOLOv8 results\n",
    "test_true_labels_list = []\n",
    "test_predicted_labels_list = []\n",
    "\n",
    "# To get the true labels, we can infer them from the directory structure used\n",
    "# to create the YOLOv8 test data.\n",
    "source_test_normal = '/tmp/test/normal-pylorus'\n",
    "source_test_adnormal = '/tmp/test/polyps'\n",
    "\n",
    "normal_files = os.listdir(source_test_normal)\n",
    "adnormal_files = os.listdir(source_test_adnormal)\n",
    "\n",
    "# Create a mapping from filename to true label\n",
    "true_labels_map = {}\n",
    "for filename in normal_files:\n",
    "    true_labels_map[filename] = 0 # 0 for normal\n",
    "for filename in adnormal_files:\n",
    "    true_labels_map[filename] = 1 # 1 for polyps\n",
    "\n",
    "\n",
    "# Extract predicted labels from YOLOv8 results and align with true labels\n",
    "aligned_true_labels = []\n",
    "aligned_predicted_labels = []\n",
    "\n",
    "# Iterate through the YOLOv8 prediction results\n",
    "for result in test_yolo_predictions:\n",
    "    filename = os.path.basename(result.path)\n",
    "    if filename in true_labels_map: # Only process files that have a corresponding true label\n",
    "        aligned_true_labels.append(true_labels_map[filename])\n",
    "\n",
    "        if result.boxes and len(result.boxes) > 0:\n",
    "            # Get the class with the highest confidence score among detected objects\n",
    "            # Ensure the predicted class ID is 0 or 1\n",
    "            predicted_class_id = int(result.boxes[0].cls[0]) # Take the class of the first detected object\n",
    "            if predicted_class_id not in [0, 1]:\n",
    "                # If the predicted class is outside the expected range,\n",
    "                # we can assign a default class or skip this prediction.\n",
    "                # For simplicity, let's assign it to class 0 (normal) as a default\n",
    "                # or if it's a detection of an unexpected object.\n",
    "                # A more robust approach might involve re-training with correct labels\n",
    "                # or filtering predictions.\n",
    "                predicted_class_id = 0 # Assign to normal if unexpected class detected\n",
    "\n",
    "            aligned_predicted_labels.append(predicted_class_id)\n",
    "        else:\n",
    "            # If no object detected, classify as normal (0) - this is a simplifying assumption\n",
    "            aligned_predicted_labels.append(0)\n",
    "\n",
    "\n",
    "# Generate confusion matrix\n",
    "# Ensure both lists have the same length before generating the confusion matrix\n",
    "if len(aligned_true_labels) == len(aligned_predicted_labels) and len(aligned_true_labels) > 0:\n",
    "    cm = confusion_matrix(aligned_true_labels, aligned_predicted_labels)\n",
    "\n",
    "    # Display confusion matrix\n",
    "    # Define class names based on your problem\n",
    "    class_names = ['normal-pylorus', 'polyps']\n",
    "    disp = ConfusionMatrixDisplay(confusion_matrix=cm, display_labels=class_names)\n",
    "    disp.plot(cmap=plt.cm.Blues)\n",
    "    plt.title('Confusion Matrix - Testing Set (YOLOv8)')\n",
    "    plt.xlabel('Predicted Label')\n",
    "    plt.ylabel('True Label')\n",
    "    plt.show()\n",
    "else:\n",
    "    print(\"Error: Mismatch in the number of true and predicted labels, or no labels found.\")\n",
    "    print(f\"Number of true labels: {len(aligned_true_labels)}\")\n",
    "    print(f\"Number of predicted labels: {len(aligned_predicted_labels)}\")"
   ]
  },
  {
   "cell_type": "code",
   "execution_count": null,
   "metadata": {
    "colab": {
     "base_uri": "https://localhost:8080/",
     "height": 472
    },
    "executionInfo": {
     "elapsed": 151,
     "status": "ok",
     "timestamp": 1752743479456,
     "user": {
      "displayName": "sadat rahman",
      "userId": "00315844507455805433"
     },
     "user_tz": -360
    },
    "id": "3f460919",
    "outputId": "17908366-792f-4252-df79-0e7e8e534bb7"
   },
   "outputs": [
    {
     "data": {
      "image/png": "[encoded data removed]",
      "text/plain": [
       "<Figure size 640x480 with 1 Axes>"
      ]
     },
     "metadata": {},
     "output_type": "display_data"
    }
   ],
   "source": [
    "from sklearn.metrics import roc_curve, auc, RocCurveDisplay\n",
    "import matplotlib.pyplot as plt\n",
    "import numpy as np\n",
    "\n",
    "# Extract predicted probabilities for the positive class (polyps)\n",
    "# Assuming the model output for binary classification with sigmoid is a single value\n",
    "# representing the probability of the positive class (class 1).\n",
    "# If the model output structure is different, this needs adjustment.\n",
    "# For YOLOv8 object detection, the output includes confidence scores for each detected object and class.\n",
    "# We need to extract the confidence score for the predicted class (0 or 1) for each image.\n",
    "\n",
    "# To get the predicted probabilities aligned with the true labels, we need to iterate through the results again\n",
    "# and extract the confidence score for the predicted class for each image.\n",
    "\n",
    "aligned_true_labels = []\n",
    "aligned_predicted_probabilities = []\n",
    "\n",
    "# Re-running the data preparation step to get the mapping\n",
    "source_test_normal = '/tmp/test/normal-pylorus'\n",
    "source_test_adnormal = '/tmp/test/polyps'\n",
    "\n",
    "normal_files = os.listdir(source_test_normal)\n",
    "adnormal_files = os.listdir(source_test_adnormal)\n",
    "\n",
    "# Create a mapping from filename to true label\n",
    "true_labels_map = {}\n",
    "for filename in normal_files:\n",
    "    true_labels_map[filename] = 0 # 0 for normal\n",
    "for filename in adnormal_files:\n",
    "    true_labels_map[filename] = 1 # 1 for polyps\n",
    "\n",
    "\n",
    "# Iterate through the YOLOv8 prediction results to extract probabilities\n",
    "# and align with true labels.\n",
    "# For simplicity, if multiple objects are detected, we'll consider the\n",
    "# highest confidence detection of either class 0 or 1.\n",
    "# If no object is detected, we assign a low probability to class 1 (polyps).\n",
    "\n",
    "# Create a mapping from filename to predicted probability of class 1\n",
    "predicted_probabilities_map = {}\n",
    "for result in test_yolo_predictions:\n",
    "    filename = os.path.basename(result.path)\n",
    "    if result.boxes and len(result.boxes) > 0:\n",
    "        # Find the detection with the highest confidence for class 1 (polyps)\n",
    "        max_prob_class_1 = 0.0\n",
    "        for box in result.boxes:\n",
    "            class_id = int(box.cls[0])\n",
    "            confidence = float(box.conf[0])\n",
    "            if class_id == 1:\n",
    "                max_prob_class_1 = max(max_prob_class_1, confidence)\n",
    "\n",
    "        # Assign the max probability of class 1 detection if found, otherwise 0\n",
    "        predicted_probabilities_map[filename] = max_prob_class_1\n",
    "\n",
    "    else:\n",
    "        # If no object detected, assign a low probability to class 1 (polyps)\n",
    "        predicted_probabilities_map[filename] = 0.0\n",
    "\n",
    "\n",
    "# Align true labels and predicted probabilities based on filenames\n",
    "yolo_test_image_files = os.listdir('/tmp/yolov8_data/test/images')\n",
    "yolo_test_image_files.sort() # Sort to ensure consistent order\n",
    "\n",
    "for filename in yolo_test_image_files:\n",
    "    if filename in true_labels_map and filename in predicted_probabilities_map:\n",
    "        aligned_true_labels.append(true_labels_map[filename])\n",
    "        aligned_predicted_probabilities.append(predicted_probabilities_map[filename])\n",
    "    # Handle cases where a file might be missing in either map if necessary\n",
    "\n",
    "\n",
    "# Calculate ROC curve\n",
    "fpr, tpr, thresholds = roc_curve(aligned_true_labels, aligned_predicted_probabilities)\n",
    "\n",
    "# Calculate AUC\n",
    "roc_auc = auc(fpr, tpr)\n",
    "\n",
    "# Create RocCurveDisplay object\n",
    "display = RocCurveDisplay(fpr=fpr, tpr=tpr, roc_auc=roc_auc, estimator_name='YOLOv8')\n",
    "\n",
    "# Plot ROC curve\n",
    "display.plot()\n",
    "plt.title('ROC Curve - Testing Set (YOLOv8)')\n",
    "plt.xlabel('False Positive Rate')\n",
    "plt.ylabel('True Positive Rate')\n",
    "plt.show()"
   ]
  },
  {
   "cell_type": "code",
   "execution_count": 1,
   "metadata": {
    "colab": {
     "base_uri": "https://localhost:8080/",
     "height": 1000
    },
    "executionInfo": {
     "elapsed": 646,
     "status": "ok",
     "timestamp": 1752895570045,
     "user": {
      "displayName": "sadat rahman",
      "userId": "00315844507455805433"
     },
     "user_tz": -360
    },
    "id": "7a8515ce",
    "outputId": "5ac14de6-269b-4830-816f-df0cca41b8f5"
   },
   "outputs": [
    {
     "name": "stdout",
     "output_type": "stream",
     "text": [
      "Displaying test_confusion_matrix.png:\n"
     ]
    },
    {
     "data": {
      "image/png": "[encoded data removed]",
      "text/plain": [
       "<IPython.core.display.Image object>"
      ]
     },
     "metadata": {},
     "output_type": "display_data"
    },
    {
     "name": "stdout",
     "output_type": "stream",
     "text": [
      "\n",
      "Displaying test_roc_curve.png:\n"
     ]
    },
    {
     "data": {
      "image/png": "[encoded data removed]",
      "text/plain": [
       "<IPython.core.display.Image object>"
      ]
     },
     "metadata": {},
     "output_type": "display_data"
    }
   ],
   "source": [
    "from IPython.display import Image, display\n",
    "\n",
    "print(\"Displaying test_confusion_matrix.png:\")\n",
    "display(Image(filename='test_confusion_matrix.png'))\n",
    "\n",
    "print(\"\\nDisplaying test_roc_curve.png:\")\n",
    "display(Image(filename='test_roc_curve.png'))"
   ]
  }
 ],
 "metadata": {
  "colab": {
   "authorship_tag": "ABX9TyM5/1BcyguKnrGCfkqaG5cp",
   "provenance": []
  },
  "kernelspec": {
   "display_name": "Python 3",
   "name": "python3"
  },
  "language_info": {
   "name": "python"
  }
 },
 "nbformat": 4,
 "nbformat_minor": 0
}
